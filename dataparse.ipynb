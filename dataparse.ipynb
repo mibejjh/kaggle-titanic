{
 "metadata": {
  "name": "",
  "signature": "sha256:924d237bfa323f65ef3d2dee8ad05c462b34e8c7cc09a4920abd5763adc05a06"
 },
 "nbformat": 3,
 "nbformat_minor": 0,
 "worksheets": [
  {
   "cells": [
    {
     "cell_type": "code",
     "collapsed": false,
     "input": [
      "import pandas as pd\n",
      "import numpy as np\n",
      "import tensorflow as tf"
     ],
     "language": "python",
     "metadata": {},
     "outputs": [],
     "prompt_number": 77
    },
    {
     "cell_type": "heading",
     "level": 1,
     "metadata": {},
     "source": [
      "Load Dataset"
     ]
    },
    {
     "cell_type": "code",
     "collapsed": false,
     "input": [
      "pdData = pd.read_csv(\"./dataset/train.csv\")\n",
      "pdData[:10]"
     ],
     "language": "python",
     "metadata": {},
     "outputs": [
      {
       "html": [
        "<div style=\"max-width:1500px;overflow:auto;\">\n",
        "<table border=\"1\" class=\"dataframe\">\n",
        "  <thead>\n",
        "    <tr style=\"text-align: right;\">\n",
        "      <th></th>\n",
        "      <th>PassengerId</th>\n",
        "      <th>Survived</th>\n",
        "      <th>Pclass</th>\n",
        "      <th>Name</th>\n",
        "      <th>Sex</th>\n",
        "      <th>Age</th>\n",
        "      <th>SibSp</th>\n",
        "      <th>Parch</th>\n",
        "      <th>Ticket</th>\n",
        "      <th>Fare</th>\n",
        "      <th>Cabin</th>\n",
        "      <th>Embarked</th>\n",
        "    </tr>\n",
        "  </thead>\n",
        "  <tbody>\n",
        "    <tr>\n",
        "      <th>0</th>\n",
        "      <td>1</td>\n",
        "      <td>0</td>\n",
        "      <td>3</td>\n",
        "      <td>Braund, Mr. Owen Harris</td>\n",
        "      <td>male</td>\n",
        "      <td>22.0</td>\n",
        "      <td>1</td>\n",
        "      <td>0</td>\n",
        "      <td>A/5 21171</td>\n",
        "      <td>7.2500</td>\n",
        "      <td>NaN</td>\n",
        "      <td>S</td>\n",
        "    </tr>\n",
        "    <tr>\n",
        "      <th>1</th>\n",
        "      <td>2</td>\n",
        "      <td>1</td>\n",
        "      <td>1</td>\n",
        "      <td>Cumings, Mrs. John Bradley (Florence Briggs Th...</td>\n",
        "      <td>female</td>\n",
        "      <td>38.0</td>\n",
        "      <td>1</td>\n",
        "      <td>0</td>\n",
        "      <td>PC 17599</td>\n",
        "      <td>71.2833</td>\n",
        "      <td>C85</td>\n",
        "      <td>C</td>\n",
        "    </tr>\n",
        "    <tr>\n",
        "      <th>2</th>\n",
        "      <td>3</td>\n",
        "      <td>1</td>\n",
        "      <td>3</td>\n",
        "      <td>Heikkinen, Miss. Laina</td>\n",
        "      <td>female</td>\n",
        "      <td>26.0</td>\n",
        "      <td>0</td>\n",
        "      <td>0</td>\n",
        "      <td>STON/O2. 3101282</td>\n",
        "      <td>7.9250</td>\n",
        "      <td>NaN</td>\n",
        "      <td>S</td>\n",
        "    </tr>\n",
        "    <tr>\n",
        "      <th>3</th>\n",
        "      <td>4</td>\n",
        "      <td>1</td>\n",
        "      <td>1</td>\n",
        "      <td>Futrelle, Mrs. Jacques Heath (Lily May Peel)</td>\n",
        "      <td>female</td>\n",
        "      <td>35.0</td>\n",
        "      <td>1</td>\n",
        "      <td>0</td>\n",
        "      <td>113803</td>\n",
        "      <td>53.1000</td>\n",
        "      <td>C123</td>\n",
        "      <td>S</td>\n",
        "    </tr>\n",
        "    <tr>\n",
        "      <th>4</th>\n",
        "      <td>5</td>\n",
        "      <td>0</td>\n",
        "      <td>3</td>\n",
        "      <td>Allen, Mr. William Henry</td>\n",
        "      <td>male</td>\n",
        "      <td>35.0</td>\n",
        "      <td>0</td>\n",
        "      <td>0</td>\n",
        "      <td>373450</td>\n",
        "      <td>8.0500</td>\n",
        "      <td>NaN</td>\n",
        "      <td>S</td>\n",
        "    </tr>\n",
        "    <tr>\n",
        "      <th>5</th>\n",
        "      <td>6</td>\n",
        "      <td>0</td>\n",
        "      <td>3</td>\n",
        "      <td>Moran, Mr. James</td>\n",
        "      <td>male</td>\n",
        "      <td>NaN</td>\n",
        "      <td>0</td>\n",
        "      <td>0</td>\n",
        "      <td>330877</td>\n",
        "      <td>8.4583</td>\n",
        "      <td>NaN</td>\n",
        "      <td>Q</td>\n",
        "    </tr>\n",
        "    <tr>\n",
        "      <th>6</th>\n",
        "      <td>7</td>\n",
        "      <td>0</td>\n",
        "      <td>1</td>\n",
        "      <td>McCarthy, Mr. Timothy J</td>\n",
        "      <td>male</td>\n",
        "      <td>54.0</td>\n",
        "      <td>0</td>\n",
        "      <td>0</td>\n",
        "      <td>17463</td>\n",
        "      <td>51.8625</td>\n",
        "      <td>E46</td>\n",
        "      <td>S</td>\n",
        "    </tr>\n",
        "    <tr>\n",
        "      <th>7</th>\n",
        "      <td>8</td>\n",
        "      <td>0</td>\n",
        "      <td>3</td>\n",
        "      <td>Palsson, Master. Gosta Leonard</td>\n",
        "      <td>male</td>\n",
        "      <td>2.0</td>\n",
        "      <td>3</td>\n",
        "      <td>1</td>\n",
        "      <td>349909</td>\n",
        "      <td>21.0750</td>\n",
        "      <td>NaN</td>\n",
        "      <td>S</td>\n",
        "    </tr>\n",
        "    <tr>\n",
        "      <th>8</th>\n",
        "      <td>9</td>\n",
        "      <td>1</td>\n",
        "      <td>3</td>\n",
        "      <td>Johnson, Mrs. Oscar W (Elisabeth Vilhelmina Berg)</td>\n",
        "      <td>female</td>\n",
        "      <td>27.0</td>\n",
        "      <td>0</td>\n",
        "      <td>2</td>\n",
        "      <td>347742</td>\n",
        "      <td>11.1333</td>\n",
        "      <td>NaN</td>\n",
        "      <td>S</td>\n",
        "    </tr>\n",
        "    <tr>\n",
        "      <th>9</th>\n",
        "      <td>10</td>\n",
        "      <td>1</td>\n",
        "      <td>2</td>\n",
        "      <td>Nasser, Mrs. Nicholas (Adele Achem)</td>\n",
        "      <td>female</td>\n",
        "      <td>14.0</td>\n",
        "      <td>1</td>\n",
        "      <td>0</td>\n",
        "      <td>237736</td>\n",
        "      <td>30.0708</td>\n",
        "      <td>NaN</td>\n",
        "      <td>C</td>\n",
        "    </tr>\n",
        "  </tbody>\n",
        "</table>\n",
        "</div>"
       ],
       "metadata": {},
       "output_type": "pyout",
       "prompt_number": 2,
       "text": [
        "   PassengerId  Survived  Pclass  \\\n",
        "0            1         0       3   \n",
        "1            2         1       1   \n",
        "2            3         1       3   \n",
        "3            4         1       1   \n",
        "4            5         0       3   \n",
        "5            6         0       3   \n",
        "6            7         0       1   \n",
        "7            8         0       3   \n",
        "8            9         1       3   \n",
        "9           10         1       2   \n",
        "\n",
        "                                                Name     Sex   Age  SibSp  \\\n",
        "0                            Braund, Mr. Owen Harris    male  22.0      1   \n",
        "1  Cumings, Mrs. John Bradley (Florence Briggs Th...  female  38.0      1   \n",
        "2                             Heikkinen, Miss. Laina  female  26.0      0   \n",
        "3       Futrelle, Mrs. Jacques Heath (Lily May Peel)  female  35.0      1   \n",
        "4                           Allen, Mr. William Henry    male  35.0      0   \n",
        "5                                   Moran, Mr. James    male   NaN      0   \n",
        "6                            McCarthy, Mr. Timothy J    male  54.0      0   \n",
        "7                     Palsson, Master. Gosta Leonard    male   2.0      3   \n",
        "8  Johnson, Mrs. Oscar W (Elisabeth Vilhelmina Berg)  female  27.0      0   \n",
        "9                Nasser, Mrs. Nicholas (Adele Achem)  female  14.0      1   \n",
        "\n",
        "   Parch            Ticket     Fare Cabin Embarked  \n",
        "0      0         A/5 21171   7.2500   NaN        S  \n",
        "1      0          PC 17599  71.2833   C85        C  \n",
        "2      0  STON/O2. 3101282   7.9250   NaN        S  \n",
        "3      0            113803  53.1000  C123        S  \n",
        "4      0            373450   8.0500   NaN        S  \n",
        "5      0            330877   8.4583   NaN        Q  \n",
        "6      0             17463  51.8625   E46        S  \n",
        "7      1            349909  21.0750   NaN        S  \n",
        "8      2            347742  11.1333   NaN        S  \n",
        "9      0            237736  30.0708   NaN        C  "
       ]
      }
     ],
     "prompt_number": 2
    },
    {
     "cell_type": "heading",
     "level": 1,
     "metadata": {},
     "source": [
      "Select necessary data "
     ]
    },
    {
     "cell_type": "code",
     "collapsed": false,
     "input": [
      "pdFilteredData = pdData[['PassengerId','Pclass','Sex','Age','SibSp','Parch','Fare','Embarked', 'Survived']]\n",
      "npData = pdFilteredData.as_matrix()\n",
      "pdFilteredData[:50]"
     ],
     "language": "python",
     "metadata": {},
     "outputs": [
      {
       "html": [
        "<div style=\"max-width:1500px;overflow:auto;\">\n",
        "<table border=\"1\" class=\"dataframe\">\n",
        "  <thead>\n",
        "    <tr style=\"text-align: right;\">\n",
        "      <th></th>\n",
        "      <th>PassengerId</th>\n",
        "      <th>Pclass</th>\n",
        "      <th>Sex</th>\n",
        "      <th>Age</th>\n",
        "      <th>SibSp</th>\n",
        "      <th>Parch</th>\n",
        "      <th>Fare</th>\n",
        "      <th>Embarked</th>\n",
        "      <th>Survived</th>\n",
        "    </tr>\n",
        "  </thead>\n",
        "  <tbody>\n",
        "    <tr>\n",
        "      <th>0</th>\n",
        "      <td>1</td>\n",
        "      <td>3</td>\n",
        "      <td>male</td>\n",
        "      <td>22.0</td>\n",
        "      <td>1</td>\n",
        "      <td>0</td>\n",
        "      <td>7.2500</td>\n",
        "      <td>S</td>\n",
        "      <td>0</td>\n",
        "    </tr>\n",
        "    <tr>\n",
        "      <th>1</th>\n",
        "      <td>2</td>\n",
        "      <td>1</td>\n",
        "      <td>female</td>\n",
        "      <td>38.0</td>\n",
        "      <td>1</td>\n",
        "      <td>0</td>\n",
        "      <td>71.2833</td>\n",
        "      <td>C</td>\n",
        "      <td>1</td>\n",
        "    </tr>\n",
        "    <tr>\n",
        "      <th>2</th>\n",
        "      <td>3</td>\n",
        "      <td>3</td>\n",
        "      <td>female</td>\n",
        "      <td>26.0</td>\n",
        "      <td>0</td>\n",
        "      <td>0</td>\n",
        "      <td>7.9250</td>\n",
        "      <td>S</td>\n",
        "      <td>1</td>\n",
        "    </tr>\n",
        "    <tr>\n",
        "      <th>3</th>\n",
        "      <td>4</td>\n",
        "      <td>1</td>\n",
        "      <td>female</td>\n",
        "      <td>35.0</td>\n",
        "      <td>1</td>\n",
        "      <td>0</td>\n",
        "      <td>53.1000</td>\n",
        "      <td>S</td>\n",
        "      <td>1</td>\n",
        "    </tr>\n",
        "    <tr>\n",
        "      <th>4</th>\n",
        "      <td>5</td>\n",
        "      <td>3</td>\n",
        "      <td>male</td>\n",
        "      <td>35.0</td>\n",
        "      <td>0</td>\n",
        "      <td>0</td>\n",
        "      <td>8.0500</td>\n",
        "      <td>S</td>\n",
        "      <td>0</td>\n",
        "    </tr>\n",
        "    <tr>\n",
        "      <th>5</th>\n",
        "      <td>6</td>\n",
        "      <td>3</td>\n",
        "      <td>male</td>\n",
        "      <td>NaN</td>\n",
        "      <td>0</td>\n",
        "      <td>0</td>\n",
        "      <td>8.4583</td>\n",
        "      <td>Q</td>\n",
        "      <td>0</td>\n",
        "    </tr>\n",
        "    <tr>\n",
        "      <th>6</th>\n",
        "      <td>7</td>\n",
        "      <td>1</td>\n",
        "      <td>male</td>\n",
        "      <td>54.0</td>\n",
        "      <td>0</td>\n",
        "      <td>0</td>\n",
        "      <td>51.8625</td>\n",
        "      <td>S</td>\n",
        "      <td>0</td>\n",
        "    </tr>\n",
        "    <tr>\n",
        "      <th>7</th>\n",
        "      <td>8</td>\n",
        "      <td>3</td>\n",
        "      <td>male</td>\n",
        "      <td>2.0</td>\n",
        "      <td>3</td>\n",
        "      <td>1</td>\n",
        "      <td>21.0750</td>\n",
        "      <td>S</td>\n",
        "      <td>0</td>\n",
        "    </tr>\n",
        "    <tr>\n",
        "      <th>8</th>\n",
        "      <td>9</td>\n",
        "      <td>3</td>\n",
        "      <td>female</td>\n",
        "      <td>27.0</td>\n",
        "      <td>0</td>\n",
        "      <td>2</td>\n",
        "      <td>11.1333</td>\n",
        "      <td>S</td>\n",
        "      <td>1</td>\n",
        "    </tr>\n",
        "    <tr>\n",
        "      <th>9</th>\n",
        "      <td>10</td>\n",
        "      <td>2</td>\n",
        "      <td>female</td>\n",
        "      <td>14.0</td>\n",
        "      <td>1</td>\n",
        "      <td>0</td>\n",
        "      <td>30.0708</td>\n",
        "      <td>C</td>\n",
        "      <td>1</td>\n",
        "    </tr>\n",
        "    <tr>\n",
        "      <th>10</th>\n",
        "      <td>11</td>\n",
        "      <td>3</td>\n",
        "      <td>female</td>\n",
        "      <td>4.0</td>\n",
        "      <td>1</td>\n",
        "      <td>1</td>\n",
        "      <td>16.7000</td>\n",
        "      <td>S</td>\n",
        "      <td>1</td>\n",
        "    </tr>\n",
        "    <tr>\n",
        "      <th>11</th>\n",
        "      <td>12</td>\n",
        "      <td>1</td>\n",
        "      <td>female</td>\n",
        "      <td>58.0</td>\n",
        "      <td>0</td>\n",
        "      <td>0</td>\n",
        "      <td>26.5500</td>\n",
        "      <td>S</td>\n",
        "      <td>1</td>\n",
        "    </tr>\n",
        "    <tr>\n",
        "      <th>12</th>\n",
        "      <td>13</td>\n",
        "      <td>3</td>\n",
        "      <td>male</td>\n",
        "      <td>20.0</td>\n",
        "      <td>0</td>\n",
        "      <td>0</td>\n",
        "      <td>8.0500</td>\n",
        "      <td>S</td>\n",
        "      <td>0</td>\n",
        "    </tr>\n",
        "    <tr>\n",
        "      <th>13</th>\n",
        "      <td>14</td>\n",
        "      <td>3</td>\n",
        "      <td>male</td>\n",
        "      <td>39.0</td>\n",
        "      <td>1</td>\n",
        "      <td>5</td>\n",
        "      <td>31.2750</td>\n",
        "      <td>S</td>\n",
        "      <td>0</td>\n",
        "    </tr>\n",
        "    <tr>\n",
        "      <th>14</th>\n",
        "      <td>15</td>\n",
        "      <td>3</td>\n",
        "      <td>female</td>\n",
        "      <td>14.0</td>\n",
        "      <td>0</td>\n",
        "      <td>0</td>\n",
        "      <td>7.8542</td>\n",
        "      <td>S</td>\n",
        "      <td>0</td>\n",
        "    </tr>\n",
        "    <tr>\n",
        "      <th>15</th>\n",
        "      <td>16</td>\n",
        "      <td>2</td>\n",
        "      <td>female</td>\n",
        "      <td>55.0</td>\n",
        "      <td>0</td>\n",
        "      <td>0</td>\n",
        "      <td>16.0000</td>\n",
        "      <td>S</td>\n",
        "      <td>1</td>\n",
        "    </tr>\n",
        "    <tr>\n",
        "      <th>16</th>\n",
        "      <td>17</td>\n",
        "      <td>3</td>\n",
        "      <td>male</td>\n",
        "      <td>2.0</td>\n",
        "      <td>4</td>\n",
        "      <td>1</td>\n",
        "      <td>29.1250</td>\n",
        "      <td>Q</td>\n",
        "      <td>0</td>\n",
        "    </tr>\n",
        "    <tr>\n",
        "      <th>17</th>\n",
        "      <td>18</td>\n",
        "      <td>2</td>\n",
        "      <td>male</td>\n",
        "      <td>NaN</td>\n",
        "      <td>0</td>\n",
        "      <td>0</td>\n",
        "      <td>13.0000</td>\n",
        "      <td>S</td>\n",
        "      <td>1</td>\n",
        "    </tr>\n",
        "    <tr>\n",
        "      <th>18</th>\n",
        "      <td>19</td>\n",
        "      <td>3</td>\n",
        "      <td>female</td>\n",
        "      <td>31.0</td>\n",
        "      <td>1</td>\n",
        "      <td>0</td>\n",
        "      <td>18.0000</td>\n",
        "      <td>S</td>\n",
        "      <td>0</td>\n",
        "    </tr>\n",
        "    <tr>\n",
        "      <th>19</th>\n",
        "      <td>20</td>\n",
        "      <td>3</td>\n",
        "      <td>female</td>\n",
        "      <td>NaN</td>\n",
        "      <td>0</td>\n",
        "      <td>0</td>\n",
        "      <td>7.2250</td>\n",
        "      <td>C</td>\n",
        "      <td>1</td>\n",
        "    </tr>\n",
        "    <tr>\n",
        "      <th>20</th>\n",
        "      <td>21</td>\n",
        "      <td>2</td>\n",
        "      <td>male</td>\n",
        "      <td>35.0</td>\n",
        "      <td>0</td>\n",
        "      <td>0</td>\n",
        "      <td>26.0000</td>\n",
        "      <td>S</td>\n",
        "      <td>0</td>\n",
        "    </tr>\n",
        "    <tr>\n",
        "      <th>21</th>\n",
        "      <td>22</td>\n",
        "      <td>2</td>\n",
        "      <td>male</td>\n",
        "      <td>34.0</td>\n",
        "      <td>0</td>\n",
        "      <td>0</td>\n",
        "      <td>13.0000</td>\n",
        "      <td>S</td>\n",
        "      <td>1</td>\n",
        "    </tr>\n",
        "    <tr>\n",
        "      <th>22</th>\n",
        "      <td>23</td>\n",
        "      <td>3</td>\n",
        "      <td>female</td>\n",
        "      <td>15.0</td>\n",
        "      <td>0</td>\n",
        "      <td>0</td>\n",
        "      <td>8.0292</td>\n",
        "      <td>Q</td>\n",
        "      <td>1</td>\n",
        "    </tr>\n",
        "    <tr>\n",
        "      <th>23</th>\n",
        "      <td>24</td>\n",
        "      <td>1</td>\n",
        "      <td>male</td>\n",
        "      <td>28.0</td>\n",
        "      <td>0</td>\n",
        "      <td>0</td>\n",
        "      <td>35.5000</td>\n",
        "      <td>S</td>\n",
        "      <td>1</td>\n",
        "    </tr>\n",
        "    <tr>\n",
        "      <th>24</th>\n",
        "      <td>25</td>\n",
        "      <td>3</td>\n",
        "      <td>female</td>\n",
        "      <td>8.0</td>\n",
        "      <td>3</td>\n",
        "      <td>1</td>\n",
        "      <td>21.0750</td>\n",
        "      <td>S</td>\n",
        "      <td>0</td>\n",
        "    </tr>\n",
        "    <tr>\n",
        "      <th>25</th>\n",
        "      <td>26</td>\n",
        "      <td>3</td>\n",
        "      <td>female</td>\n",
        "      <td>38.0</td>\n",
        "      <td>1</td>\n",
        "      <td>5</td>\n",
        "      <td>31.3875</td>\n",
        "      <td>S</td>\n",
        "      <td>1</td>\n",
        "    </tr>\n",
        "    <tr>\n",
        "      <th>26</th>\n",
        "      <td>27</td>\n",
        "      <td>3</td>\n",
        "      <td>male</td>\n",
        "      <td>NaN</td>\n",
        "      <td>0</td>\n",
        "      <td>0</td>\n",
        "      <td>7.2250</td>\n",
        "      <td>C</td>\n",
        "      <td>0</td>\n",
        "    </tr>\n",
        "    <tr>\n",
        "      <th>27</th>\n",
        "      <td>28</td>\n",
        "      <td>1</td>\n",
        "      <td>male</td>\n",
        "      <td>19.0</td>\n",
        "      <td>3</td>\n",
        "      <td>2</td>\n",
        "      <td>263.0000</td>\n",
        "      <td>S</td>\n",
        "      <td>0</td>\n",
        "    </tr>\n",
        "    <tr>\n",
        "      <th>28</th>\n",
        "      <td>29</td>\n",
        "      <td>3</td>\n",
        "      <td>female</td>\n",
        "      <td>NaN</td>\n",
        "      <td>0</td>\n",
        "      <td>0</td>\n",
        "      <td>7.8792</td>\n",
        "      <td>Q</td>\n",
        "      <td>1</td>\n",
        "    </tr>\n",
        "    <tr>\n",
        "      <th>29</th>\n",
        "      <td>30</td>\n",
        "      <td>3</td>\n",
        "      <td>male</td>\n",
        "      <td>NaN</td>\n",
        "      <td>0</td>\n",
        "      <td>0</td>\n",
        "      <td>7.8958</td>\n",
        "      <td>S</td>\n",
        "      <td>0</td>\n",
        "    </tr>\n",
        "    <tr>\n",
        "      <th>30</th>\n",
        "      <td>31</td>\n",
        "      <td>1</td>\n",
        "      <td>male</td>\n",
        "      <td>40.0</td>\n",
        "      <td>0</td>\n",
        "      <td>0</td>\n",
        "      <td>27.7208</td>\n",
        "      <td>C</td>\n",
        "      <td>0</td>\n",
        "    </tr>\n",
        "    <tr>\n",
        "      <th>31</th>\n",
        "      <td>32</td>\n",
        "      <td>1</td>\n",
        "      <td>female</td>\n",
        "      <td>NaN</td>\n",
        "      <td>1</td>\n",
        "      <td>0</td>\n",
        "      <td>146.5208</td>\n",
        "      <td>C</td>\n",
        "      <td>1</td>\n",
        "    </tr>\n",
        "    <tr>\n",
        "      <th>32</th>\n",
        "      <td>33</td>\n",
        "      <td>3</td>\n",
        "      <td>female</td>\n",
        "      <td>NaN</td>\n",
        "      <td>0</td>\n",
        "      <td>0</td>\n",
        "      <td>7.7500</td>\n",
        "      <td>Q</td>\n",
        "      <td>1</td>\n",
        "    </tr>\n",
        "    <tr>\n",
        "      <th>33</th>\n",
        "      <td>34</td>\n",
        "      <td>2</td>\n",
        "      <td>male</td>\n",
        "      <td>66.0</td>\n",
        "      <td>0</td>\n",
        "      <td>0</td>\n",
        "      <td>10.5000</td>\n",
        "      <td>S</td>\n",
        "      <td>0</td>\n",
        "    </tr>\n",
        "    <tr>\n",
        "      <th>34</th>\n",
        "      <td>35</td>\n",
        "      <td>1</td>\n",
        "      <td>male</td>\n",
        "      <td>28.0</td>\n",
        "      <td>1</td>\n",
        "      <td>0</td>\n",
        "      <td>82.1708</td>\n",
        "      <td>C</td>\n",
        "      <td>0</td>\n",
        "    </tr>\n",
        "    <tr>\n",
        "      <th>35</th>\n",
        "      <td>36</td>\n",
        "      <td>1</td>\n",
        "      <td>male</td>\n",
        "      <td>42.0</td>\n",
        "      <td>1</td>\n",
        "      <td>0</td>\n",
        "      <td>52.0000</td>\n",
        "      <td>S</td>\n",
        "      <td>0</td>\n",
        "    </tr>\n",
        "    <tr>\n",
        "      <th>36</th>\n",
        "      <td>37</td>\n",
        "      <td>3</td>\n",
        "      <td>male</td>\n",
        "      <td>NaN</td>\n",
        "      <td>0</td>\n",
        "      <td>0</td>\n",
        "      <td>7.2292</td>\n",
        "      <td>C</td>\n",
        "      <td>1</td>\n",
        "    </tr>\n",
        "    <tr>\n",
        "      <th>37</th>\n",
        "      <td>38</td>\n",
        "      <td>3</td>\n",
        "      <td>male</td>\n",
        "      <td>21.0</td>\n",
        "      <td>0</td>\n",
        "      <td>0</td>\n",
        "      <td>8.0500</td>\n",
        "      <td>S</td>\n",
        "      <td>0</td>\n",
        "    </tr>\n",
        "    <tr>\n",
        "      <th>38</th>\n",
        "      <td>39</td>\n",
        "      <td>3</td>\n",
        "      <td>female</td>\n",
        "      <td>18.0</td>\n",
        "      <td>2</td>\n",
        "      <td>0</td>\n",
        "      <td>18.0000</td>\n",
        "      <td>S</td>\n",
        "      <td>0</td>\n",
        "    </tr>\n",
        "    <tr>\n",
        "      <th>39</th>\n",
        "      <td>40</td>\n",
        "      <td>3</td>\n",
        "      <td>female</td>\n",
        "      <td>14.0</td>\n",
        "      <td>1</td>\n",
        "      <td>0</td>\n",
        "      <td>11.2417</td>\n",
        "      <td>C</td>\n",
        "      <td>1</td>\n",
        "    </tr>\n",
        "    <tr>\n",
        "      <th>40</th>\n",
        "      <td>41</td>\n",
        "      <td>3</td>\n",
        "      <td>female</td>\n",
        "      <td>40.0</td>\n",
        "      <td>1</td>\n",
        "      <td>0</td>\n",
        "      <td>9.4750</td>\n",
        "      <td>S</td>\n",
        "      <td>0</td>\n",
        "    </tr>\n",
        "    <tr>\n",
        "      <th>41</th>\n",
        "      <td>42</td>\n",
        "      <td>2</td>\n",
        "      <td>female</td>\n",
        "      <td>27.0</td>\n",
        "      <td>1</td>\n",
        "      <td>0</td>\n",
        "      <td>21.0000</td>\n",
        "      <td>S</td>\n",
        "      <td>0</td>\n",
        "    </tr>\n",
        "    <tr>\n",
        "      <th>42</th>\n",
        "      <td>43</td>\n",
        "      <td>3</td>\n",
        "      <td>male</td>\n",
        "      <td>NaN</td>\n",
        "      <td>0</td>\n",
        "      <td>0</td>\n",
        "      <td>7.8958</td>\n",
        "      <td>C</td>\n",
        "      <td>0</td>\n",
        "    </tr>\n",
        "    <tr>\n",
        "      <th>43</th>\n",
        "      <td>44</td>\n",
        "      <td>2</td>\n",
        "      <td>female</td>\n",
        "      <td>3.0</td>\n",
        "      <td>1</td>\n",
        "      <td>2</td>\n",
        "      <td>41.5792</td>\n",
        "      <td>C</td>\n",
        "      <td>1</td>\n",
        "    </tr>\n",
        "    <tr>\n",
        "      <th>44</th>\n",
        "      <td>45</td>\n",
        "      <td>3</td>\n",
        "      <td>female</td>\n",
        "      <td>19.0</td>\n",
        "      <td>0</td>\n",
        "      <td>0</td>\n",
        "      <td>7.8792</td>\n",
        "      <td>Q</td>\n",
        "      <td>1</td>\n",
        "    </tr>\n",
        "    <tr>\n",
        "      <th>45</th>\n",
        "      <td>46</td>\n",
        "      <td>3</td>\n",
        "      <td>male</td>\n",
        "      <td>NaN</td>\n",
        "      <td>0</td>\n",
        "      <td>0</td>\n",
        "      <td>8.0500</td>\n",
        "      <td>S</td>\n",
        "      <td>0</td>\n",
        "    </tr>\n",
        "    <tr>\n",
        "      <th>46</th>\n",
        "      <td>47</td>\n",
        "      <td>3</td>\n",
        "      <td>male</td>\n",
        "      <td>NaN</td>\n",
        "      <td>1</td>\n",
        "      <td>0</td>\n",
        "      <td>15.5000</td>\n",
        "      <td>Q</td>\n",
        "      <td>0</td>\n",
        "    </tr>\n",
        "    <tr>\n",
        "      <th>47</th>\n",
        "      <td>48</td>\n",
        "      <td>3</td>\n",
        "      <td>female</td>\n",
        "      <td>NaN</td>\n",
        "      <td>0</td>\n",
        "      <td>0</td>\n",
        "      <td>7.7500</td>\n",
        "      <td>Q</td>\n",
        "      <td>1</td>\n",
        "    </tr>\n",
        "    <tr>\n",
        "      <th>48</th>\n",
        "      <td>49</td>\n",
        "      <td>3</td>\n",
        "      <td>male</td>\n",
        "      <td>NaN</td>\n",
        "      <td>2</td>\n",
        "      <td>0</td>\n",
        "      <td>21.6792</td>\n",
        "      <td>C</td>\n",
        "      <td>0</td>\n",
        "    </tr>\n",
        "    <tr>\n",
        "      <th>49</th>\n",
        "      <td>50</td>\n",
        "      <td>3</td>\n",
        "      <td>female</td>\n",
        "      <td>18.0</td>\n",
        "      <td>1</td>\n",
        "      <td>0</td>\n",
        "      <td>17.8000</td>\n",
        "      <td>S</td>\n",
        "      <td>0</td>\n",
        "    </tr>\n",
        "  </tbody>\n",
        "</table>\n",
        "</div>"
       ],
       "metadata": {},
       "output_type": "pyout",
       "prompt_number": 3,
       "text": [
        "    PassengerId  Pclass     Sex   Age  SibSp  Parch      Fare Embarked  \\\n",
        "0             1       3    male  22.0      1      0    7.2500        S   \n",
        "1             2       1  female  38.0      1      0   71.2833        C   \n",
        "2             3       3  female  26.0      0      0    7.9250        S   \n",
        "3             4       1  female  35.0      1      0   53.1000        S   \n",
        "4             5       3    male  35.0      0      0    8.0500        S   \n",
        "5             6       3    male   NaN      0      0    8.4583        Q   \n",
        "6             7       1    male  54.0      0      0   51.8625        S   \n",
        "7             8       3    male   2.0      3      1   21.0750        S   \n",
        "8             9       3  female  27.0      0      2   11.1333        S   \n",
        "9            10       2  female  14.0      1      0   30.0708        C   \n",
        "10           11       3  female   4.0      1      1   16.7000        S   \n",
        "11           12       1  female  58.0      0      0   26.5500        S   \n",
        "12           13       3    male  20.0      0      0    8.0500        S   \n",
        "13           14       3    male  39.0      1      5   31.2750        S   \n",
        "14           15       3  female  14.0      0      0    7.8542        S   \n",
        "15           16       2  female  55.0      0      0   16.0000        S   \n",
        "16           17       3    male   2.0      4      1   29.1250        Q   \n",
        "17           18       2    male   NaN      0      0   13.0000        S   \n",
        "18           19       3  female  31.0      1      0   18.0000        S   \n",
        "19           20       3  female   NaN      0      0    7.2250        C   \n",
        "20           21       2    male  35.0      0      0   26.0000        S   \n",
        "21           22       2    male  34.0      0      0   13.0000        S   \n",
        "22           23       3  female  15.0      0      0    8.0292        Q   \n",
        "23           24       1    male  28.0      0      0   35.5000        S   \n",
        "24           25       3  female   8.0      3      1   21.0750        S   \n",
        "25           26       3  female  38.0      1      5   31.3875        S   \n",
        "26           27       3    male   NaN      0      0    7.2250        C   \n",
        "27           28       1    male  19.0      3      2  263.0000        S   \n",
        "28           29       3  female   NaN      0      0    7.8792        Q   \n",
        "29           30       3    male   NaN      0      0    7.8958        S   \n",
        "30           31       1    male  40.0      0      0   27.7208        C   \n",
        "31           32       1  female   NaN      1      0  146.5208        C   \n",
        "32           33       3  female   NaN      0      0    7.7500        Q   \n",
        "33           34       2    male  66.0      0      0   10.5000        S   \n",
        "34           35       1    male  28.0      1      0   82.1708        C   \n",
        "35           36       1    male  42.0      1      0   52.0000        S   \n",
        "36           37       3    male   NaN      0      0    7.2292        C   \n",
        "37           38       3    male  21.0      0      0    8.0500        S   \n",
        "38           39       3  female  18.0      2      0   18.0000        S   \n",
        "39           40       3  female  14.0      1      0   11.2417        C   \n",
        "40           41       3  female  40.0      1      0    9.4750        S   \n",
        "41           42       2  female  27.0      1      0   21.0000        S   \n",
        "42           43       3    male   NaN      0      0    7.8958        C   \n",
        "43           44       2  female   3.0      1      2   41.5792        C   \n",
        "44           45       3  female  19.0      0      0    7.8792        Q   \n",
        "45           46       3    male   NaN      0      0    8.0500        S   \n",
        "46           47       3    male   NaN      1      0   15.5000        Q   \n",
        "47           48       3  female   NaN      0      0    7.7500        Q   \n",
        "48           49       3    male   NaN      2      0   21.6792        C   \n",
        "49           50       3  female  18.0      1      0   17.8000        S   \n",
        "\n",
        "    Survived  \n",
        "0          0  \n",
        "1          1  \n",
        "2          1  \n",
        "3          1  \n",
        "4          0  \n",
        "5          0  \n",
        "6          0  \n",
        "7          0  \n",
        "8          1  \n",
        "9          1  \n",
        "10         1  \n",
        "11         1  \n",
        "12         0  \n",
        "13         0  \n",
        "14         0  \n",
        "15         1  \n",
        "16         0  \n",
        "17         1  \n",
        "18         0  \n",
        "19         1  \n",
        "20         0  \n",
        "21         1  \n",
        "22         1  \n",
        "23         1  \n",
        "24         0  \n",
        "25         1  \n",
        "26         0  \n",
        "27         0  \n",
        "28         1  \n",
        "29         0  \n",
        "30         0  \n",
        "31         1  \n",
        "32         1  \n",
        "33         0  \n",
        "34         0  \n",
        "35         0  \n",
        "36         1  \n",
        "37         0  \n",
        "38         0  \n",
        "39         1  \n",
        "40         0  \n",
        "41         0  \n",
        "42         0  \n",
        "43         1  \n",
        "44         1  \n",
        "45         0  \n",
        "46         0  \n",
        "47         1  \n",
        "48         0  \n",
        "49         0  "
       ]
      }
     ],
     "prompt_number": 3
    },
    {
     "cell_type": "heading",
     "level": 1,
     "metadata": {},
     "source": [
      "Change none-numerical data to numerical data"
     ]
    },
    {
     "cell_type": "code",
     "collapsed": false,
     "input": [
      "npData[npData[:,2] == 'male', 2]= 1\n",
      "npData[npData[:,2] == 'female', 2] = 0\n",
      "\n",
      "npData[npData[:,7] == 'C', 7]= 0\n",
      "npData[npData[:,7] == 'Q', 7]= 1\n",
      "npData[npData[:,7] == 'S', 7]= 2\n",
      "\n",
      "npFloatData = npData[:,1:].astype(np.float32)\n",
      "npData.shape, npFloatData.shape"
     ],
     "language": "python",
     "metadata": {},
     "outputs": [
      {
       "metadata": {},
       "output_type": "pyout",
       "prompt_number": 4,
       "text": [
        "((891, 9), (891, 8))"
       ]
      }
     ],
     "prompt_number": 4
    },
    {
     "cell_type": "code",
     "collapsed": false,
     "input": [
      "npFloatData = npFloatData[ ~ np.isnan( np.sum(npFloatData, axis=1))]\n",
      "npCorrectOutput = tf.one_hot(npFloatData[:,7], depth=2).eval().astype(dtype=np.float32)\n",
      "npFloatData, npFloatData.shape, npCorrectOutput"
     ],
     "language": "python",
     "metadata": {},
     "outputs": [
      {
       "metadata": {},
       "output_type": "pyout",
       "prompt_number": 91,
       "text": [
        "(array([[  3.        ,   1.        ,  22.        , ...,   7.25      ,\n",
        "           2.        ,   0.        ],\n",
        "        [  1.        ,   0.        ,  38.        , ...,  71.28330231,\n",
        "           0.        ,   1.        ],\n",
        "        [  3.        ,   0.        ,  26.        , ...,   7.92500019,\n",
        "           2.        ,   1.        ],\n",
        "        ..., \n",
        "        [  1.        ,   0.        ,  19.        , ...,  30.        ,\n",
        "           2.        ,   1.        ],\n",
        "        [  1.        ,   1.        ,  26.        , ...,  30.        ,\n",
        "           0.        ,   1.        ],\n",
        "        [  3.        ,   1.        ,  32.        , ...,   7.75      ,\n",
        "           1.        ,   0.        ]], dtype=float32),\n",
        " (712, 8),\n",
        " array([[ 1.,  0.],\n",
        "        [ 0.,  1.],\n",
        "        [ 0.,  1.],\n",
        "        ..., \n",
        "        [ 0.,  1.],\n",
        "        [ 0.,  1.],\n",
        "        [ 1.,  0.]], dtype=float32))"
       ]
      }
     ],
     "prompt_number": 91
    },
    {
     "cell_type": "heading",
     "level": 1,
     "metadata": {},
     "source": [
      "Now Input Data is READY!!!!!"
     ]
    },
    {
     "cell_type": "markdown",
     "metadata": {},
     "source": [
      "Now Prepare **Tensorflow**"
     ]
    },
    {
     "cell_type": "code",
     "collapsed": false,
     "input": [
      "sess = tf.InteractiveSession()"
     ],
     "language": "python",
     "metadata": {},
     "outputs": [],
     "prompt_number": 92
    },
    {
     "cell_type": "code",
     "collapsed": false,
     "input": [
      "x = tf.placeholder(dtype=tf.float32, shape=[None, 7])\n",
      "y_ = tf.placeholder(dtype=tf.float32, shape = [None, 2])"
     ],
     "language": "python",
     "metadata": {},
     "outputs": [],
     "prompt_number": 93
    },
    {
     "cell_type": "code",
     "collapsed": false,
     "input": [
      "w1 = tf.Variable(tf.random_normal([7, 6], stddev=0.001))\n",
      "b1 = tf.Variable(tf.random_normal([6], stddev=0.001))\n",
      "\n",
      "w2 = tf.Variable(tf.random_normal([6, 2], stddev=0.001))\n",
      "b2 = tf.Variable(tf.random_normal([2], stddev=0.001))\n",
      "\n",
      "tf.global_variables_initializer().run()"
     ],
     "language": "python",
     "metadata": {},
     "outputs": [],
     "prompt_number": 94
    },
    {
     "cell_type": "markdown",
     "metadata": {},
     "source": [
      "Initialized \ub410\ub294\uc9c0 \ud655\uc778\ud558\uae30"
     ]
    },
    {
     "cell_type": "code",
     "collapsed": false,
     "input": [
      "w1.eval(), b1.eval(), w2.eval(), b2.eval()"
     ],
     "language": "python",
     "metadata": {},
     "outputs": [
      {
       "metadata": {},
       "output_type": "pyout",
       "prompt_number": 95,
       "text": [
        "(array([[  5.23707713e-04,  -1.27685908e-03,  -2.83696176e-03,\n",
        "          -7.46128862e-05,   1.28874113e-03,  -1.61294360e-03],\n",
        "        [  1.23435282e-03,  -1.46808405e-03,  -1.03426329e-03,\n",
        "           6.47253823e-04,   7.70881714e-04,   1.18320939e-04],\n",
        "        [  5.83653382e-05,  -8.42403795e-04,  -1.92186781e-04,\n",
        "           1.51737549e-05,   2.55735475e-04,   9.84381695e-05],\n",
        "        [ -6.75911724e-04,  -6.54848467e-04,   1.71466370e-03,\n",
        "          -6.07548631e-04,   1.27820857e-03,   3.32606345e-04],\n",
        "        [ -3.16003745e-04,   1.38509111e-03,  -1.98290509e-05,\n",
        "          -3.57373996e-04,  -1.59093679e-03,  -3.86789354e-04],\n",
        "        [ -9.81964287e-04,  -3.34238051e-04,   2.12292629e-03,\n",
        "           2.00951844e-03,   7.12629873e-04,  -6.42475847e-04],\n",
        "        [  1.76470238e-03,   1.62746815e-04,  -4.21499019e-04,\n",
        "           6.37103512e-04,   6.27942500e-04,   8.39040964e-04]], dtype=float32),\n",
        " array([ 0.0003515 , -0.00047613, -0.00081097, -0.00118196, -0.00224007,\n",
        "        -0.0002061 ], dtype=float32),\n",
        " array([[-0.00057741, -0.0001436 ],\n",
        "        [-0.00141308, -0.00024328],\n",
        "        [-0.00136747,  0.00102135],\n",
        "        [-0.00065366,  0.00104946],\n",
        "        [ 0.00087922, -0.00034027],\n",
        "        [-0.0004563 , -0.00034528]], dtype=float32),\n",
        " array([-0.00210212,  0.00026004], dtype=float32))"
       ]
      }
     ],
     "prompt_number": 95
    },
    {
     "cell_type": "markdown",
     "metadata": {},
     "source": [
      "**1st Layer**"
     ]
    },
    {
     "cell_type": "code",
     "collapsed": false,
     "input": [
      "y1 = tf.matmul(x, w1) + b1\n",
      "x1 = tf.nn.sigmoid(y1)"
     ],
     "language": "python",
     "metadata": {},
     "outputs": [],
     "prompt_number": 96
    },
    {
     "cell_type": "markdown",
     "metadata": {},
     "source": [
      "**2nd Layer**"
     ]
    },
    {
     "cell_type": "code",
     "collapsed": false,
     "input": [
      "y = tf.matmul(x1, w2) + b2\n"
     ],
     "language": "python",
     "metadata": {},
     "outputs": [],
     "prompt_number": 97
    },
    {
     "cell_type": "markdown",
     "metadata": {},
     "source": [
      "**Loss**"
     ]
    },
    {
     "cell_type": "code",
     "collapsed": false,
     "input": [
      "arrLoss = tf.nn.softmax_cross_entropy_with_logits(labels=y_, logits=y)"
     ],
     "language": "python",
     "metadata": {},
     "outputs": [],
     "prompt_number": 98
    },
    {
     "cell_type": "code",
     "collapsed": false,
     "input": [
      "arrLoss.eval(feed_dict={x:npFloatData[:100, :7] , y_:npCorrectOutput[:100]}).shape"
     ],
     "language": "python",
     "metadata": {},
     "outputs": [
      {
       "metadata": {},
       "output_type": "pyout",
       "prompt_number": 99,
       "text": [
        "(100,)"
       ]
      }
     ],
     "prompt_number": 99
    },
    {
     "cell_type": "code",
     "collapsed": false,
     "input": [
      "loss = tf.reduce_sum(arrLoss)"
     ],
     "language": "python",
     "metadata": {},
     "outputs": [],
     "prompt_number": 100
    },
    {
     "cell_type": "code",
     "collapsed": false,
     "input": [
      "eval_y = y.eval(feed_dict={x:npFloatData[:100, :7] , y_:npCorrectOutput[:100]})"
     ],
     "language": "python",
     "metadata": {},
     "outputs": [],
     "prompt_number": 102
    },
    {
     "cell_type": "code",
     "collapsed": false,
     "input": [
      " tf.nn.softmax(eval_y[:10]).eval(),   tf.nn.softmax(npCorrectOutput[:10]).eval()"
     ],
     "language": "python",
     "metadata": {},
     "outputs": [
      {
       "metadata": {},
       "output_type": "pyout",
       "prompt_number": 105,
       "text": [
        "(array([[ 0.49883744,  0.50116253],\n",
        "        [ 0.49881086,  0.50118917],\n",
        "        [ 0.49883741,  0.50116259],\n",
        "        [ 0.4988181 ,  0.5011819 ],\n",
        "        [ 0.49883851,  0.50116146],\n",
        "        [ 0.4988209 ,  0.50117916],\n",
        "        [ 0.49882928,  0.50117069],\n",
        "        [ 0.4988358 ,  0.50116414],\n",
        "        [ 0.49882624,  0.50117379],\n",
        "        [ 0.49883121,  0.50116885]], dtype=float32),\n",
        " array([[ 0.7310586 ,  0.26894143],\n",
        "        [ 0.26894143,  0.7310586 ],\n",
        "        [ 0.26894143,  0.7310586 ],\n",
        "        [ 0.26894143,  0.7310586 ],\n",
        "        [ 0.7310586 ,  0.26894143],\n",
        "        [ 0.7310586 ,  0.26894143],\n",
        "        [ 0.7310586 ,  0.26894143],\n",
        "        [ 0.26894143,  0.7310586 ],\n",
        "        [ 0.26894143,  0.7310586 ],\n",
        "        [ 0.26894143,  0.7310586 ]], dtype=float32))"
       ]
      }
     ],
     "prompt_number": 105
    },
    {
     "cell_type": "code",
     "collapsed": false,
     "input": [
      "loss.eval(feed_dict={x:npFloatData[:100, :7] , y_:npCorrectOutput[:100]})"
     ],
     "language": "python",
     "metadata": {},
     "outputs": [
      {
       "metadata": {},
       "output_type": "pyout",
       "prompt_number": 107,
       "text": [
        "69.390068"
       ]
      }
     ],
     "prompt_number": 107
    },
    {
     "cell_type": "markdown",
     "metadata": {},
     "source": [
      "**Config Train Step**"
     ]
    },
    {
     "cell_type": "markdown",
     "metadata": {},
     "source": [
      "*optimizer*"
     ]
    },
    {
     "cell_type": "code",
     "collapsed": false,
     "input": [
      "optimizer = tf.train.GradientDescentOptimizer(0.0001)"
     ],
     "language": "python",
     "metadata": {},
     "outputs": [],
     "prompt_number": 116
    },
    {
     "cell_type": "code",
     "collapsed": false,
     "input": [
      "train = optimizer.minimize(loss)"
     ],
     "language": "python",
     "metadata": {},
     "outputs": [],
     "prompt_number": 117
    },
    {
     "cell_type": "markdown",
     "metadata": {},
     "source": [
      "\ud3c9\uac00"
     ]
    },
    {
     "cell_type": "code",
     "collapsed": false,
     "input": [],
     "language": "python",
     "metadata": {},
     "outputs": [],
     "prompt_number": 117
    },
    {
     "cell_type": "markdown",
     "metadata": {},
     "source": [
      "**Do Train**"
     ]
    },
    {
     "cell_type": "code",
     "collapsed": false,
     "input": [
      "tf.global_variables_initializer().run()"
     ],
     "language": "python",
     "metadata": {},
     "outputs": [],
     "prompt_number": 118
    },
    {
     "cell_type": "code",
     "collapsed": false,
     "input": [
      "for i in range(10000000):\n",
      "    rand_index = np.random.randint(700, size=100)\n",
      "    feed = {x:npFloatData[rand_index, :7], y_:npCorrectOutput[rand_index]}\n",
      "    sess.run(train, feed_dict=feed)\n",
      "    if not i % 10000:\n",
      "        print(i, loss.eval(feed_dict=feed))\n"
     ],
     "language": "python",
     "metadata": {},
     "outputs": [
      {
       "output_type": "stream",
       "stream": "stdout",
       "text": [
        "0 30.4801\n",
        "10000"
       ]
      },
      {
       "output_type": "stream",
       "stream": "stdout",
       "text": [
        " 37.7541\n",
        "20000"
       ]
      },
      {
       "output_type": "stream",
       "stream": "stdout",
       "text": [
        " 29.065\n",
        "30000"
       ]
      },
      {
       "output_type": "stream",
       "stream": "stdout",
       "text": [
        " 38.0148\n",
        "40000"
       ]
      },
      {
       "output_type": "stream",
       "stream": "stdout",
       "text": [
        " 41.9435\n",
        "50000"
       ]
      },
      {
       "output_type": "stream",
       "stream": "stdout",
       "text": [
        " 33.8339\n",
        "60000"
       ]
      },
      {
       "output_type": "stream",
       "stream": "stdout",
       "text": [
        " 37.7975\n",
        "70000"
       ]
      },
      {
       "output_type": "stream",
       "stream": "stdout",
       "text": [
        " 39.8016\n",
        "80000"
       ]
      },
      {
       "output_type": "stream",
       "stream": "stdout",
       "text": [
        " 46.5757\n",
        "90000"
       ]
      },
      {
       "output_type": "stream",
       "stream": "stdout",
       "text": [
        " 36.1643\n",
        "100000"
       ]
      },
      {
       "output_type": "stream",
       "stream": "stdout",
       "text": [
        " 33.6564\n",
        "110000"
       ]
      },
      {
       "output_type": "stream",
       "stream": "stdout",
       "text": [
        " 41.5029\n",
        "120000"
       ]
      },
      {
       "output_type": "stream",
       "stream": "stdout",
       "text": [
        " 39.4964\n",
        "130000"
       ]
      },
      {
       "output_type": "stream",
       "stream": "stdout",
       "text": [
        " 28.0186\n",
        "140000"
       ]
      },
      {
       "output_type": "stream",
       "stream": "stdout",
       "text": [
        " 33.1801\n",
        "150000"
       ]
      },
      {
       "output_type": "stream",
       "stream": "stdout",
       "text": [
        " 37.893\n",
        "160000"
       ]
      },
      {
       "output_type": "stream",
       "stream": "stdout",
       "text": [
        " 29.9113\n",
        "170000"
       ]
      },
      {
       "output_type": "stream",
       "stream": "stdout",
       "text": [
        " 38.2207\n",
        "180000"
       ]
      },
      {
       "output_type": "stream",
       "stream": "stdout",
       "text": [
        " 37.4455\n",
        "190000"
       ]
      },
      {
       "output_type": "stream",
       "stream": "stdout",
       "text": [
        " 32.1333\n",
        "200000"
       ]
      },
      {
       "output_type": "stream",
       "stream": "stdout",
       "text": [
        " 44.3425\n",
        "210000"
       ]
      },
      {
       "output_type": "stream",
       "stream": "stdout",
       "text": [
        " 32.278\n",
        "220000"
       ]
      },
      {
       "output_type": "stream",
       "stream": "stdout",
       "text": [
        " 40.2786\n",
        "230000"
       ]
      },
      {
       "output_type": "stream",
       "stream": "stdout",
       "text": [
        " 38.8344\n",
        "240000"
       ]
      },
      {
       "output_type": "stream",
       "stream": "stdout",
       "text": [
        " 38.2726\n",
        "250000"
       ]
      },
      {
       "output_type": "stream",
       "stream": "stdout",
       "text": [
        " 33.5863\n",
        "260000"
       ]
      },
      {
       "output_type": "stream",
       "stream": "stdout",
       "text": [
        " 36.0858\n",
        "270000"
       ]
      },
      {
       "output_type": "stream",
       "stream": "stdout",
       "text": [
        " 46.1481\n",
        "280000"
       ]
      },
      {
       "output_type": "stream",
       "stream": "stdout",
       "text": [
        " 42.6341\n",
        "290000"
       ]
      },
      {
       "output_type": "stream",
       "stream": "stdout",
       "text": [
        " 35.5318\n",
        "300000"
       ]
      },
      {
       "output_type": "stream",
       "stream": "stdout",
       "text": [
        " 37.8888\n",
        "310000"
       ]
      },
      {
       "output_type": "stream",
       "stream": "stdout",
       "text": [
        " 39.7836\n",
        "320000"
       ]
      },
      {
       "output_type": "stream",
       "stream": "stdout",
       "text": [
        " 42.0544\n",
        "330000"
       ]
      },
      {
       "output_type": "stream",
       "stream": "stdout",
       "text": [
        " 31.662\n",
        "340000"
       ]
      },
      {
       "output_type": "stream",
       "stream": "stdout",
       "text": [
        " 45.7717\n",
        "350000"
       ]
      },
      {
       "output_type": "stream",
       "stream": "stdout",
       "text": [
        " 45.5809\n",
        "360000"
       ]
      },
      {
       "output_type": "stream",
       "stream": "stdout",
       "text": [
        " 34.4873\n",
        "370000"
       ]
      },
      {
       "output_type": "stream",
       "stream": "stdout",
       "text": [
        " 29.8957\n",
        "380000"
       ]
      },
      {
       "output_type": "stream",
       "stream": "stdout",
       "text": [
        " 44.3297\n",
        "390000"
       ]
      },
      {
       "output_type": "stream",
       "stream": "stdout",
       "text": [
        " 40.7546\n",
        "400000"
       ]
      },
      {
       "output_type": "stream",
       "stream": "stdout",
       "text": [
        " 35.6895\n",
        "410000"
       ]
      },
      {
       "output_type": "stream",
       "stream": "stdout",
       "text": [
        " 40.3313\n",
        "420000"
       ]
      },
      {
       "output_type": "stream",
       "stream": "stdout",
       "text": [
        " 31.6171\n",
        "430000"
       ]
      },
      {
       "output_type": "stream",
       "stream": "stdout",
       "text": [
        " 28.8571\n",
        "440000"
       ]
      },
      {
       "output_type": "stream",
       "stream": "stdout",
       "text": [
        " 41.1542\n",
        "450000"
       ]
      },
      {
       "output_type": "stream",
       "stream": "stdout",
       "text": [
        " 29.0573\n",
        "460000"
       ]
      },
      {
       "output_type": "stream",
       "stream": "stdout",
       "text": [
        " 37.2627\n",
        "470000"
       ]
      },
      {
       "output_type": "stream",
       "stream": "stdout",
       "text": [
        " 39.6057\n",
        "480000"
       ]
      },
      {
       "output_type": "stream",
       "stream": "stdout",
       "text": [
        " 39.5443\n",
        "490000"
       ]
      },
      {
       "output_type": "stream",
       "stream": "stdout",
       "text": [
        " 36.7126\n",
        "500000"
       ]
      },
      {
       "output_type": "stream",
       "stream": "stdout",
       "text": [
        " 36.7196\n",
        "510000"
       ]
      },
      {
       "output_type": "stream",
       "stream": "stdout",
       "text": [
        " 34.0651\n",
        "520000"
       ]
      },
      {
       "output_type": "stream",
       "stream": "stdout",
       "text": [
        " 28.0673\n",
        "530000"
       ]
      },
      {
       "output_type": "stream",
       "stream": "stdout",
       "text": [
        " 44.2549\n",
        "540000"
       ]
      },
      {
       "output_type": "stream",
       "stream": "stdout",
       "text": [
        " 41.0492\n",
        "550000"
       ]
      },
      {
       "output_type": "stream",
       "stream": "stdout",
       "text": [
        " 38.2224\n",
        "560000"
       ]
      },
      {
       "output_type": "stream",
       "stream": "stdout",
       "text": [
        " 34.2736\n",
        "570000"
       ]
      },
      {
       "output_type": "stream",
       "stream": "stdout",
       "text": [
        " 34.6898\n",
        "580000"
       ]
      },
      {
       "output_type": "stream",
       "stream": "stdout",
       "text": [
        " 44.3617\n",
        "590000"
       ]
      },
      {
       "output_type": "stream",
       "stream": "stdout",
       "text": [
        " 34.9865\n",
        "600000"
       ]
      },
      {
       "output_type": "stream",
       "stream": "stdout",
       "text": [
        " 36.5516\n",
        "610000"
       ]
      },
      {
       "output_type": "stream",
       "stream": "stdout",
       "text": [
        " 36.8149\n",
        "620000"
       ]
      },
      {
       "output_type": "stream",
       "stream": "stdout",
       "text": [
        " 34.8159\n",
        "630000"
       ]
      },
      {
       "output_type": "stream",
       "stream": "stdout",
       "text": [
        " 32.7713\n",
        "640000"
       ]
      },
      {
       "output_type": "stream",
       "stream": "stdout",
       "text": [
        " 40.6942\n",
        "650000"
       ]
      },
      {
       "output_type": "stream",
       "stream": "stdout",
       "text": [
        " 37.0462\n",
        "660000"
       ]
      },
      {
       "output_type": "stream",
       "stream": "stdout",
       "text": [
        " 30.2086\n",
        "670000"
       ]
      },
      {
       "output_type": "stream",
       "stream": "stdout",
       "text": [
        " 39.5083\n",
        "680000"
       ]
      },
      {
       "output_type": "stream",
       "stream": "stdout",
       "text": [
        " 36.8086\n",
        "690000"
       ]
      },
      {
       "output_type": "stream",
       "stream": "stdout",
       "text": [
        " 31.4127\n",
        "700000"
       ]
      },
      {
       "output_type": "stream",
       "stream": "stdout",
       "text": [
        " 32.1834\n",
        "710000"
       ]
      },
      {
       "output_type": "stream",
       "stream": "stdout",
       "text": [
        " 32.3544\n",
        "720000"
       ]
      },
      {
       "output_type": "stream",
       "stream": "stdout",
       "text": [
        " 36.0862\n",
        "730000"
       ]
      },
      {
       "output_type": "stream",
       "stream": "stdout",
       "text": [
        " 40.1796\n",
        "740000"
       ]
      },
      {
       "output_type": "stream",
       "stream": "stdout",
       "text": [
        " 40.5844\n",
        "750000"
       ]
      },
      {
       "output_type": "stream",
       "stream": "stdout",
       "text": [
        " 40.4578\n",
        "760000"
       ]
      },
      {
       "output_type": "stream",
       "stream": "stdout",
       "text": [
        " 33.2046\n",
        "770000"
       ]
      },
      {
       "output_type": "stream",
       "stream": "stdout",
       "text": [
        " 43.1427\n",
        "780000"
       ]
      },
      {
       "output_type": "stream",
       "stream": "stdout",
       "text": [
        " 21.9996\n",
        "790000"
       ]
      },
      {
       "output_type": "stream",
       "stream": "stdout",
       "text": [
        " 46.601\n",
        "800000"
       ]
      },
      {
       "output_type": "stream",
       "stream": "stdout",
       "text": [
        " 36.3192\n",
        "810000"
       ]
      },
      {
       "output_type": "stream",
       "stream": "stdout",
       "text": [
        " 31.5195\n",
        "820000"
       ]
      },
      {
       "output_type": "stream",
       "stream": "stdout",
       "text": [
        " 44.8769\n",
        "830000"
       ]
      },
      {
       "output_type": "stream",
       "stream": "stdout",
       "text": [
        " 35.9371\n",
        "840000"
       ]
      },
      {
       "output_type": "stream",
       "stream": "stdout",
       "text": [
        " 33.102\n",
        "850000"
       ]
      },
      {
       "output_type": "stream",
       "stream": "stdout",
       "text": [
        " 37.6701\n",
        "860000"
       ]
      },
      {
       "output_type": "stream",
       "stream": "stdout",
       "text": [
        " 42.0723\n",
        "870000"
       ]
      },
      {
       "output_type": "stream",
       "stream": "stdout",
       "text": [
        " 29.9396\n",
        "880000"
       ]
      },
      {
       "output_type": "stream",
       "stream": "stdout",
       "text": [
        " 26.7257\n",
        "890000"
       ]
      },
      {
       "output_type": "stream",
       "stream": "stdout",
       "text": [
        " 41.3964\n",
        "900000"
       ]
      },
      {
       "output_type": "stream",
       "stream": "stdout",
       "text": [
        " 24.7954\n",
        "910000"
       ]
      },
      {
       "output_type": "stream",
       "stream": "stdout",
       "text": [
        " 42.3949\n",
        "920000"
       ]
      },
      {
       "output_type": "stream",
       "stream": "stdout",
       "text": [
        " 36.2824\n",
        "930000"
       ]
      },
      {
       "output_type": "stream",
       "stream": "stdout",
       "text": [
        " 32.1441\n",
        "940000"
       ]
      },
      {
       "output_type": "stream",
       "stream": "stdout",
       "text": [
        " 38.094\n",
        "950000"
       ]
      },
      {
       "output_type": "stream",
       "stream": "stdout",
       "text": [
        " 44.7664\n",
        "960000"
       ]
      },
      {
       "output_type": "stream",
       "stream": "stdout",
       "text": [
        " 32.6701\n",
        "970000"
       ]
      },
      {
       "output_type": "stream",
       "stream": "stdout",
       "text": [
        " 43.6685\n",
        "980000"
       ]
      },
      {
       "output_type": "stream",
       "stream": "stdout",
       "text": [
        " 24.6799\n",
        "990000"
       ]
      },
      {
       "output_type": "stream",
       "stream": "stdout",
       "text": [
        " 34.8893\n",
        "1000000"
       ]
      },
      {
       "output_type": "stream",
       "stream": "stdout",
       "text": [
        " 33.9909\n",
        "1010000"
       ]
      },
      {
       "output_type": "stream",
       "stream": "stdout",
       "text": [
        " 38.2333\n",
        "1020000"
       ]
      },
      {
       "output_type": "stream",
       "stream": "stdout",
       "text": [
        " 37.6362\n",
        "1030000"
       ]
      },
      {
       "output_type": "stream",
       "stream": "stdout",
       "text": [
        " 36.7205\n",
        "1040000"
       ]
      },
      {
       "output_type": "stream",
       "stream": "stdout",
       "text": [
        " 37.5629\n",
        "1050000"
       ]
      },
      {
       "output_type": "stream",
       "stream": "stdout",
       "text": [
        " 50.5406\n",
        "1060000"
       ]
      },
      {
       "output_type": "stream",
       "stream": "stdout",
       "text": [
        " 35.2333\n",
        "1070000"
       ]
      },
      {
       "output_type": "stream",
       "stream": "stdout",
       "text": [
        " 39.6693\n",
        "1080000"
       ]
      },
      {
       "output_type": "stream",
       "stream": "stdout",
       "text": [
        " 25.7835\n",
        "1090000"
       ]
      },
      {
       "output_type": "stream",
       "stream": "stdout",
       "text": [
        " 28.0959\n",
        "1100000"
       ]
      },
      {
       "output_type": "stream",
       "stream": "stdout",
       "text": [
        " 38.2449\n",
        "1110000"
       ]
      },
      {
       "output_type": "stream",
       "stream": "stdout",
       "text": [
        " 35.6265\n",
        "1120000"
       ]
      },
      {
       "output_type": "stream",
       "stream": "stdout",
       "text": [
        " 43.9156\n",
        "1130000"
       ]
      },
      {
       "output_type": "stream",
       "stream": "stdout",
       "text": [
        " 30.0614\n",
        "1140000"
       ]
      },
      {
       "output_type": "stream",
       "stream": "stdout",
       "text": [
        " 39.4328\n",
        "1150000"
       ]
      },
      {
       "output_type": "stream",
       "stream": "stdout",
       "text": [
        " 32.9639\n",
        "1160000"
       ]
      },
      {
       "output_type": "stream",
       "stream": "stdout",
       "text": [
        " 32.6443\n",
        "1170000"
       ]
      },
      {
       "output_type": "stream",
       "stream": "stdout",
       "text": [
        " 32.3268\n",
        "1180000"
       ]
      },
      {
       "output_type": "stream",
       "stream": "stdout",
       "text": [
        " 32.3455\n",
        "1190000"
       ]
      },
      {
       "output_type": "stream",
       "stream": "stdout",
       "text": [
        " 40.9307\n",
        "1200000"
       ]
      },
      {
       "output_type": "stream",
       "stream": "stdout",
       "text": [
        " 32.7597\n",
        "1210000"
       ]
      },
      {
       "output_type": "stream",
       "stream": "stdout",
       "text": [
        " 31.9766\n",
        "1220000"
       ]
      },
      {
       "output_type": "stream",
       "stream": "stdout",
       "text": [
        " 43.3789\n",
        "1230000"
       ]
      },
      {
       "output_type": "stream",
       "stream": "stdout",
       "text": [
        " 39.3145\n",
        "1240000"
       ]
      },
      {
       "output_type": "stream",
       "stream": "stdout",
       "text": [
        " 44.8863\n",
        "1250000"
       ]
      },
      {
       "output_type": "stream",
       "stream": "stdout",
       "text": [
        " 35.5897\n",
        "1260000"
       ]
      },
      {
       "output_type": "stream",
       "stream": "stdout",
       "text": [
        " 46.5569\n",
        "1270000"
       ]
      },
      {
       "output_type": "stream",
       "stream": "stdout",
       "text": [
        " 40.7313\n",
        "1280000"
       ]
      },
      {
       "output_type": "stream",
       "stream": "stdout",
       "text": [
        " 30.8988\n",
        "1290000"
       ]
      },
      {
       "output_type": "stream",
       "stream": "stdout",
       "text": [
        " 22.7558\n",
        "1300000"
       ]
      },
      {
       "output_type": "stream",
       "stream": "stdout",
       "text": [
        " 30.6938\n",
        "1310000"
       ]
      },
      {
       "output_type": "stream",
       "stream": "stdout",
       "text": [
        " 32.6967\n",
        "1320000"
       ]
      },
      {
       "output_type": "stream",
       "stream": "stdout",
       "text": [
        " 31.4387\n",
        "1330000"
       ]
      },
      {
       "output_type": "stream",
       "stream": "stdout",
       "text": [
        " 43.6582\n",
        "1340000"
       ]
      },
      {
       "output_type": "stream",
       "stream": "stdout",
       "text": [
        " 34.7737\n",
        "1350000"
       ]
      },
      {
       "output_type": "stream",
       "stream": "stdout",
       "text": [
        " 28.6905\n",
        "1360000"
       ]
      },
      {
       "output_type": "stream",
       "stream": "stdout",
       "text": [
        " 27.0989\n",
        "1370000"
       ]
      },
      {
       "output_type": "stream",
       "stream": "stdout",
       "text": [
        " 28.3322\n",
        "1380000"
       ]
      },
      {
       "output_type": "stream",
       "stream": "stdout",
       "text": [
        " 47.2737\n",
        "1390000"
       ]
      },
      {
       "output_type": "stream",
       "stream": "stdout",
       "text": [
        " 38.0059\n",
        "1400000"
       ]
      },
      {
       "output_type": "stream",
       "stream": "stdout",
       "text": [
        " 24.5813\n",
        "1410000"
       ]
      },
      {
       "output_type": "stream",
       "stream": "stdout",
       "text": [
        " 28.7857\n",
        "1420000"
       ]
      },
      {
       "output_type": "stream",
       "stream": "stdout",
       "text": [
        " 35.1797\n",
        "1430000"
       ]
      },
      {
       "output_type": "stream",
       "stream": "stdout",
       "text": [
        " 29.8132\n",
        "1440000"
       ]
      },
      {
       "output_type": "stream",
       "stream": "stdout",
       "text": [
        " 32.2319\n",
        "1450000"
       ]
      },
      {
       "output_type": "stream",
       "stream": "stdout",
       "text": [
        " 29.341\n",
        "1460000"
       ]
      },
      {
       "output_type": "stream",
       "stream": "stdout",
       "text": [
        " 34.1604\n",
        "1470000"
       ]
      },
      {
       "output_type": "stream",
       "stream": "stdout",
       "text": [
        " 32.5674\n",
        "1480000"
       ]
      },
      {
       "output_type": "stream",
       "stream": "stdout",
       "text": [
        " 25.1571\n",
        "1490000"
       ]
      },
      {
       "output_type": "stream",
       "stream": "stdout",
       "text": [
        " 38.6523\n",
        "1500000"
       ]
      },
      {
       "output_type": "stream",
       "stream": "stdout",
       "text": [
        " 46.9346\n",
        "1510000"
       ]
      },
      {
       "output_type": "stream",
       "stream": "stdout",
       "text": [
        " 49.0155\n",
        "1520000"
       ]
      },
      {
       "output_type": "stream",
       "stream": "stdout",
       "text": [
        " 33.5525\n",
        "1530000"
       ]
      },
      {
       "output_type": "stream",
       "stream": "stdout",
       "text": [
        " 30.5846\n",
        "1540000"
       ]
      },
      {
       "output_type": "stream",
       "stream": "stdout",
       "text": [
        " 31.6863\n",
        "1550000"
       ]
      },
      {
       "output_type": "stream",
       "stream": "stdout",
       "text": [
        " 41.2754\n",
        "1560000"
       ]
      },
      {
       "output_type": "stream",
       "stream": "stdout",
       "text": [
        " 31.0475\n",
        "1570000"
       ]
      },
      {
       "output_type": "stream",
       "stream": "stdout",
       "text": [
        " 42.6515\n",
        "1580000"
       ]
      },
      {
       "output_type": "stream",
       "stream": "stdout",
       "text": [
        " 41.2144\n",
        "1590000"
       ]
      },
      {
       "output_type": "stream",
       "stream": "stdout",
       "text": [
        " 39.3856\n",
        "1600000"
       ]
      },
      {
       "output_type": "stream",
       "stream": "stdout",
       "text": [
        " 42.2988\n",
        "1610000"
       ]
      },
      {
       "output_type": "stream",
       "stream": "stdout",
       "text": [
        " 47.7978\n",
        "1620000"
       ]
      },
      {
       "output_type": "stream",
       "stream": "stdout",
       "text": [
        " 32.5269\n",
        "1630000"
       ]
      },
      {
       "output_type": "stream",
       "stream": "stdout",
       "text": [
        " 39.2478\n",
        "1640000"
       ]
      },
      {
       "output_type": "stream",
       "stream": "stdout",
       "text": [
        " 27.4925\n",
        "1650000"
       ]
      },
      {
       "output_type": "stream",
       "stream": "stdout",
       "text": [
        " 33.5981\n",
        "1660000"
       ]
      },
      {
       "output_type": "stream",
       "stream": "stdout",
       "text": [
        " 44.4839\n",
        "1670000"
       ]
      },
      {
       "output_type": "stream",
       "stream": "stdout",
       "text": [
        " 36.8418\n",
        "1680000"
       ]
      },
      {
       "output_type": "stream",
       "stream": "stdout",
       "text": [
        " 39.5847\n",
        "1690000"
       ]
      },
      {
       "output_type": "stream",
       "stream": "stdout",
       "text": [
        " 40.3589\n",
        "1700000"
       ]
      },
      {
       "output_type": "stream",
       "stream": "stdout",
       "text": [
        " 25.7692\n",
        "1710000"
       ]
      },
      {
       "output_type": "stream",
       "stream": "stdout",
       "text": [
        " 35.0534\n",
        "1720000"
       ]
      },
      {
       "output_type": "stream",
       "stream": "stdout",
       "text": [
        " 32.9801\n",
        "1730000"
       ]
      },
      {
       "output_type": "stream",
       "stream": "stdout",
       "text": [
        " 34.2805\n",
        "1740000"
       ]
      },
      {
       "output_type": "stream",
       "stream": "stdout",
       "text": [
        " 37.0557\n",
        "1750000"
       ]
      },
      {
       "output_type": "stream",
       "stream": "stdout",
       "text": [
        " 34.3815\n",
        "1760000"
       ]
      },
      {
       "output_type": "stream",
       "stream": "stdout",
       "text": [
        " 33.1287\n",
        "1770000"
       ]
      },
      {
       "output_type": "stream",
       "stream": "stdout",
       "text": [
        " 30.1616\n",
        "1780000"
       ]
      },
      {
       "output_type": "stream",
       "stream": "stdout",
       "text": [
        " 35.9894\n",
        "1790000"
       ]
      },
      {
       "output_type": "stream",
       "stream": "stdout",
       "text": [
        " 35.9165\n",
        "1800000"
       ]
      },
      {
       "output_type": "stream",
       "stream": "stdout",
       "text": [
        " 28.9694\n",
        "1810000"
       ]
      },
      {
       "output_type": "stream",
       "stream": "stdout",
       "text": [
        " 25.842\n",
        "1820000"
       ]
      },
      {
       "output_type": "stream",
       "stream": "stdout",
       "text": [
        " 37.0567\n",
        "1830000"
       ]
      },
      {
       "output_type": "stream",
       "stream": "stdout",
       "text": [
        " 34.6656\n",
        "1840000"
       ]
      },
      {
       "output_type": "stream",
       "stream": "stdout",
       "text": [
        " 37.1532\n",
        "1850000"
       ]
      },
      {
       "output_type": "stream",
       "stream": "stdout",
       "text": [
        " 45.3513\n",
        "1860000"
       ]
      },
      {
       "output_type": "stream",
       "stream": "stdout",
       "text": [
        " 31.9022\n",
        "1870000"
       ]
      },
      {
       "output_type": "stream",
       "stream": "stdout",
       "text": [
        " 41.0468\n",
        "1880000"
       ]
      },
      {
       "output_type": "stream",
       "stream": "stdout",
       "text": [
        " 47.1636\n",
        "1890000"
       ]
      },
      {
       "output_type": "stream",
       "stream": "stdout",
       "text": [
        " 44.7334\n",
        "1900000"
       ]
      },
      {
       "output_type": "stream",
       "stream": "stdout",
       "text": [
        " 32.0065\n",
        "1910000"
       ]
      },
      {
       "output_type": "stream",
       "stream": "stdout",
       "text": [
        " 30.8567\n",
        "1920000"
       ]
      },
      {
       "output_type": "stream",
       "stream": "stdout",
       "text": [
        " 49.8314\n",
        "1930000"
       ]
      },
      {
       "output_type": "stream",
       "stream": "stdout",
       "text": [
        " 23.824\n",
        "1940000"
       ]
      },
      {
       "output_type": "stream",
       "stream": "stdout",
       "text": [
        " 36.9419\n",
        "1950000"
       ]
      },
      {
       "output_type": "stream",
       "stream": "stdout",
       "text": [
        " 33.297\n",
        "1960000"
       ]
      },
      {
       "output_type": "stream",
       "stream": "stdout",
       "text": [
        " 32.7158\n",
        "1970000"
       ]
      },
      {
       "output_type": "stream",
       "stream": "stdout",
       "text": [
        " 29.9253\n",
        "1980000"
       ]
      },
      {
       "output_type": "stream",
       "stream": "stdout",
       "text": [
        " 37.341\n",
        "1990000"
       ]
      },
      {
       "output_type": "stream",
       "stream": "stdout",
       "text": [
        " 28.7442\n",
        "2000000"
       ]
      },
      {
       "output_type": "stream",
       "stream": "stdout",
       "text": [
        " 36.2554\n",
        "2010000"
       ]
      },
      {
       "output_type": "stream",
       "stream": "stdout",
       "text": [
        " 42.1716\n",
        "2020000"
       ]
      },
      {
       "output_type": "stream",
       "stream": "stdout",
       "text": [
        " 39.7677\n",
        "2030000"
       ]
      },
      {
       "output_type": "stream",
       "stream": "stdout",
       "text": [
        " 29.1932\n",
        "2040000"
       ]
      },
      {
       "output_type": "stream",
       "stream": "stdout",
       "text": [
        " 33.9433\n",
        "2050000"
       ]
      },
      {
       "output_type": "stream",
       "stream": "stdout",
       "text": [
        " 40.7466\n",
        "2060000"
       ]
      },
      {
       "output_type": "stream",
       "stream": "stdout",
       "text": [
        " 39.0718\n",
        "2070000"
       ]
      },
      {
       "output_type": "stream",
       "stream": "stdout",
       "text": [
        " 44.9386\n",
        "2080000"
       ]
      },
      {
       "output_type": "stream",
       "stream": "stdout",
       "text": [
        " 29.3639\n",
        "2090000"
       ]
      },
      {
       "output_type": "stream",
       "stream": "stdout",
       "text": [
        " 23.8226\n",
        "2100000"
       ]
      },
      {
       "output_type": "stream",
       "stream": "stdout",
       "text": [
        " 31.3209\n",
        "2110000"
       ]
      },
      {
       "output_type": "stream",
       "stream": "stdout",
       "text": [
        " 31.6937\n",
        "2120000"
       ]
      },
      {
       "output_type": "stream",
       "stream": "stdout",
       "text": [
        " 39.6434\n",
        "2130000"
       ]
      },
      {
       "output_type": "stream",
       "stream": "stdout",
       "text": [
        " 35.9531\n",
        "2140000"
       ]
      },
      {
       "output_type": "stream",
       "stream": "stdout",
       "text": [
        " 38.3932\n",
        "2150000"
       ]
      },
      {
       "output_type": "stream",
       "stream": "stdout",
       "text": [
        " 41.2547\n",
        "2160000"
       ]
      },
      {
       "output_type": "stream",
       "stream": "stdout",
       "text": [
        " 34.1541\n",
        "2170000"
       ]
      },
      {
       "output_type": "stream",
       "stream": "stdout",
       "text": [
        " 33.0066\n",
        "2180000"
       ]
      },
      {
       "output_type": "stream",
       "stream": "stdout",
       "text": [
        " 36.6586\n",
        "2190000"
       ]
      },
      {
       "output_type": "stream",
       "stream": "stdout",
       "text": [
        " 30.8818\n",
        "2200000"
       ]
      },
      {
       "output_type": "stream",
       "stream": "stdout",
       "text": [
        " 35.1749\n",
        "2210000"
       ]
      },
      {
       "output_type": "stream",
       "stream": "stdout",
       "text": [
        " 26.2004\n",
        "2220000"
       ]
      },
      {
       "output_type": "stream",
       "stream": "stdout",
       "text": [
        " 35.453\n",
        "2230000"
       ]
      },
      {
       "output_type": "stream",
       "stream": "stdout",
       "text": [
        " 36.2439\n",
        "2240000"
       ]
      },
      {
       "output_type": "stream",
       "stream": "stdout",
       "text": [
        " 34.075\n",
        "2250000"
       ]
      },
      {
       "output_type": "stream",
       "stream": "stdout",
       "text": [
        " 29.5298\n",
        "2260000"
       ]
      },
      {
       "output_type": "stream",
       "stream": "stdout",
       "text": [
        " 34.0352\n",
        "2270000"
       ]
      },
      {
       "output_type": "stream",
       "stream": "stdout",
       "text": [
        " 32.9028\n",
        "2280000"
       ]
      },
      {
       "output_type": "stream",
       "stream": "stdout",
       "text": [
        " 31.8277\n",
        "2290000"
       ]
      },
      {
       "output_type": "stream",
       "stream": "stdout",
       "text": [
        " 32.7539\n",
        "2300000"
       ]
      },
      {
       "output_type": "stream",
       "stream": "stdout",
       "text": [
        " 37.6172\n",
        "2310000"
       ]
      },
      {
       "output_type": "stream",
       "stream": "stdout",
       "text": [
        " 29.1699\n",
        "2320000"
       ]
      },
      {
       "output_type": "stream",
       "stream": "stdout",
       "text": [
        " 26.8817\n",
        "2330000"
       ]
      },
      {
       "output_type": "stream",
       "stream": "stdout",
       "text": [
        " 42.1357\n",
        "2340000"
       ]
      },
      {
       "output_type": "stream",
       "stream": "stdout",
       "text": [
        " 28.7633\n",
        "2350000"
       ]
      },
      {
       "output_type": "stream",
       "stream": "stdout",
       "text": [
        " 40.2563\n",
        "2360000"
       ]
      },
      {
       "output_type": "stream",
       "stream": "stdout",
       "text": [
        " 32.7223\n",
        "2370000"
       ]
      },
      {
       "output_type": "stream",
       "stream": "stdout",
       "text": [
        " 36.8644\n",
        "2380000"
       ]
      },
      {
       "output_type": "stream",
       "stream": "stdout",
       "text": [
        " 28.8778\n",
        "2390000"
       ]
      },
      {
       "output_type": "stream",
       "stream": "stdout",
       "text": [
        " 36.2077\n",
        "2400000"
       ]
      },
      {
       "output_type": "stream",
       "stream": "stdout",
       "text": [
        " 37.5738\n",
        "2410000"
       ]
      },
      {
       "output_type": "stream",
       "stream": "stdout",
       "text": [
        " 43.4414\n",
        "2420000"
       ]
      },
      {
       "output_type": "stream",
       "stream": "stdout",
       "text": [
        " 37.4116\n",
        "2430000"
       ]
      },
      {
       "output_type": "stream",
       "stream": "stdout",
       "text": [
        " 40.9621\n",
        "2440000"
       ]
      },
      {
       "output_type": "stream",
       "stream": "stdout",
       "text": [
        " 26.5774\n",
        "2450000"
       ]
      },
      {
       "output_type": "stream",
       "stream": "stdout",
       "text": [
        " 34.217\n",
        "2460000"
       ]
      },
      {
       "output_type": "stream",
       "stream": "stdout",
       "text": [
        " 26.6389\n",
        "2470000"
       ]
      },
      {
       "output_type": "stream",
       "stream": "stdout",
       "text": [
        " 44.6735\n",
        "2480000"
       ]
      },
      {
       "output_type": "stream",
       "stream": "stdout",
       "text": [
        " 41.5997\n",
        "2490000"
       ]
      },
      {
       "output_type": "stream",
       "stream": "stdout",
       "text": [
        " 36.6218\n",
        "2500000"
       ]
      },
      {
       "output_type": "stream",
       "stream": "stdout",
       "text": [
        " 45.2133\n",
        "2510000"
       ]
      },
      {
       "output_type": "stream",
       "stream": "stdout",
       "text": [
        " 40.3286\n",
        "2520000"
       ]
      },
      {
       "output_type": "stream",
       "stream": "stdout",
       "text": [
        " 26.9614\n",
        "2530000"
       ]
      },
      {
       "output_type": "stream",
       "stream": "stdout",
       "text": [
        " 27.9546\n",
        "2540000"
       ]
      },
      {
       "output_type": "stream",
       "stream": "stdout",
       "text": [
        " 33.8325\n",
        "2550000"
       ]
      },
      {
       "output_type": "stream",
       "stream": "stdout",
       "text": [
        " 31.9868\n",
        "2560000"
       ]
      },
      {
       "output_type": "stream",
       "stream": "stdout",
       "text": [
        " 40.8578\n",
        "2570000"
       ]
      },
      {
       "output_type": "stream",
       "stream": "stdout",
       "text": [
        " 26.8205\n",
        "2580000"
       ]
      },
      {
       "output_type": "stream",
       "stream": "stdout",
       "text": [
        " 46.1632\n",
        "2590000"
       ]
      },
      {
       "output_type": "stream",
       "stream": "stdout",
       "text": [
        " 34.218\n",
        "2600000"
       ]
      },
      {
       "output_type": "stream",
       "stream": "stdout",
       "text": [
        " 37.8735\n",
        "2610000"
       ]
      },
      {
       "output_type": "stream",
       "stream": "stdout",
       "text": [
        " 39.2243\n",
        "2620000"
       ]
      },
      {
       "output_type": "stream",
       "stream": "stdout",
       "text": [
        " 46.2356\n",
        "2630000"
       ]
      },
      {
       "output_type": "stream",
       "stream": "stdout",
       "text": [
        " 38.0055\n",
        "2640000"
       ]
      },
      {
       "output_type": "stream",
       "stream": "stdout",
       "text": [
        " 26.2167\n",
        "2650000"
       ]
      },
      {
       "output_type": "stream",
       "stream": "stdout",
       "text": [
        " 30.2889\n",
        "2660000"
       ]
      },
      {
       "output_type": "stream",
       "stream": "stdout",
       "text": [
        " 38.5578\n",
        "2670000"
       ]
      },
      {
       "output_type": "stream",
       "stream": "stdout",
       "text": [
        " 46.6827\n",
        "2680000"
       ]
      },
      {
       "output_type": "stream",
       "stream": "stdout",
       "text": [
        " 29.8276\n",
        "2690000"
       ]
      },
      {
       "output_type": "stream",
       "stream": "stdout",
       "text": [
        " 34.7428\n",
        "2700000"
       ]
      },
      {
       "output_type": "stream",
       "stream": "stdout",
       "text": [
        " 37.8155\n",
        "2710000"
       ]
      },
      {
       "output_type": "stream",
       "stream": "stdout",
       "text": [
        " 30.9841\n",
        "2720000"
       ]
      },
      {
       "output_type": "stream",
       "stream": "stdout",
       "text": [
        " 30.9061\n",
        "2730000"
       ]
      },
      {
       "output_type": "stream",
       "stream": "stdout",
       "text": [
        " 45.3636\n",
        "2740000"
       ]
      },
      {
       "output_type": "stream",
       "stream": "stdout",
       "text": [
        " 46.3416\n",
        "2750000"
       ]
      },
      {
       "output_type": "stream",
       "stream": "stdout",
       "text": [
        " 27.9828\n",
        "2760000"
       ]
      },
      {
       "output_type": "stream",
       "stream": "stdout",
       "text": [
        " 34.6487\n",
        "2770000"
       ]
      },
      {
       "output_type": "stream",
       "stream": "stdout",
       "text": [
        " 36.5798\n",
        "2780000"
       ]
      },
      {
       "output_type": "stream",
       "stream": "stdout",
       "text": [
        " 39.0721\n",
        "2790000"
       ]
      },
      {
       "output_type": "stream",
       "stream": "stdout",
       "text": [
        " 35.7881\n",
        "2800000"
       ]
      },
      {
       "output_type": "stream",
       "stream": "stdout",
       "text": [
        " 32.8238\n",
        "2810000"
       ]
      },
      {
       "output_type": "stream",
       "stream": "stdout",
       "text": [
        " 34.281\n",
        "2820000"
       ]
      },
      {
       "output_type": "stream",
       "stream": "stdout",
       "text": [
        " 35.0981\n",
        "2830000"
       ]
      },
      {
       "output_type": "stream",
       "stream": "stdout",
       "text": [
        " 34.2808\n",
        "2840000"
       ]
      },
      {
       "output_type": "stream",
       "stream": "stdout",
       "text": [
        " 33.9293\n",
        "2850000"
       ]
      },
      {
       "output_type": "stream",
       "stream": "stdout",
       "text": [
        " 37.5921\n",
        "2860000"
       ]
      },
      {
       "output_type": "stream",
       "stream": "stdout",
       "text": [
        " 37.1949\n",
        "2870000"
       ]
      },
      {
       "output_type": "stream",
       "stream": "stdout",
       "text": [
        " 30.656\n",
        "2880000"
       ]
      },
      {
       "output_type": "stream",
       "stream": "stdout",
       "text": [
        " 32.8879\n",
        "2890000"
       ]
      },
      {
       "output_type": "stream",
       "stream": "stdout",
       "text": [
        " 33.1607\n",
        "2900000"
       ]
      },
      {
       "output_type": "stream",
       "stream": "stdout",
       "text": [
        " 42.1737\n",
        "2910000"
       ]
      },
      {
       "output_type": "stream",
       "stream": "stdout",
       "text": [
        " 43.915\n",
        "2920000"
       ]
      },
      {
       "output_type": "stream",
       "stream": "stdout",
       "text": [
        " 38.3084\n",
        "2930000"
       ]
      },
      {
       "output_type": "stream",
       "stream": "stdout",
       "text": [
        " 45.7454\n",
        "2940000"
       ]
      },
      {
       "output_type": "stream",
       "stream": "stdout",
       "text": [
        " 39.3763\n",
        "2950000"
       ]
      },
      {
       "output_type": "stream",
       "stream": "stdout",
       "text": [
        " 30.5584\n",
        "2960000"
       ]
      },
      {
       "output_type": "stream",
       "stream": "stdout",
       "text": [
        " 29.5732\n",
        "2970000"
       ]
      },
      {
       "output_type": "stream",
       "stream": "stdout",
       "text": [
        " 30.9917\n",
        "2980000"
       ]
      },
      {
       "output_type": "stream",
       "stream": "stdout",
       "text": [
        " 25.4957\n",
        "2990000"
       ]
      },
      {
       "output_type": "stream",
       "stream": "stdout",
       "text": [
        " 36.2352\n",
        "3000000"
       ]
      },
      {
       "output_type": "stream",
       "stream": "stdout",
       "text": [
        " 38.4332\n",
        "3010000"
       ]
      },
      {
       "output_type": "stream",
       "stream": "stdout",
       "text": [
        " 28.931\n",
        "3020000"
       ]
      },
      {
       "output_type": "stream",
       "stream": "stdout",
       "text": [
        " 40.6954\n",
        "3030000"
       ]
      },
      {
       "output_type": "stream",
       "stream": "stdout",
       "text": [
        " 39.5121\n",
        "3040000"
       ]
      },
      {
       "output_type": "stream",
       "stream": "stdout",
       "text": [
        " 47.9537\n",
        "3050000"
       ]
      },
      {
       "output_type": "stream",
       "stream": "stdout",
       "text": [
        " 37.0031\n",
        "3060000"
       ]
      },
      {
       "output_type": "stream",
       "stream": "stdout",
       "text": [
        " 43.4554\n",
        "3070000"
       ]
      },
      {
       "output_type": "stream",
       "stream": "stdout",
       "text": [
        " 43.7515\n",
        "3080000"
       ]
      },
      {
       "output_type": "stream",
       "stream": "stdout",
       "text": [
        " 36.9683\n",
        "3090000"
       ]
      },
      {
       "output_type": "stream",
       "stream": "stdout",
       "text": [
        " 31.3268\n",
        "3100000"
       ]
      },
      {
       "output_type": "stream",
       "stream": "stdout",
       "text": [
        " 34.0196\n",
        "3110000"
       ]
      },
      {
       "output_type": "stream",
       "stream": "stdout",
       "text": [
        " 34.7143\n",
        "3120000"
       ]
      },
      {
       "output_type": "stream",
       "stream": "stdout",
       "text": [
        " 40.8443\n",
        "3130000"
       ]
      },
      {
       "output_type": "stream",
       "stream": "stdout",
       "text": [
        " 34.208\n",
        "3140000"
       ]
      },
      {
       "output_type": "stream",
       "stream": "stdout",
       "text": [
        " 34.4406\n",
        "3150000"
       ]
      },
      {
       "output_type": "stream",
       "stream": "stdout",
       "text": [
        " 44.2163\n",
        "3160000"
       ]
      },
      {
       "output_type": "stream",
       "stream": "stdout",
       "text": [
        " 34.9201\n",
        "3170000"
       ]
      },
      {
       "output_type": "stream",
       "stream": "stdout",
       "text": [
        " 29.9433\n",
        "3180000"
       ]
      },
      {
       "output_type": "stream",
       "stream": "stdout",
       "text": [
        " 28.8316\n",
        "3190000"
       ]
      },
      {
       "output_type": "stream",
       "stream": "stdout",
       "text": [
        " 36.6873\n",
        "3200000"
       ]
      },
      {
       "output_type": "stream",
       "stream": "stdout",
       "text": [
        " 42.563\n",
        "3210000"
       ]
      },
      {
       "output_type": "stream",
       "stream": "stdout",
       "text": [
        " 32.4917\n",
        "3220000"
       ]
      },
      {
       "output_type": "stream",
       "stream": "stdout",
       "text": [
        " 36.4526\n",
        "3230000"
       ]
      },
      {
       "output_type": "stream",
       "stream": "stdout",
       "text": [
        " 26.2963\n",
        "3240000"
       ]
      },
      {
       "output_type": "stream",
       "stream": "stdout",
       "text": [
        " 30.8534\n",
        "3250000"
       ]
      },
      {
       "output_type": "stream",
       "stream": "stdout",
       "text": [
        " 39.7457\n",
        "3260000"
       ]
      },
      {
       "output_type": "stream",
       "stream": "stdout",
       "text": [
        " 30.3309\n",
        "3270000"
       ]
      },
      {
       "output_type": "stream",
       "stream": "stdout",
       "text": [
        " 44.6344\n",
        "3280000"
       ]
      },
      {
       "output_type": "stream",
       "stream": "stdout",
       "text": [
        " 31.102\n",
        "3290000"
       ]
      },
      {
       "output_type": "stream",
       "stream": "stdout",
       "text": [
        " 32.9681\n",
        "3300000"
       ]
      },
      {
       "output_type": "stream",
       "stream": "stdout",
       "text": [
        " 24.6259\n",
        "3310000"
       ]
      },
      {
       "output_type": "stream",
       "stream": "stdout",
       "text": [
        " 37.6931\n",
        "3320000"
       ]
      },
      {
       "output_type": "stream",
       "stream": "stdout",
       "text": [
        " 38.6644\n",
        "3330000"
       ]
      },
      {
       "output_type": "stream",
       "stream": "stdout",
       "text": [
        " 33.5733\n",
        "3340000"
       ]
      },
      {
       "output_type": "stream",
       "stream": "stdout",
       "text": [
        " 33.4957\n",
        "3350000"
       ]
      },
      {
       "output_type": "stream",
       "stream": "stdout",
       "text": [
        " 37.569\n",
        "3360000"
       ]
      },
      {
       "output_type": "stream",
       "stream": "stdout",
       "text": [
        " 42.309\n",
        "3370000"
       ]
      },
      {
       "output_type": "stream",
       "stream": "stdout",
       "text": [
        " 36.0555\n",
        "3380000"
       ]
      },
      {
       "output_type": "stream",
       "stream": "stdout",
       "text": [
        " 26.163\n",
        "3390000"
       ]
      },
      {
       "output_type": "stream",
       "stream": "stdout",
       "text": [
        " 38.7769\n",
        "3400000"
       ]
      },
      {
       "output_type": "stream",
       "stream": "stdout",
       "text": [
        " 34.8305\n",
        "3410000"
       ]
      },
      {
       "output_type": "stream",
       "stream": "stdout",
       "text": [
        " 44.2025\n",
        "3420000"
       ]
      },
      {
       "output_type": "stream",
       "stream": "stdout",
       "text": [
        " 36.0045\n",
        "3430000"
       ]
      },
      {
       "output_type": "stream",
       "stream": "stdout",
       "text": [
        " 31.4225\n",
        "3440000"
       ]
      },
      {
       "output_type": "stream",
       "stream": "stdout",
       "text": [
        " 31.7033\n",
        "3450000"
       ]
      },
      {
       "output_type": "stream",
       "stream": "stdout",
       "text": [
        " 50.4676\n",
        "3460000"
       ]
      },
      {
       "output_type": "stream",
       "stream": "stdout",
       "text": [
        " 42.0005\n",
        "3470000"
       ]
      },
      {
       "output_type": "stream",
       "stream": "stdout",
       "text": [
        " 38.4481\n",
        "3480000"
       ]
      },
      {
       "output_type": "stream",
       "stream": "stdout",
       "text": [
        " 40.4754\n",
        "3490000"
       ]
      },
      {
       "output_type": "stream",
       "stream": "stdout",
       "text": [
        " 38.6352\n",
        "3500000"
       ]
      },
      {
       "output_type": "stream",
       "stream": "stdout",
       "text": [
        " 31.5578\n",
        "3510000"
       ]
      },
      {
       "output_type": "stream",
       "stream": "stdout",
       "text": [
        " 31.8046\n",
        "3520000"
       ]
      },
      {
       "output_type": "stream",
       "stream": "stdout",
       "text": [
        " 37.2363\n",
        "3530000"
       ]
      },
      {
       "output_type": "stream",
       "stream": "stdout",
       "text": [
        " 25.7756\n",
        "3540000"
       ]
      },
      {
       "output_type": "stream",
       "stream": "stdout",
       "text": [
        " 33.9164\n",
        "3550000"
       ]
      },
      {
       "output_type": "stream",
       "stream": "stdout",
       "text": [
        " 38.1183\n",
        "3560000"
       ]
      },
      {
       "output_type": "stream",
       "stream": "stdout",
       "text": [
        " 27.1034\n",
        "3570000"
       ]
      },
      {
       "output_type": "stream",
       "stream": "stdout",
       "text": [
        " 41.1037\n",
        "3580000"
       ]
      },
      {
       "output_type": "stream",
       "stream": "stdout",
       "text": [
        " 39.3951\n",
        "3590000"
       ]
      },
      {
       "output_type": "stream",
       "stream": "stdout",
       "text": [
        " 38.7818\n",
        "3600000"
       ]
      },
      {
       "output_type": "stream",
       "stream": "stdout",
       "text": [
        " 37.2018\n",
        "3610000"
       ]
      },
      {
       "output_type": "stream",
       "stream": "stdout",
       "text": [
        " 33.5723\n",
        "3620000"
       ]
      },
      {
       "output_type": "stream",
       "stream": "stdout",
       "text": [
        " 31.16\n",
        "3630000"
       ]
      },
      {
       "output_type": "stream",
       "stream": "stdout",
       "text": [
        " 32.0211\n",
        "3640000"
       ]
      },
      {
       "output_type": "stream",
       "stream": "stdout",
       "text": [
        " 36.0742\n",
        "3650000"
       ]
      },
      {
       "output_type": "stream",
       "stream": "stdout",
       "text": [
        " 29.998\n",
        "3660000"
       ]
      },
      {
       "output_type": "stream",
       "stream": "stdout",
       "text": [
        " 28.2634\n",
        "3670000"
       ]
      },
      {
       "output_type": "stream",
       "stream": "stdout",
       "text": [
        " 28.1491\n",
        "3680000"
       ]
      },
      {
       "output_type": "stream",
       "stream": "stdout",
       "text": [
        " 40.4219\n",
        "3690000"
       ]
      },
      {
       "output_type": "stream",
       "stream": "stdout",
       "text": [
        " 34.4564\n",
        "3700000"
       ]
      },
      {
       "output_type": "stream",
       "stream": "stdout",
       "text": [
        " 32.9348\n",
        "3710000"
       ]
      },
      {
       "output_type": "stream",
       "stream": "stdout",
       "text": [
        " 32.2071\n",
        "3720000"
       ]
      },
      {
       "output_type": "stream",
       "stream": "stdout",
       "text": [
        " 40.7696\n",
        "3730000"
       ]
      },
      {
       "output_type": "stream",
       "stream": "stdout",
       "text": [
        " 35.1825\n",
        "3740000"
       ]
      },
      {
       "output_type": "stream",
       "stream": "stdout",
       "text": [
        " 41.3465\n",
        "3750000"
       ]
      },
      {
       "output_type": "stream",
       "stream": "stdout",
       "text": [
        " 37.3955\n",
        "3760000"
       ]
      },
      {
       "output_type": "stream",
       "stream": "stdout",
       "text": [
        " 28.784\n",
        "3770000"
       ]
      },
      {
       "output_type": "stream",
       "stream": "stdout",
       "text": [
        " 30.9495\n",
        "3780000"
       ]
      },
      {
       "output_type": "stream",
       "stream": "stdout",
       "text": [
        " 36.5971\n",
        "3790000"
       ]
      },
      {
       "output_type": "stream",
       "stream": "stdout",
       "text": [
        " 40.1222\n",
        "3800000"
       ]
      },
      {
       "output_type": "stream",
       "stream": "stdout",
       "text": [
        " 46.3477\n",
        "3810000"
       ]
      },
      {
       "output_type": "stream",
       "stream": "stdout",
       "text": [
        " 35.9952\n",
        "3820000"
       ]
      },
      {
       "output_type": "stream",
       "stream": "stdout",
       "text": [
        " 32.2409\n",
        "3830000"
       ]
      },
      {
       "output_type": "stream",
       "stream": "stdout",
       "text": [
        " 30.2906\n",
        "3840000"
       ]
      },
      {
       "output_type": "stream",
       "stream": "stdout",
       "text": [
        " 37.1488\n",
        "3850000"
       ]
      },
      {
       "output_type": "stream",
       "stream": "stdout",
       "text": [
        " 31.7573\n",
        "3860000"
       ]
      },
      {
       "output_type": "stream",
       "stream": "stdout",
       "text": [
        " 43.6489\n",
        "3870000"
       ]
      },
      {
       "output_type": "stream",
       "stream": "stdout",
       "text": [
        " 31.1723\n",
        "3880000"
       ]
      },
      {
       "output_type": "stream",
       "stream": "stdout",
       "text": [
        " 33.5429\n",
        "3890000"
       ]
      },
      {
       "output_type": "stream",
       "stream": "stdout",
       "text": [
        " 48.5356\n",
        "3900000"
       ]
      },
      {
       "output_type": "stream",
       "stream": "stdout",
       "text": [
        " 33.6511\n",
        "3910000"
       ]
      },
      {
       "output_type": "stream",
       "stream": "stdout",
       "text": [
        " 34.0613\n",
        "3920000"
       ]
      },
      {
       "output_type": "stream",
       "stream": "stdout",
       "text": [
        " 25.7008\n",
        "3930000"
       ]
      },
      {
       "output_type": "stream",
       "stream": "stdout",
       "text": [
        " 25.2814\n",
        "3940000"
       ]
      },
      {
       "output_type": "stream",
       "stream": "stdout",
       "text": [
        " 27.3449\n",
        "3950000"
       ]
      },
      {
       "output_type": "stream",
       "stream": "stdout",
       "text": [
        " 30.6223\n",
        "3960000"
       ]
      },
      {
       "output_type": "stream",
       "stream": "stdout",
       "text": [
        " 45.0593\n",
        "3970000"
       ]
      },
      {
       "output_type": "stream",
       "stream": "stdout",
       "text": [
        " 31.6142\n",
        "3980000"
       ]
      },
      {
       "output_type": "stream",
       "stream": "stdout",
       "text": [
        " 34.0742\n",
        "3990000"
       ]
      },
      {
       "output_type": "stream",
       "stream": "stdout",
       "text": [
        " 29.8341\n",
        "4000000"
       ]
      },
      {
       "output_type": "stream",
       "stream": "stdout",
       "text": [
        " 28.3448\n",
        "4010000"
       ]
      },
      {
       "output_type": "stream",
       "stream": "stdout",
       "text": [
        " 37.1973\n",
        "4020000"
       ]
      },
      {
       "output_type": "stream",
       "stream": "stdout",
       "text": [
        " 21.416\n",
        "4030000"
       ]
      },
      {
       "output_type": "stream",
       "stream": "stdout",
       "text": [
        " 32.3685\n",
        "4040000"
       ]
      },
      {
       "output_type": "stream",
       "stream": "stdout",
       "text": [
        " 38.4548\n",
        "4050000"
       ]
      },
      {
       "output_type": "stream",
       "stream": "stdout",
       "text": [
        " 26.8632\n",
        "4060000"
       ]
      },
      {
       "output_type": "stream",
       "stream": "stdout",
       "text": [
        " 32.3785\n",
        "4070000"
       ]
      },
      {
       "output_type": "stream",
       "stream": "stdout",
       "text": [
        " 37.9063\n",
        "4080000"
       ]
      },
      {
       "output_type": "stream",
       "stream": "stdout",
       "text": [
        " 26.1848\n",
        "4090000"
       ]
      },
      {
       "output_type": "stream",
       "stream": "stdout",
       "text": [
        " 37.3607\n",
        "4100000"
       ]
      },
      {
       "output_type": "stream",
       "stream": "stdout",
       "text": [
        " 33.0823\n",
        "4110000"
       ]
      },
      {
       "output_type": "stream",
       "stream": "stdout",
       "text": [
        " 35.1629\n",
        "4120000"
       ]
      },
      {
       "output_type": "stream",
       "stream": "stdout",
       "text": [
        " 31.2989\n",
        "4130000"
       ]
      },
      {
       "output_type": "stream",
       "stream": "stdout",
       "text": [
        " 45.7833\n",
        "4140000"
       ]
      },
      {
       "output_type": "stream",
       "stream": "stdout",
       "text": [
        " 40.0198\n",
        "4150000"
       ]
      },
      {
       "output_type": "stream",
       "stream": "stdout",
       "text": [
        " 36.2175\n",
        "4160000"
       ]
      },
      {
       "output_type": "stream",
       "stream": "stdout",
       "text": [
        " 30.0543\n",
        "4170000"
       ]
      },
      {
       "output_type": "stream",
       "stream": "stdout",
       "text": [
        " 35.388\n",
        "4180000"
       ]
      },
      {
       "output_type": "stream",
       "stream": "stdout",
       "text": [
        " 37.183\n",
        "4190000"
       ]
      },
      {
       "output_type": "stream",
       "stream": "stdout",
       "text": [
        " 38.4829\n",
        "4200000"
       ]
      },
      {
       "output_type": "stream",
       "stream": "stdout",
       "text": [
        " 42.0774\n",
        "4210000"
       ]
      },
      {
       "output_type": "stream",
       "stream": "stdout",
       "text": [
        " 53.4632\n",
        "4220000"
       ]
      },
      {
       "output_type": "stream",
       "stream": "stdout",
       "text": [
        " 35.3257\n",
        "4230000"
       ]
      },
      {
       "output_type": "stream",
       "stream": "stdout",
       "text": [
        " 34.2909\n",
        "4240000"
       ]
      },
      {
       "output_type": "stream",
       "stream": "stdout",
       "text": [
        " 40.7926\n",
        "4250000"
       ]
      },
      {
       "output_type": "stream",
       "stream": "stdout",
       "text": [
        " 32.6022\n",
        "4260000"
       ]
      },
      {
       "output_type": "stream",
       "stream": "stdout",
       "text": [
        " 36.0104\n",
        "4270000"
       ]
      },
      {
       "output_type": "stream",
       "stream": "stdout",
       "text": [
        " 36.3288\n",
        "4280000"
       ]
      },
      {
       "output_type": "stream",
       "stream": "stdout",
       "text": [
        " 38.2625\n",
        "4290000"
       ]
      },
      {
       "output_type": "stream",
       "stream": "stdout",
       "text": [
        " 31.9415\n",
        "4300000"
       ]
      },
      {
       "output_type": "stream",
       "stream": "stdout",
       "text": [
        " 23.479\n",
        "4310000"
       ]
      },
      {
       "output_type": "stream",
       "stream": "stdout",
       "text": [
        " 37.9007\n",
        "4320000"
       ]
      },
      {
       "output_type": "stream",
       "stream": "stdout",
       "text": [
        " 45.7872\n",
        "4330000"
       ]
      },
      {
       "output_type": "stream",
       "stream": "stdout",
       "text": [
        " 28.3856\n",
        "4340000"
       ]
      },
      {
       "output_type": "stream",
       "stream": "stdout",
       "text": [
        " 44.725\n",
        "4350000"
       ]
      },
      {
       "output_type": "stream",
       "stream": "stdout",
       "text": [
        " 37.4624\n",
        "4360000"
       ]
      },
      {
       "output_type": "stream",
       "stream": "stdout",
       "text": [
        " 42.4967\n",
        "4370000"
       ]
      },
      {
       "output_type": "stream",
       "stream": "stdout",
       "text": [
        " 35.5428\n",
        "4380000"
       ]
      },
      {
       "output_type": "stream",
       "stream": "stdout",
       "text": [
        " 41.1302\n",
        "4390000"
       ]
      },
      {
       "output_type": "stream",
       "stream": "stdout",
       "text": [
        " 33.7617\n",
        "4400000"
       ]
      },
      {
       "output_type": "stream",
       "stream": "stdout",
       "text": [
        " 35.3892\n",
        "4410000"
       ]
      },
      {
       "output_type": "stream",
       "stream": "stdout",
       "text": [
        " 28.291\n",
        "4420000"
       ]
      },
      {
       "output_type": "stream",
       "stream": "stdout",
       "text": [
        " 42.2426\n",
        "4430000"
       ]
      },
      {
       "output_type": "stream",
       "stream": "stdout",
       "text": [
        " 41.7371\n",
        "4440000"
       ]
      },
      {
       "output_type": "stream",
       "stream": "stdout",
       "text": [
        " 35.7784\n",
        "4450000"
       ]
      },
      {
       "output_type": "stream",
       "stream": "stdout",
       "text": [
        " 38.7301\n",
        "4460000"
       ]
      },
      {
       "output_type": "stream",
       "stream": "stdout",
       "text": [
        " 34.6005\n",
        "4470000"
       ]
      },
      {
       "output_type": "stream",
       "stream": "stdout",
       "text": [
        " 44.9942\n",
        "4480000"
       ]
      },
      {
       "output_type": "stream",
       "stream": "stdout",
       "text": [
        " 39.083\n",
        "4490000"
       ]
      },
      {
       "output_type": "stream",
       "stream": "stdout",
       "text": [
        " 29.6657\n",
        "4500000"
       ]
      },
      {
       "output_type": "stream",
       "stream": "stdout",
       "text": [
        " 31.5366\n",
        "4510000"
       ]
      },
      {
       "output_type": "stream",
       "stream": "stdout",
       "text": [
        " 29.1994\n",
        "4520000"
       ]
      },
      {
       "output_type": "stream",
       "stream": "stdout",
       "text": [
        " 43.5724\n",
        "4530000"
       ]
      },
      {
       "output_type": "stream",
       "stream": "stdout",
       "text": [
        " 38.5048\n",
        "4540000"
       ]
      },
      {
       "output_type": "stream",
       "stream": "stdout",
       "text": [
        " 33.4404\n",
        "4550000"
       ]
      },
      {
       "output_type": "stream",
       "stream": "stdout",
       "text": [
        " 28.836\n",
        "4560000"
       ]
      },
      {
       "output_type": "stream",
       "stream": "stdout",
       "text": [
        " 38.3486\n",
        "4570000"
       ]
      },
      {
       "output_type": "stream",
       "stream": "stdout",
       "text": [
        " 35.503\n",
        "4580000"
       ]
      },
      {
       "output_type": "stream",
       "stream": "stdout",
       "text": [
        " 39.2944\n",
        "4590000"
       ]
      },
      {
       "output_type": "stream",
       "stream": "stdout",
       "text": [
        " 28.1832\n",
        "4600000"
       ]
      },
      {
       "output_type": "stream",
       "stream": "stdout",
       "text": [
        " 43.523\n",
        "4610000"
       ]
      },
      {
       "output_type": "stream",
       "stream": "stdout",
       "text": [
        " 24.8781\n",
        "4620000"
       ]
      },
      {
       "output_type": "stream",
       "stream": "stdout",
       "text": [
        " 36.259\n",
        "4630000"
       ]
      },
      {
       "output_type": "stream",
       "stream": "stdout",
       "text": [
        " 36.9891\n",
        "4640000"
       ]
      },
      {
       "output_type": "stream",
       "stream": "stdout",
       "text": [
        " 25.419\n",
        "4650000"
       ]
      },
      {
       "output_type": "stream",
       "stream": "stdout",
       "text": [
        " 40.1293\n",
        "4660000"
       ]
      },
      {
       "output_type": "stream",
       "stream": "stdout",
       "text": [
        " 39.0453\n",
        "4670000"
       ]
      },
      {
       "output_type": "stream",
       "stream": "stdout",
       "text": [
        " 40.4911\n",
        "4680000"
       ]
      },
      {
       "output_type": "stream",
       "stream": "stdout",
       "text": [
        " 33.7039\n",
        "4690000"
       ]
      },
      {
       "output_type": "stream",
       "stream": "stdout",
       "text": [
        " 29.6655\n",
        "4700000"
       ]
      },
      {
       "output_type": "stream",
       "stream": "stdout",
       "text": [
        " 35.8021\n",
        "4710000"
       ]
      },
      {
       "output_type": "stream",
       "stream": "stdout",
       "text": [
        " 36.3933\n",
        "4720000"
       ]
      },
      {
       "output_type": "stream",
       "stream": "stdout",
       "text": [
        " 32.9246\n",
        "4730000"
       ]
      },
      {
       "output_type": "stream",
       "stream": "stdout",
       "text": [
        " 35.1675\n",
        "4740000"
       ]
      },
      {
       "output_type": "stream",
       "stream": "stdout",
       "text": [
        " 33.732\n",
        "4750000"
       ]
      },
      {
       "output_type": "stream",
       "stream": "stdout",
       "text": [
        " 37.894\n",
        "4760000"
       ]
      },
      {
       "output_type": "stream",
       "stream": "stdout",
       "text": [
        " 33.0154\n",
        "4770000"
       ]
      },
      {
       "output_type": "stream",
       "stream": "stdout",
       "text": [
        " 49.951\n",
        "4780000"
       ]
      },
      {
       "output_type": "stream",
       "stream": "stdout",
       "text": [
        " 42.0691\n",
        "4790000"
       ]
      },
      {
       "output_type": "stream",
       "stream": "stdout",
       "text": [
        " 26.5689\n",
        "4800000"
       ]
      },
      {
       "output_type": "stream",
       "stream": "stdout",
       "text": [
        " 38.1404\n",
        "4810000"
       ]
      },
      {
       "output_type": "stream",
       "stream": "stdout",
       "text": [
        " 36.5425\n",
        "4820000"
       ]
      },
      {
       "output_type": "stream",
       "stream": "stdout",
       "text": [
        " 38.148\n",
        "4830000"
       ]
      },
      {
       "output_type": "stream",
       "stream": "stdout",
       "text": [
        " 34.3351\n",
        "4840000"
       ]
      },
      {
       "output_type": "stream",
       "stream": "stdout",
       "text": [
        " 44.2888\n",
        "4850000"
       ]
      },
      {
       "output_type": "stream",
       "stream": "stdout",
       "text": [
        " 35.2307\n",
        "4860000"
       ]
      },
      {
       "output_type": "stream",
       "stream": "stdout",
       "text": [
        " 32.8127\n",
        "4870000"
       ]
      },
      {
       "output_type": "stream",
       "stream": "stdout",
       "text": [
        " 31.5912\n",
        "4880000"
       ]
      },
      {
       "output_type": "stream",
       "stream": "stdout",
       "text": [
        " 27.9258\n",
        "4890000"
       ]
      },
      {
       "output_type": "stream",
       "stream": "stdout",
       "text": [
        " 40.8651\n",
        "4900000"
       ]
      },
      {
       "output_type": "stream",
       "stream": "stdout",
       "text": [
        " 34.4277\n",
        "4910000"
       ]
      },
      {
       "output_type": "stream",
       "stream": "stdout",
       "text": [
        " 25.7121\n",
        "4920000"
       ]
      },
      {
       "output_type": "stream",
       "stream": "stdout",
       "text": [
        " 37.5539\n",
        "4930000"
       ]
      },
      {
       "output_type": "stream",
       "stream": "stdout",
       "text": [
        " 40.0861\n",
        "4940000"
       ]
      },
      {
       "output_type": "stream",
       "stream": "stdout",
       "text": [
        " 34.5736\n",
        "4950000"
       ]
      },
      {
       "output_type": "stream",
       "stream": "stdout",
       "text": [
        " 28.8774\n",
        "4960000"
       ]
      },
      {
       "output_type": "stream",
       "stream": "stdout",
       "text": [
        " 32.7012\n",
        "4970000"
       ]
      },
      {
       "output_type": "stream",
       "stream": "stdout",
       "text": [
        " 24.4893\n",
        "4980000"
       ]
      },
      {
       "output_type": "stream",
       "stream": "stdout",
       "text": [
        " 38.4505\n",
        "4990000"
       ]
      },
      {
       "output_type": "stream",
       "stream": "stdout",
       "text": [
        " 43.4902\n",
        "5000000"
       ]
      },
      {
       "output_type": "stream",
       "stream": "stdout",
       "text": [
        " 42.2719\n",
        "5010000"
       ]
      },
      {
       "output_type": "stream",
       "stream": "stdout",
       "text": [
        " 34.249\n",
        "5020000"
       ]
      },
      {
       "output_type": "stream",
       "stream": "stdout",
       "text": [
        " 32.9965\n",
        "5030000"
       ]
      },
      {
       "output_type": "stream",
       "stream": "stdout",
       "text": [
        " 25.8504\n",
        "5040000"
       ]
      },
      {
       "output_type": "stream",
       "stream": "stdout",
       "text": [
        " 33.835\n",
        "5050000"
       ]
      },
      {
       "output_type": "stream",
       "stream": "stdout",
       "text": [
        " 28.4638\n",
        "5060000"
       ]
      },
      {
       "output_type": "stream",
       "stream": "stdout",
       "text": [
        " 35.9553\n",
        "5070000"
       ]
      },
      {
       "output_type": "stream",
       "stream": "stdout",
       "text": [
        " 33.9194\n",
        "5080000"
       ]
      },
      {
       "output_type": "stream",
       "stream": "stdout",
       "text": [
        " 34.0997\n",
        "5090000"
       ]
      },
      {
       "output_type": "stream",
       "stream": "stdout",
       "text": [
        " 31.2914\n",
        "5100000"
       ]
      },
      {
       "output_type": "stream",
       "stream": "stdout",
       "text": [
        " 34.3661\n",
        "5110000"
       ]
      },
      {
       "output_type": "stream",
       "stream": "stdout",
       "text": [
        " 27.9902\n",
        "5120000"
       ]
      },
      {
       "output_type": "stream",
       "stream": "stdout",
       "text": [
        " 41.8482\n",
        "5130000"
       ]
      },
      {
       "output_type": "stream",
       "stream": "stdout",
       "text": [
        " 37.2518\n",
        "5140000"
       ]
      },
      {
       "output_type": "stream",
       "stream": "stdout",
       "text": [
        " 40.9023\n",
        "5150000"
       ]
      },
      {
       "output_type": "stream",
       "stream": "stdout",
       "text": [
        " 45.0552\n",
        "5160000"
       ]
      },
      {
       "output_type": "stream",
       "stream": "stdout",
       "text": [
        " 28.4558\n",
        "5170000"
       ]
      },
      {
       "output_type": "stream",
       "stream": "stdout",
       "text": [
        " 31.4282\n",
        "5180000"
       ]
      },
      {
       "output_type": "stream",
       "stream": "stdout",
       "text": [
        " 33.9935\n",
        "5190000"
       ]
      },
      {
       "output_type": "stream",
       "stream": "stdout",
       "text": [
        " 28.6215\n",
        "5200000"
       ]
      },
      {
       "output_type": "stream",
       "stream": "stdout",
       "text": [
        " 41.277\n",
        "5210000"
       ]
      },
      {
       "output_type": "stream",
       "stream": "stdout",
       "text": [
        " 27.8702\n",
        "5220000"
       ]
      },
      {
       "output_type": "stream",
       "stream": "stdout",
       "text": [
        " 40.4814\n",
        "5230000"
       ]
      },
      {
       "output_type": "stream",
       "stream": "stdout",
       "text": [
        " 34.4584\n",
        "5240000"
       ]
      },
      {
       "output_type": "stream",
       "stream": "stdout",
       "text": [
        " 40.0808\n",
        "5250000"
       ]
      },
      {
       "output_type": "stream",
       "stream": "stdout",
       "text": [
        " 49.866\n",
        "5260000"
       ]
      },
      {
       "output_type": "stream",
       "stream": "stdout",
       "text": [
        " 31.9327\n",
        "5270000"
       ]
      },
      {
       "output_type": "stream",
       "stream": "stdout",
       "text": [
        " 40.1544\n",
        "5280000"
       ]
      },
      {
       "output_type": "stream",
       "stream": "stdout",
       "text": [
        " 34.1352\n",
        "5290000"
       ]
      },
      {
       "output_type": "stream",
       "stream": "stdout",
       "text": [
        " 41.8915\n",
        "5300000"
       ]
      },
      {
       "output_type": "stream",
       "stream": "stdout",
       "text": [
        " 24.6137\n",
        "5310000"
       ]
      },
      {
       "output_type": "stream",
       "stream": "stdout",
       "text": [
        " 36.973\n",
        "5320000"
       ]
      },
      {
       "output_type": "stream",
       "stream": "stdout",
       "text": [
        " 37.2975\n",
        "5330000"
       ]
      },
      {
       "output_type": "stream",
       "stream": "stdout",
       "text": [
        " 27.9078\n",
        "5340000"
       ]
      },
      {
       "output_type": "stream",
       "stream": "stdout",
       "text": [
        " 43.8894\n",
        "5350000"
       ]
      },
      {
       "output_type": "stream",
       "stream": "stdout",
       "text": [
        " 35.1549\n",
        "5360000"
       ]
      },
      {
       "output_type": "stream",
       "stream": "stdout",
       "text": [
        " 44.2369\n",
        "5370000"
       ]
      },
      {
       "output_type": "stream",
       "stream": "stdout",
       "text": [
        " 26.7884\n",
        "5380000"
       ]
      },
      {
       "output_type": "stream",
       "stream": "stdout",
       "text": [
        " 27.1644\n",
        "5390000"
       ]
      },
      {
       "output_type": "stream",
       "stream": "stdout",
       "text": [
        " 35.8102\n",
        "5400000"
       ]
      },
      {
       "output_type": "stream",
       "stream": "stdout",
       "text": [
        " 46.0933\n",
        "5410000"
       ]
      },
      {
       "output_type": "stream",
       "stream": "stdout",
       "text": [
        " 31.9741\n",
        "5420000"
       ]
      },
      {
       "output_type": "stream",
       "stream": "stdout",
       "text": [
        " 33.7903\n",
        "5430000"
       ]
      },
      {
       "output_type": "stream",
       "stream": "stdout",
       "text": [
        " 44.2852\n",
        "5440000"
       ]
      },
      {
       "output_type": "stream",
       "stream": "stdout",
       "text": [
        " 46.2884\n",
        "5450000"
       ]
      },
      {
       "output_type": "stream",
       "stream": "stdout",
       "text": [
        " 26.168\n",
        "5460000"
       ]
      },
      {
       "output_type": "stream",
       "stream": "stdout",
       "text": [
        " 31.8301\n",
        "5470000"
       ]
      },
      {
       "output_type": "stream",
       "stream": "stdout",
       "text": [
        " 21.7814\n",
        "5480000"
       ]
      },
      {
       "output_type": "stream",
       "stream": "stdout",
       "text": [
        " 24.6026\n",
        "5490000"
       ]
      },
      {
       "output_type": "stream",
       "stream": "stdout",
       "text": [
        " 35.6171\n",
        "5500000"
       ]
      },
      {
       "output_type": "stream",
       "stream": "stdout",
       "text": [
        " 37.7683\n",
        "5510000"
       ]
      },
      {
       "output_type": "stream",
       "stream": "stdout",
       "text": [
        " 33.326\n",
        "5520000"
       ]
      },
      {
       "output_type": "stream",
       "stream": "stdout",
       "text": [
        " 41.6164\n",
        "5530000"
       ]
      },
      {
       "output_type": "stream",
       "stream": "stdout",
       "text": [
        " 39.0558\n",
        "5540000"
       ]
      },
      {
       "output_type": "stream",
       "stream": "stdout",
       "text": [
        " 39.8117\n",
        "5550000"
       ]
      },
      {
       "output_type": "stream",
       "stream": "stdout",
       "text": [
        " 34.6472\n",
        "5560000"
       ]
      },
      {
       "output_type": "stream",
       "stream": "stdout",
       "text": [
        " 32.7536\n",
        "5570000"
       ]
      },
      {
       "output_type": "stream",
       "stream": "stdout",
       "text": [
        " 33.7479\n",
        "5580000"
       ]
      },
      {
       "output_type": "stream",
       "stream": "stdout",
       "text": [
        " 20.8838\n",
        "5590000"
       ]
      },
      {
       "output_type": "stream",
       "stream": "stdout",
       "text": [
        " 42.5312\n",
        "5600000"
       ]
      },
      {
       "output_type": "stream",
       "stream": "stdout",
       "text": [
        " 30.6116\n",
        "5610000"
       ]
      },
      {
       "output_type": "stream",
       "stream": "stdout",
       "text": [
        " 39.0596\n",
        "5620000"
       ]
      },
      {
       "output_type": "stream",
       "stream": "stdout",
       "text": [
        " 33.9864\n",
        "5630000"
       ]
      },
      {
       "output_type": "stream",
       "stream": "stdout",
       "text": [
        " 46.5952\n",
        "5640000"
       ]
      },
      {
       "output_type": "stream",
       "stream": "stdout",
       "text": [
        " 30.5741\n",
        "5650000"
       ]
      },
      {
       "output_type": "stream",
       "stream": "stdout",
       "text": [
        " 34.0824\n",
        "5660000"
       ]
      },
      {
       "output_type": "stream",
       "stream": "stdout",
       "text": [
        " 34.0892\n",
        "5670000"
       ]
      },
      {
       "output_type": "stream",
       "stream": "stdout",
       "text": [
        " 36.3236\n",
        "5680000"
       ]
      },
      {
       "output_type": "stream",
       "stream": "stdout",
       "text": [
        " 23.0658\n",
        "5690000"
       ]
      },
      {
       "output_type": "stream",
       "stream": "stdout",
       "text": [
        " 29.42\n",
        "5700000"
       ]
      },
      {
       "output_type": "stream",
       "stream": "stdout",
       "text": [
        " 33.836\n",
        "5710000"
       ]
      },
      {
       "output_type": "stream",
       "stream": "stdout",
       "text": [
        " 28.2601\n",
        "5720000"
       ]
      },
      {
       "output_type": "stream",
       "stream": "stdout",
       "text": [
        " 37.3412\n",
        "5730000"
       ]
      },
      {
       "output_type": "stream",
       "stream": "stdout",
       "text": [
        " 25.0011\n",
        "5740000"
       ]
      },
      {
       "output_type": "stream",
       "stream": "stdout",
       "text": [
        " 25.8091\n",
        "5750000"
       ]
      },
      {
       "output_type": "stream",
       "stream": "stdout",
       "text": [
        " 37.4204\n",
        "5760000"
       ]
      },
      {
       "output_type": "stream",
       "stream": "stdout",
       "text": [
        " 34.4017\n",
        "5770000"
       ]
      },
      {
       "output_type": "stream",
       "stream": "stdout",
       "text": [
        " 35.7267\n",
        "5780000"
       ]
      },
      {
       "output_type": "stream",
       "stream": "stdout",
       "text": [
        " 39.4957\n",
        "5790000"
       ]
      },
      {
       "output_type": "stream",
       "stream": "stdout",
       "text": [
        " 38.925\n",
        "5800000"
       ]
      },
      {
       "output_type": "stream",
       "stream": "stdout",
       "text": [
        " 34.1163\n",
        "5810000"
       ]
      },
      {
       "output_type": "stream",
       "stream": "stdout",
       "text": [
        " 35.1098\n",
        "5820000"
       ]
      },
      {
       "output_type": "stream",
       "stream": "stdout",
       "text": [
        " 37.6497\n",
        "5830000"
       ]
      },
      {
       "output_type": "stream",
       "stream": "stdout",
       "text": [
        " 26.5198\n",
        "5840000"
       ]
      },
      {
       "output_type": "stream",
       "stream": "stdout",
       "text": [
        " 28.5354\n",
        "5850000"
       ]
      },
      {
       "output_type": "stream",
       "stream": "stdout",
       "text": [
        " 32.0129\n",
        "5860000"
       ]
      },
      {
       "output_type": "stream",
       "stream": "stdout",
       "text": [
        " 39.5492\n",
        "5870000"
       ]
      },
      {
       "output_type": "stream",
       "stream": "stdout",
       "text": [
        " 34.4218\n",
        "5880000"
       ]
      },
      {
       "output_type": "stream",
       "stream": "stdout",
       "text": [
        " 37.9476\n",
        "5890000"
       ]
      },
      {
       "output_type": "stream",
       "stream": "stdout",
       "text": [
        " 34.9451\n",
        "5900000"
       ]
      },
      {
       "output_type": "stream",
       "stream": "stdout",
       "text": [
        " 42.8447\n",
        "5910000"
       ]
      },
      {
       "output_type": "stream",
       "stream": "stdout",
       "text": [
        " 40.7926\n",
        "5920000"
       ]
      },
      {
       "output_type": "stream",
       "stream": "stdout",
       "text": [
        " 37.2787\n",
        "5930000"
       ]
      },
      {
       "output_type": "stream",
       "stream": "stdout",
       "text": [
        " 37.0653\n",
        "5940000"
       ]
      },
      {
       "output_type": "stream",
       "stream": "stdout",
       "text": [
        " 36.0731\n",
        "5950000"
       ]
      },
      {
       "output_type": "stream",
       "stream": "stdout",
       "text": [
        " 28.6451\n",
        "5960000"
       ]
      },
      {
       "output_type": "stream",
       "stream": "stdout",
       "text": [
        " 47.867\n",
        "5970000"
       ]
      },
      {
       "output_type": "stream",
       "stream": "stdout",
       "text": [
        " 40.1922\n",
        "5980000"
       ]
      },
      {
       "output_type": "stream",
       "stream": "stdout",
       "text": [
        " 36.4995\n",
        "5990000"
       ]
      },
      {
       "output_type": "stream",
       "stream": "stdout",
       "text": [
        " 45.2145\n",
        "6000000"
       ]
      },
      {
       "output_type": "stream",
       "stream": "stdout",
       "text": [
        " 35.1966\n",
        "6010000"
       ]
      },
      {
       "output_type": "stream",
       "stream": "stdout",
       "text": [
        " 37.4757\n",
        "6020000"
       ]
      },
      {
       "output_type": "stream",
       "stream": "stdout",
       "text": [
        " 44.0161\n",
        "6030000"
       ]
      },
      {
       "output_type": "stream",
       "stream": "stdout",
       "text": [
        " 32.5893\n",
        "6040000"
       ]
      },
      {
       "output_type": "stream",
       "stream": "stdout",
       "text": [
        " 29.861\n",
        "6050000"
       ]
      },
      {
       "output_type": "stream",
       "stream": "stdout",
       "text": [
        " 29.9243\n",
        "6060000"
       ]
      },
      {
       "output_type": "stream",
       "stream": "stdout",
       "text": [
        " 32.3451\n",
        "6070000"
       ]
      },
      {
       "output_type": "stream",
       "stream": "stdout",
       "text": [
        " 25.8234\n",
        "6080000"
       ]
      },
      {
       "output_type": "stream",
       "stream": "stdout",
       "text": [
        " 31.634\n",
        "6090000"
       ]
      },
      {
       "output_type": "stream",
       "stream": "stdout",
       "text": [
        " 33.8254\n",
        "6100000"
       ]
      },
      {
       "output_type": "stream",
       "stream": "stdout",
       "text": [
        " 36.4849\n",
        "6110000"
       ]
      },
      {
       "output_type": "stream",
       "stream": "stdout",
       "text": [
        " 34.1179\n",
        "6120000"
       ]
      },
      {
       "output_type": "stream",
       "stream": "stdout",
       "text": [
        " 37.1389\n",
        "6130000"
       ]
      },
      {
       "output_type": "stream",
       "stream": "stdout",
       "text": [
        " 40.2616\n",
        "6140000"
       ]
      },
      {
       "output_type": "stream",
       "stream": "stdout",
       "text": [
        " 35.1349\n",
        "6150000"
       ]
      },
      {
       "output_type": "stream",
       "stream": "stdout",
       "text": [
        " 26.6715\n",
        "6160000"
       ]
      },
      {
       "output_type": "stream",
       "stream": "stdout",
       "text": [
        " 34.3284\n",
        "6170000"
       ]
      },
      {
       "output_type": "stream",
       "stream": "stdout",
       "text": [
        " 32.6836\n",
        "6180000"
       ]
      },
      {
       "output_type": "stream",
       "stream": "stdout",
       "text": [
        " 34.3303\n",
        "6190000"
       ]
      },
      {
       "output_type": "stream",
       "stream": "stdout",
       "text": [
        " 29.5718\n",
        "6200000"
       ]
      },
      {
       "output_type": "stream",
       "stream": "stdout",
       "text": [
        " 36.6683\n",
        "6210000"
       ]
      },
      {
       "output_type": "stream",
       "stream": "stdout",
       "text": [
        " 41.3939\n",
        "6220000"
       ]
      },
      {
       "output_type": "stream",
       "stream": "stdout",
       "text": [
        " 54.2944\n",
        "6230000"
       ]
      },
      {
       "output_type": "stream",
       "stream": "stdout",
       "text": [
        " 35.0921\n",
        "6240000"
       ]
      },
      {
       "output_type": "stream",
       "stream": "stdout",
       "text": [
        " 32.1008\n",
        "6250000"
       ]
      },
      {
       "output_type": "stream",
       "stream": "stdout",
       "text": [
        " 37.1434\n",
        "6260000"
       ]
      },
      {
       "output_type": "stream",
       "stream": "stdout",
       "text": [
        " 37.2529\n",
        "6270000"
       ]
      },
      {
       "output_type": "stream",
       "stream": "stdout",
       "text": [
        " 37.4923\n",
        "6280000"
       ]
      },
      {
       "output_type": "stream",
       "stream": "stdout",
       "text": [
        " 29.0611\n",
        "6290000"
       ]
      },
      {
       "output_type": "stream",
       "stream": "stdout",
       "text": [
        " 24.4947\n",
        "6300000"
       ]
      },
      {
       "output_type": "stream",
       "stream": "stdout",
       "text": [
        " 29.0725\n",
        "6310000"
       ]
      },
      {
       "output_type": "stream",
       "stream": "stdout",
       "text": [
        " 31.1217\n",
        "6320000"
       ]
      },
      {
       "output_type": "stream",
       "stream": "stdout",
       "text": [
        " 40.9748\n",
        "6330000"
       ]
      },
      {
       "output_type": "stream",
       "stream": "stdout",
       "text": [
        " 33.0462\n",
        "6340000"
       ]
      },
      {
       "output_type": "stream",
       "stream": "stdout",
       "text": [
        " 29.3339\n",
        "6350000"
       ]
      },
      {
       "output_type": "stream",
       "stream": "stdout",
       "text": [
        " 23.7744\n",
        "6360000"
       ]
      },
      {
       "output_type": "stream",
       "stream": "stdout",
       "text": [
        " 39.4412\n",
        "6370000"
       ]
      },
      {
       "output_type": "stream",
       "stream": "stdout",
       "text": [
        " 40.113\n",
        "6380000"
       ]
      },
      {
       "output_type": "stream",
       "stream": "stdout",
       "text": [
        " 35.6457\n",
        "6390000"
       ]
      },
      {
       "output_type": "stream",
       "stream": "stdout",
       "text": [
        " 42.9164\n",
        "6400000"
       ]
      },
      {
       "output_type": "stream",
       "stream": "stdout",
       "text": [
        " 35.1312\n",
        "6410000"
       ]
      },
      {
       "output_type": "stream",
       "stream": "stdout",
       "text": [
        " 35.901\n",
        "6420000"
       ]
      },
      {
       "output_type": "stream",
       "stream": "stdout",
       "text": [
        " 47.277\n",
        "6430000"
       ]
      },
      {
       "output_type": "stream",
       "stream": "stdout",
       "text": [
        " 28.9833\n",
        "6440000"
       ]
      },
      {
       "output_type": "stream",
       "stream": "stdout",
       "text": [
        " 31.8336\n",
        "6450000"
       ]
      },
      {
       "output_type": "stream",
       "stream": "stdout",
       "text": [
        " 24.6436\n",
        "6460000"
       ]
      },
      {
       "output_type": "stream",
       "stream": "stdout",
       "text": [
        " 46.3373\n",
        "6470000"
       ]
      },
      {
       "output_type": "stream",
       "stream": "stdout",
       "text": [
        " 33.3331\n",
        "6480000"
       ]
      },
      {
       "output_type": "stream",
       "stream": "stdout",
       "text": [
        " 41.4391\n",
        "6490000"
       ]
      },
      {
       "output_type": "stream",
       "stream": "stdout",
       "text": [
        " 45.5366\n",
        "6500000"
       ]
      },
      {
       "output_type": "stream",
       "stream": "stdout",
       "text": [
        " 32.8309\n",
        "6510000"
       ]
      },
      {
       "output_type": "stream",
       "stream": "stdout",
       "text": [
        " 33.4191\n",
        "6520000"
       ]
      },
      {
       "output_type": "stream",
       "stream": "stdout",
       "text": [
        " 31.9029\n",
        "6530000"
       ]
      },
      {
       "output_type": "stream",
       "stream": "stdout",
       "text": [
        " 33.012\n",
        "6540000"
       ]
      },
      {
       "output_type": "stream",
       "stream": "stdout",
       "text": [
        " 32.4727\n",
        "6550000"
       ]
      },
      {
       "output_type": "stream",
       "stream": "stdout",
       "text": [
        " 32.5856\n",
        "6560000"
       ]
      },
      {
       "output_type": "stream",
       "stream": "stdout",
       "text": [
        " 25.1717\n",
        "6570000"
       ]
      },
      {
       "output_type": "stream",
       "stream": "stdout",
       "text": [
        " 42.4665\n",
        "6580000"
       ]
      },
      {
       "output_type": "stream",
       "stream": "stdout",
       "text": [
        " 41.839\n",
        "6590000"
       ]
      },
      {
       "output_type": "stream",
       "stream": "stdout",
       "text": [
        " 37.0262\n",
        "6600000"
       ]
      },
      {
       "output_type": "stream",
       "stream": "stdout",
       "text": [
        " 34.4226\n",
        "6610000"
       ]
      },
      {
       "output_type": "stream",
       "stream": "stdout",
       "text": [
        " 41.7831\n",
        "6620000"
       ]
      },
      {
       "output_type": "stream",
       "stream": "stdout",
       "text": [
        " 45.5386\n",
        "6630000"
       ]
      },
      {
       "output_type": "stream",
       "stream": "stdout",
       "text": [
        " 29.2855\n",
        "6640000"
       ]
      },
      {
       "output_type": "stream",
       "stream": "stdout",
       "text": [
        " 23.8547\n",
        "6650000"
       ]
      },
      {
       "output_type": "stream",
       "stream": "stdout",
       "text": [
        " 23.2416\n",
        "6660000"
       ]
      },
      {
       "output_type": "stream",
       "stream": "stdout",
       "text": [
        " 32.0463\n",
        "6670000"
       ]
      },
      {
       "output_type": "stream",
       "stream": "stdout",
       "text": [
        " 38.2358\n",
        "6680000"
       ]
      },
      {
       "output_type": "stream",
       "stream": "stdout",
       "text": [
        " 35.4741\n",
        "6690000"
       ]
      },
      {
       "output_type": "stream",
       "stream": "stdout",
       "text": [
        " 29.9201\n",
        "6700000"
       ]
      },
      {
       "output_type": "stream",
       "stream": "stdout",
       "text": [
        " 37.6492\n",
        "6710000"
       ]
      },
      {
       "output_type": "stream",
       "stream": "stdout",
       "text": [
        " 35.4816\n",
        "6720000"
       ]
      },
      {
       "output_type": "stream",
       "stream": "stdout",
       "text": [
        " 32.937\n",
        "6730000"
       ]
      },
      {
       "output_type": "stream",
       "stream": "stdout",
       "text": [
        " 27.7728\n",
        "6740000"
       ]
      },
      {
       "output_type": "stream",
       "stream": "stdout",
       "text": [
        " 50.0491\n",
        "6750000"
       ]
      },
      {
       "output_type": "stream",
       "stream": "stdout",
       "text": [
        " 31.9752\n",
        "6760000"
       ]
      },
      {
       "output_type": "stream",
       "stream": "stdout",
       "text": [
        " 34.6042\n",
        "6770000"
       ]
      },
      {
       "output_type": "stream",
       "stream": "stdout",
       "text": [
        " 34.0093\n",
        "6780000"
       ]
      },
      {
       "output_type": "stream",
       "stream": "stdout",
       "text": [
        " 28.8234\n",
        "6790000"
       ]
      },
      {
       "output_type": "stream",
       "stream": "stdout",
       "text": [
        " 33.3726\n",
        "6800000"
       ]
      },
      {
       "output_type": "stream",
       "stream": "stdout",
       "text": [
        " 38.3355\n",
        "6810000"
       ]
      },
      {
       "output_type": "stream",
       "stream": "stdout",
       "text": [
        " 34.0697\n",
        "6820000"
       ]
      },
      {
       "output_type": "stream",
       "stream": "stdout",
       "text": [
        " 36.0528\n",
        "6830000"
       ]
      },
      {
       "output_type": "stream",
       "stream": "stdout",
       "text": [
        " 30.5672\n",
        "6840000"
       ]
      },
      {
       "output_type": "stream",
       "stream": "stdout",
       "text": [
        " 39.2543\n",
        "6850000"
       ]
      },
      {
       "output_type": "stream",
       "stream": "stdout",
       "text": [
        " 28.9728\n",
        "6860000"
       ]
      },
      {
       "output_type": "stream",
       "stream": "stdout",
       "text": [
        " 23.4642\n",
        "6870000"
       ]
      },
      {
       "output_type": "stream",
       "stream": "stdout",
       "text": [
        " 30.8318\n",
        "6880000"
       ]
      },
      {
       "output_type": "stream",
       "stream": "stdout",
       "text": [
        " 28.2196\n",
        "6890000"
       ]
      },
      {
       "output_type": "stream",
       "stream": "stdout",
       "text": [
        " 37.3081\n",
        "6900000"
       ]
      },
      {
       "output_type": "stream",
       "stream": "stdout",
       "text": [
        " 41.3821\n",
        "6910000"
       ]
      },
      {
       "output_type": "stream",
       "stream": "stdout",
       "text": [
        " 37.8184\n",
        "6920000"
       ]
      },
      {
       "output_type": "stream",
       "stream": "stdout",
       "text": [
        " 32.9648\n",
        "6930000"
       ]
      },
      {
       "output_type": "stream",
       "stream": "stdout",
       "text": [
        " 29.2522\n",
        "6940000"
       ]
      },
      {
       "output_type": "stream",
       "stream": "stdout",
       "text": [
        " 42.9157\n",
        "6950000"
       ]
      },
      {
       "output_type": "stream",
       "stream": "stdout",
       "text": [
        " 32.1401\n",
        "6960000"
       ]
      },
      {
       "output_type": "stream",
       "stream": "stdout",
       "text": [
        " 29.1107\n",
        "6970000"
       ]
      },
      {
       "output_type": "stream",
       "stream": "stdout",
       "text": [
        " 28.7434\n",
        "6980000"
       ]
      },
      {
       "output_type": "stream",
       "stream": "stdout",
       "text": [
        " 32.5427\n",
        "6990000"
       ]
      },
      {
       "output_type": "stream",
       "stream": "stdout",
       "text": [
        " 33.7998\n",
        "7000000"
       ]
      },
      {
       "output_type": "stream",
       "stream": "stdout",
       "text": [
        " 24.1651\n",
        "7010000"
       ]
      },
      {
       "output_type": "stream",
       "stream": "stdout",
       "text": [
        " 37.3629\n",
        "7020000"
       ]
      },
      {
       "output_type": "stream",
       "stream": "stdout",
       "text": [
        " 31.2121\n",
        "7030000"
       ]
      },
      {
       "output_type": "stream",
       "stream": "stdout",
       "text": [
        " 48.6299\n",
        "7040000"
       ]
      },
      {
       "output_type": "stream",
       "stream": "stdout",
       "text": [
        " 35.2178\n",
        "7050000"
       ]
      },
      {
       "output_type": "stream",
       "stream": "stdout",
       "text": [
        " 32.5827\n",
        "7060000"
       ]
      },
      {
       "output_type": "stream",
       "stream": "stdout",
       "text": [
        " 30.1006\n",
        "7070000"
       ]
      },
      {
       "output_type": "stream",
       "stream": "stdout",
       "text": [
        " 30.5014\n",
        "7080000"
       ]
      },
      {
       "output_type": "stream",
       "stream": "stdout",
       "text": [
        " 38.6465\n",
        "7090000"
       ]
      },
      {
       "output_type": "stream",
       "stream": "stdout",
       "text": [
        " 31.125\n",
        "7100000"
       ]
      },
      {
       "output_type": "stream",
       "stream": "stdout",
       "text": [
        " 36.586\n",
        "7110000"
       ]
      },
      {
       "output_type": "stream",
       "stream": "stdout",
       "text": [
        " 33.8011\n",
        "7120000"
       ]
      },
      {
       "output_type": "stream",
       "stream": "stdout",
       "text": [
        " 31.0728\n",
        "7130000"
       ]
      },
      {
       "output_type": "stream",
       "stream": "stdout",
       "text": [
        " 40.0794\n",
        "7140000"
       ]
      },
      {
       "output_type": "stream",
       "stream": "stdout",
       "text": [
        " 34.9911\n",
        "7150000"
       ]
      },
      {
       "output_type": "stream",
       "stream": "stdout",
       "text": [
        " 39.5371\n",
        "7160000"
       ]
      },
      {
       "output_type": "stream",
       "stream": "stdout",
       "text": [
        " 35.0735\n",
        "7170000"
       ]
      },
      {
       "output_type": "stream",
       "stream": "stdout",
       "text": [
        " 40.0941\n",
        "7180000"
       ]
      },
      {
       "output_type": "stream",
       "stream": "stdout",
       "text": [
        " 34.458\n",
        "7190000"
       ]
      },
      {
       "output_type": "stream",
       "stream": "stdout",
       "text": [
        " 37.5935\n",
        "7200000"
       ]
      },
      {
       "output_type": "stream",
       "stream": "stdout",
       "text": [
        " 34.3554\n",
        "7210000"
       ]
      },
      {
       "output_type": "stream",
       "stream": "stdout",
       "text": [
        " 35.9756\n",
        "7220000"
       ]
      },
      {
       "output_type": "stream",
       "stream": "stdout",
       "text": [
        " 20.5018\n",
        "7230000"
       ]
      },
      {
       "output_type": "stream",
       "stream": "stdout",
       "text": [
        " 35.5595\n",
        "7240000"
       ]
      },
      {
       "output_type": "stream",
       "stream": "stdout",
       "text": [
        " 41.6016\n",
        "7250000"
       ]
      },
      {
       "output_type": "stream",
       "stream": "stdout",
       "text": [
        " 31.9009\n",
        "7260000"
       ]
      },
      {
       "output_type": "stream",
       "stream": "stdout",
       "text": [
        " 41.3889\n",
        "7270000"
       ]
      },
      {
       "output_type": "stream",
       "stream": "stdout",
       "text": [
        " 28.5812\n",
        "7280000"
       ]
      },
      {
       "output_type": "stream",
       "stream": "stdout",
       "text": [
        " 32.1514\n",
        "7290000"
       ]
      },
      {
       "output_type": "stream",
       "stream": "stdout",
       "text": [
        " 31.0641\n",
        "7300000"
       ]
      },
      {
       "output_type": "stream",
       "stream": "stdout",
       "text": [
        " 37.0126\n",
        "7310000"
       ]
      },
      {
       "output_type": "stream",
       "stream": "stdout",
       "text": [
        " 37.0892\n",
        "7320000"
       ]
      },
      {
       "output_type": "stream",
       "stream": "stdout",
       "text": [
        " 35.6283\n",
        "7330000"
       ]
      },
      {
       "output_type": "stream",
       "stream": "stdout",
       "text": [
        " 42.9469\n",
        "7340000"
       ]
      },
      {
       "output_type": "stream",
       "stream": "stdout",
       "text": [
        " 32.4688\n",
        "7350000"
       ]
      },
      {
       "output_type": "stream",
       "stream": "stdout",
       "text": [
        " 35.6688\n",
        "7360000"
       ]
      },
      {
       "output_type": "stream",
       "stream": "stdout",
       "text": [
        " 34.2626\n",
        "7370000"
       ]
      },
      {
       "output_type": "stream",
       "stream": "stdout",
       "text": [
        " 37.0257\n",
        "7380000"
       ]
      },
      {
       "output_type": "stream",
       "stream": "stdout",
       "text": [
        " 37.3054\n",
        "7390000"
       ]
      },
      {
       "output_type": "stream",
       "stream": "stdout",
       "text": [
        " 35.8511\n",
        "7400000"
       ]
      },
      {
       "output_type": "stream",
       "stream": "stdout",
       "text": [
        " 26.5926\n",
        "7410000"
       ]
      },
      {
       "output_type": "stream",
       "stream": "stdout",
       "text": [
        " 33.0324\n",
        "7420000"
       ]
      },
      {
       "output_type": "stream",
       "stream": "stdout",
       "text": [
        " 32.6809\n",
        "7430000"
       ]
      },
      {
       "output_type": "stream",
       "stream": "stdout",
       "text": [
        " 26.3488\n",
        "7440000"
       ]
      },
      {
       "output_type": "stream",
       "stream": "stdout",
       "text": [
        " 38.0465\n",
        "7450000"
       ]
      },
      {
       "output_type": "stream",
       "stream": "stdout",
       "text": [
        " 40.1192\n",
        "7460000"
       ]
      },
      {
       "output_type": "stream",
       "stream": "stdout",
       "text": [
        " 37.6499\n",
        "7470000"
       ]
      },
      {
       "output_type": "stream",
       "stream": "stdout",
       "text": [
        " 48.0542\n",
        "7480000"
       ]
      },
      {
       "output_type": "stream",
       "stream": "stdout",
       "text": [
        " 36.3054\n",
        "7490000"
       ]
      },
      {
       "output_type": "stream",
       "stream": "stdout",
       "text": [
        " 35.5558\n",
        "7500000"
       ]
      },
      {
       "output_type": "stream",
       "stream": "stdout",
       "text": [
        " 32.2606\n",
        "7510000"
       ]
      },
      {
       "output_type": "stream",
       "stream": "stdout",
       "text": [
        " 20.0552\n",
        "7520000"
       ]
      },
      {
       "output_type": "stream",
       "stream": "stdout",
       "text": [
        " 35.4387\n",
        "7530000"
       ]
      },
      {
       "output_type": "stream",
       "stream": "stdout",
       "text": [
        " 32.5982\n",
        "7540000"
       ]
      },
      {
       "output_type": "stream",
       "stream": "stdout",
       "text": [
        " 35.4028\n",
        "7550000"
       ]
      },
      {
       "output_type": "stream",
       "stream": "stdout",
       "text": [
        " 31.6943\n",
        "7560000"
       ]
      },
      {
       "output_type": "stream",
       "stream": "stdout",
       "text": [
        " 33.1429\n",
        "7570000"
       ]
      },
      {
       "output_type": "stream",
       "stream": "stdout",
       "text": [
        " 28.9381\n",
        "7580000"
       ]
      },
      {
       "output_type": "stream",
       "stream": "stdout",
       "text": [
        " 30.4937\n",
        "7590000"
       ]
      },
      {
       "output_type": "stream",
       "stream": "stdout",
       "text": [
        " 25.5339\n",
        "7600000"
       ]
      },
      {
       "output_type": "stream",
       "stream": "stdout",
       "text": [
        " 37.7437\n",
        "7610000"
       ]
      },
      {
       "output_type": "stream",
       "stream": "stdout",
       "text": [
        " 37.1652\n",
        "7620000"
       ]
      },
      {
       "output_type": "stream",
       "stream": "stdout",
       "text": [
        " 35.7472\n",
        "7630000"
       ]
      },
      {
       "output_type": "stream",
       "stream": "stdout",
       "text": [
        " 35.366\n",
        "7640000"
       ]
      },
      {
       "output_type": "stream",
       "stream": "stdout",
       "text": [
        " 36.1577\n",
        "7650000"
       ]
      },
      {
       "output_type": "stream",
       "stream": "stdout",
       "text": [
        " 34.5728\n",
        "7660000"
       ]
      },
      {
       "output_type": "stream",
       "stream": "stdout",
       "text": [
        " 41.4111\n",
        "7670000"
       ]
      },
      {
       "output_type": "stream",
       "stream": "stdout",
       "text": [
        " 38.3597\n",
        "7680000"
       ]
      },
      {
       "output_type": "stream",
       "stream": "stdout",
       "text": [
        " 27.416\n",
        "7690000"
       ]
      },
      {
       "output_type": "stream",
       "stream": "stdout",
       "text": [
        " 34.108\n",
        "7700000"
       ]
      },
      {
       "output_type": "stream",
       "stream": "stdout",
       "text": [
        " 39.8869\n",
        "7710000"
       ]
      },
      {
       "output_type": "stream",
       "stream": "stdout",
       "text": [
        " 41.3971\n",
        "7720000"
       ]
      },
      {
       "output_type": "stream",
       "stream": "stdout",
       "text": [
        " 33.7835\n",
        "7730000"
       ]
      },
      {
       "output_type": "stream",
       "stream": "stdout",
       "text": [
        " 33.865\n",
        "7740000"
       ]
      },
      {
       "output_type": "stream",
       "stream": "stdout",
       "text": [
        " 29.5725\n",
        "7750000"
       ]
      },
      {
       "output_type": "stream",
       "stream": "stdout",
       "text": [
        " 38.7087\n",
        "7760000"
       ]
      },
      {
       "output_type": "stream",
       "stream": "stdout",
       "text": [
        " 30.3114\n",
        "7770000"
       ]
      },
      {
       "output_type": "stream",
       "stream": "stdout",
       "text": [
        " 32.18\n",
        "7780000"
       ]
      },
      {
       "output_type": "stream",
       "stream": "stdout",
       "text": [
        " 36.0734\n",
        "7790000"
       ]
      },
      {
       "output_type": "stream",
       "stream": "stdout",
       "text": [
        " 31.584\n",
        "7800000"
       ]
      },
      {
       "output_type": "stream",
       "stream": "stdout",
       "text": [
        " 26.1309\n",
        "7810000"
       ]
      },
      {
       "output_type": "stream",
       "stream": "stdout",
       "text": [
        " 40.9582\n",
        "7820000"
       ]
      },
      {
       "output_type": "stream",
       "stream": "stdout",
       "text": [
        " 41.3397\n",
        "7830000"
       ]
      },
      {
       "output_type": "stream",
       "stream": "stdout",
       "text": [
        " 36.0361\n",
        "7840000"
       ]
      },
      {
       "output_type": "stream",
       "stream": "stdout",
       "text": [
        " 39.8404\n",
        "7850000"
       ]
      },
      {
       "output_type": "stream",
       "stream": "stdout",
       "text": [
        " 30.9269\n",
        "7860000"
       ]
      },
      {
       "output_type": "stream",
       "stream": "stdout",
       "text": [
        " 30.0901\n",
        "7870000"
       ]
      },
      {
       "output_type": "stream",
       "stream": "stdout",
       "text": [
        " 38.6932\n",
        "7880000"
       ]
      },
      {
       "output_type": "stream",
       "stream": "stdout",
       "text": [
        " 27.0272\n",
        "7890000"
       ]
      },
      {
       "output_type": "stream",
       "stream": "stdout",
       "text": [
        " 27.5738\n",
        "7900000"
       ]
      },
      {
       "output_type": "stream",
       "stream": "stdout",
       "text": [
        " 37.3918\n",
        "7910000"
       ]
      },
      {
       "output_type": "stream",
       "stream": "stdout",
       "text": [
        " 32.5282\n",
        "7920000"
       ]
      },
      {
       "output_type": "stream",
       "stream": "stdout",
       "text": [
        " 33.3658\n",
        "7930000"
       ]
      },
      {
       "output_type": "stream",
       "stream": "stdout",
       "text": [
        " 33.3878\n",
        "7940000"
       ]
      },
      {
       "output_type": "stream",
       "stream": "stdout",
       "text": [
        " 29.6538\n",
        "7950000"
       ]
      },
      {
       "output_type": "stream",
       "stream": "stdout",
       "text": [
        " 28.7437\n",
        "7960000"
       ]
      },
      {
       "output_type": "stream",
       "stream": "stdout",
       "text": [
        " 27.8279\n",
        "7970000"
       ]
      },
      {
       "output_type": "stream",
       "stream": "stdout",
       "text": [
        " 25.5537\n",
        "7980000"
       ]
      },
      {
       "output_type": "stream",
       "stream": "stdout",
       "text": [
        " 45.2595\n",
        "7990000"
       ]
      },
      {
       "output_type": "stream",
       "stream": "stdout",
       "text": [
        " 25.6746\n",
        "8000000"
       ]
      },
      {
       "output_type": "stream",
       "stream": "stdout",
       "text": [
        " 29.5113\n",
        "8010000"
       ]
      },
      {
       "output_type": "stream",
       "stream": "stdout",
       "text": [
        " 34.8778\n",
        "8020000"
       ]
      },
      {
       "output_type": "stream",
       "stream": "stdout",
       "text": [
        " 23.5907\n",
        "8030000"
       ]
      },
      {
       "output_type": "stream",
       "stream": "stdout",
       "text": [
        " 30.5106\n",
        "8040000"
       ]
      },
      {
       "output_type": "stream",
       "stream": "stdout",
       "text": [
        " 30.1402\n",
        "8050000"
       ]
      },
      {
       "output_type": "stream",
       "stream": "stdout",
       "text": [
        " 40.4872\n",
        "8060000"
       ]
      },
      {
       "output_type": "stream",
       "stream": "stdout",
       "text": [
        " 34.9024\n",
        "8070000"
       ]
      },
      {
       "output_type": "stream",
       "stream": "stdout",
       "text": [
        " 49.8453\n",
        "8080000"
       ]
      },
      {
       "output_type": "stream",
       "stream": "stdout",
       "text": [
        " 29.3363\n",
        "8090000"
       ]
      },
      {
       "output_type": "stream",
       "stream": "stdout",
       "text": [
        " 25.6653\n",
        "8100000"
       ]
      },
      {
       "output_type": "stream",
       "stream": "stdout",
       "text": [
        " 26.5253\n",
        "8110000"
       ]
      },
      {
       "output_type": "stream",
       "stream": "stdout",
       "text": [
        " 37.3495\n",
        "8120000"
       ]
      },
      {
       "output_type": "stream",
       "stream": "stdout",
       "text": [
        " 42.4571\n",
        "8130000"
       ]
      },
      {
       "output_type": "stream",
       "stream": "stdout",
       "text": [
        " 36.8211\n",
        "8140000"
       ]
      },
      {
       "output_type": "stream",
       "stream": "stdout",
       "text": [
        " 34.9327\n",
        "8150000"
       ]
      },
      {
       "output_type": "stream",
       "stream": "stdout",
       "text": [
        " 45.6988\n",
        "8160000"
       ]
      },
      {
       "output_type": "stream",
       "stream": "stdout",
       "text": [
        " 33.0535\n",
        "8170000"
       ]
      },
      {
       "output_type": "stream",
       "stream": "stdout",
       "text": [
        " 25.2478\n",
        "8180000"
       ]
      },
      {
       "output_type": "stream",
       "stream": "stdout",
       "text": [
        " 31.5571\n",
        "8190000"
       ]
      },
      {
       "output_type": "stream",
       "stream": "stdout",
       "text": [
        " 34.3115\n",
        "8200000"
       ]
      },
      {
       "output_type": "stream",
       "stream": "stdout",
       "text": [
        " 39.3107\n",
        "8210000"
       ]
      },
      {
       "output_type": "stream",
       "stream": "stdout",
       "text": [
        " 34.5075\n",
        "8220000"
       ]
      },
      {
       "output_type": "stream",
       "stream": "stdout",
       "text": [
        " 30.1467\n",
        "8230000"
       ]
      },
      {
       "output_type": "stream",
       "stream": "stdout",
       "text": [
        " 35.6248\n",
        "8240000"
       ]
      },
      {
       "output_type": "stream",
       "stream": "stdout",
       "text": [
        " 29.5038\n",
        "8250000"
       ]
      },
      {
       "output_type": "stream",
       "stream": "stdout",
       "text": [
        " 30.0433\n",
        "8260000"
       ]
      },
      {
       "output_type": "stream",
       "stream": "stdout",
       "text": [
        " 31.5403\n",
        "8270000"
       ]
      },
      {
       "output_type": "stream",
       "stream": "stdout",
       "text": [
        " 33.0597\n",
        "8280000"
       ]
      },
      {
       "output_type": "stream",
       "stream": "stdout",
       "text": [
        " 27.6625\n",
        "8290000"
       ]
      },
      {
       "output_type": "stream",
       "stream": "stdout",
       "text": [
        " 39.3634\n",
        "8300000"
       ]
      },
      {
       "output_type": "stream",
       "stream": "stdout",
       "text": [
        " 27.8134\n",
        "8310000"
       ]
      },
      {
       "output_type": "stream",
       "stream": "stdout",
       "text": [
        " 36.4929\n",
        "8320000"
       ]
      },
      {
       "output_type": "stream",
       "stream": "stdout",
       "text": [
        " 26.776\n",
        "8330000"
       ]
      },
      {
       "output_type": "stream",
       "stream": "stdout",
       "text": [
        " 44.3603\n",
        "8340000"
       ]
      },
      {
       "output_type": "stream",
       "stream": "stdout",
       "text": [
        " 29.481\n",
        "8350000"
       ]
      },
      {
       "output_type": "stream",
       "stream": "stdout",
       "text": [
        " 30.0757\n",
        "8360000"
       ]
      },
      {
       "output_type": "stream",
       "stream": "stdout",
       "text": [
        " 31.7342\n",
        "8370000"
       ]
      },
      {
       "output_type": "stream",
       "stream": "stdout",
       "text": [
        " 31.4532\n",
        "8380000"
       ]
      },
      {
       "output_type": "stream",
       "stream": "stdout",
       "text": [
        " 26.9342\n",
        "8390000"
       ]
      },
      {
       "output_type": "stream",
       "stream": "stdout",
       "text": [
        " 30.8045\n",
        "8400000"
       ]
      },
      {
       "output_type": "stream",
       "stream": "stdout",
       "text": [
        " 26.5301\n",
        "8410000"
       ]
      },
      {
       "output_type": "stream",
       "stream": "stdout",
       "text": [
        " 40.7701\n",
        "8420000"
       ]
      },
      {
       "output_type": "stream",
       "stream": "stdout",
       "text": [
        " 33.9314\n",
        "8430000"
       ]
      },
      {
       "output_type": "stream",
       "stream": "stdout",
       "text": [
        " 26.5691\n",
        "8440000"
       ]
      },
      {
       "output_type": "stream",
       "stream": "stdout",
       "text": [
        " 38.2264\n",
        "8450000"
       ]
      },
      {
       "output_type": "stream",
       "stream": "stdout",
       "text": [
        " 49.6284\n",
        "8460000"
       ]
      },
      {
       "output_type": "stream",
       "stream": "stdout",
       "text": [
        " 40.1359\n",
        "8470000"
       ]
      },
      {
       "output_type": "stream",
       "stream": "stdout",
       "text": [
        " 32.0928\n",
        "8480000"
       ]
      },
      {
       "output_type": "stream",
       "stream": "stdout",
       "text": [
        " 45.078\n",
        "8490000"
       ]
      },
      {
       "output_type": "stream",
       "stream": "stdout",
       "text": [
        " 29.9934\n",
        "8500000"
       ]
      },
      {
       "output_type": "stream",
       "stream": "stdout",
       "text": [
        " 35.3182\n",
        "8510000"
       ]
      },
      {
       "output_type": "stream",
       "stream": "stdout",
       "text": [
        " 31.5712\n",
        "8520000"
       ]
      },
      {
       "output_type": "stream",
       "stream": "stdout",
       "text": [
        " 38.4044\n",
        "8530000"
       ]
      },
      {
       "output_type": "stream",
       "stream": "stdout",
       "text": [
        " 33.8384\n",
        "8540000"
       ]
      },
      {
       "output_type": "stream",
       "stream": "stdout",
       "text": [
        " 27.0614\n",
        "8550000"
       ]
      },
      {
       "output_type": "stream",
       "stream": "stdout",
       "text": [
        " 32.2274\n",
        "8560000"
       ]
      },
      {
       "output_type": "stream",
       "stream": "stdout",
       "text": [
        " 29.5293\n",
        "8570000"
       ]
      },
      {
       "output_type": "stream",
       "stream": "stdout",
       "text": [
        " 43.6552\n",
        "8580000"
       ]
      },
      {
       "output_type": "stream",
       "stream": "stdout",
       "text": [
        " 26.5691\n",
        "8590000"
       ]
      },
      {
       "output_type": "stream",
       "stream": "stdout",
       "text": [
        " 36.7002\n",
        "8600000"
       ]
      },
      {
       "output_type": "stream",
       "stream": "stdout",
       "text": [
        " 43.5783\n",
        "8610000"
       ]
      },
      {
       "output_type": "stream",
       "stream": "stdout",
       "text": [
        " 33.6885\n",
        "8620000"
       ]
      },
      {
       "output_type": "stream",
       "stream": "stdout",
       "text": [
        " 42.8183\n",
        "8630000"
       ]
      },
      {
       "output_type": "stream",
       "stream": "stdout",
       "text": [
        " 45.6553\n",
        "8640000"
       ]
      },
      {
       "output_type": "stream",
       "stream": "stdout",
       "text": [
        " 34.5968\n",
        "8650000"
       ]
      },
      {
       "output_type": "stream",
       "stream": "stdout",
       "text": [
        " 30.7941\n",
        "8660000"
       ]
      },
      {
       "output_type": "stream",
       "stream": "stdout",
       "text": [
        " 41.5317\n",
        "8670000"
       ]
      },
      {
       "output_type": "stream",
       "stream": "stdout",
       "text": [
        " 30.2571\n",
        "8680000"
       ]
      },
      {
       "output_type": "stream",
       "stream": "stdout",
       "text": [
        " 29.6373\n",
        "8690000"
       ]
      },
      {
       "output_type": "stream",
       "stream": "stdout",
       "text": [
        " 37.2838\n",
        "8700000"
       ]
      },
      {
       "output_type": "stream",
       "stream": "stdout",
       "text": [
        " 36.9489\n",
        "8710000"
       ]
      },
      {
       "output_type": "stream",
       "stream": "stdout",
       "text": [
        " 33.6205\n",
        "8720000"
       ]
      },
      {
       "output_type": "stream",
       "stream": "stdout",
       "text": [
        " 37.1774\n",
        "8730000"
       ]
      },
      {
       "output_type": "stream",
       "stream": "stdout",
       "text": [
        " 37.1125\n",
        "8740000"
       ]
      },
      {
       "output_type": "stream",
       "stream": "stdout",
       "text": [
        " 31.2584\n",
        "8750000"
       ]
      },
      {
       "output_type": "stream",
       "stream": "stdout",
       "text": [
        " 38.1336\n",
        "8760000"
       ]
      },
      {
       "output_type": "stream",
       "stream": "stdout",
       "text": [
        " 29.9408\n",
        "8770000"
       ]
      },
      {
       "output_type": "stream",
       "stream": "stdout",
       "text": [
        " 29.1305\n",
        "8780000"
       ]
      },
      {
       "output_type": "stream",
       "stream": "stdout",
       "text": [
        " 30.8693\n",
        "8790000"
       ]
      },
      {
       "output_type": "stream",
       "stream": "stdout",
       "text": [
        " 29.2063\n",
        "8800000"
       ]
      },
      {
       "output_type": "stream",
       "stream": "stdout",
       "text": [
        " 31.8168\n",
        "8810000"
       ]
      },
      {
       "output_type": "stream",
       "stream": "stdout",
       "text": [
        " 44.1246\n",
        "8820000"
       ]
      },
      {
       "output_type": "stream",
       "stream": "stdout",
       "text": [
        " 33.9878\n",
        "8830000"
       ]
      },
      {
       "output_type": "stream",
       "stream": "stdout",
       "text": [
        " 33.1155\n",
        "8840000"
       ]
      },
      {
       "output_type": "stream",
       "stream": "stdout",
       "text": [
        " 40.9415\n",
        "8850000"
       ]
      },
      {
       "output_type": "stream",
       "stream": "stdout",
       "text": [
        " 38.9868\n",
        "8860000"
       ]
      },
      {
       "output_type": "stream",
       "stream": "stdout",
       "text": [
        " 32.0844\n",
        "8870000"
       ]
      },
      {
       "output_type": "stream",
       "stream": "stdout",
       "text": [
        " 33.1814\n",
        "8880000"
       ]
      },
      {
       "output_type": "stream",
       "stream": "stdout",
       "text": [
        " 34.4561\n",
        "8890000"
       ]
      },
      {
       "output_type": "stream",
       "stream": "stdout",
       "text": [
        " 30.1459\n",
        "8900000"
       ]
      },
      {
       "output_type": "stream",
       "stream": "stdout",
       "text": [
        " 34.8621\n",
        "8910000"
       ]
      },
      {
       "output_type": "stream",
       "stream": "stdout",
       "text": [
        " 32.9413\n",
        "8920000"
       ]
      },
      {
       "output_type": "stream",
       "stream": "stdout",
       "text": [
        " 34.1338\n",
        "8930000"
       ]
      },
      {
       "output_type": "stream",
       "stream": "stdout",
       "text": [
        " 33.7326\n",
        "8940000"
       ]
      },
      {
       "output_type": "stream",
       "stream": "stdout",
       "text": [
        " 36.4586\n",
        "8950000"
       ]
      },
      {
       "output_type": "stream",
       "stream": "stdout",
       "text": [
        " 39.1199\n",
        "8960000"
       ]
      },
      {
       "output_type": "stream",
       "stream": "stdout",
       "text": [
        " 35.5935\n",
        "8970000"
       ]
      },
      {
       "output_type": "stream",
       "stream": "stdout",
       "text": [
        " 32.8635\n",
        "8980000"
       ]
      },
      {
       "output_type": "stream",
       "stream": "stdout",
       "text": [
        " 41.9055\n",
        "8990000"
       ]
      },
      {
       "output_type": "stream",
       "stream": "stdout",
       "text": [
        " 45.2097\n",
        "9000000"
       ]
      },
      {
       "output_type": "stream",
       "stream": "stdout",
       "text": [
        " 49.3713\n",
        "9010000"
       ]
      },
      {
       "output_type": "stream",
       "stream": "stdout",
       "text": [
        " 26.108\n",
        "9020000"
       ]
      },
      {
       "output_type": "stream",
       "stream": "stdout",
       "text": [
        " 34.0389\n",
        "9030000"
       ]
      },
      {
       "output_type": "stream",
       "stream": "stdout",
       "text": [
        " 36.9703\n",
        "9040000"
       ]
      },
      {
       "output_type": "stream",
       "stream": "stdout",
       "text": [
        " 27.8013\n",
        "9050000"
       ]
      },
      {
       "output_type": "stream",
       "stream": "stdout",
       "text": [
        " 32.5214\n",
        "9060000"
       ]
      },
      {
       "output_type": "stream",
       "stream": "stdout",
       "text": [
        " 32.4432\n",
        "9070000"
       ]
      },
      {
       "output_type": "stream",
       "stream": "stdout",
       "text": [
        " 45.0548\n",
        "9080000"
       ]
      },
      {
       "output_type": "stream",
       "stream": "stdout",
       "text": [
        " 31.4212\n",
        "9090000"
       ]
      },
      {
       "output_type": "stream",
       "stream": "stdout",
       "text": [
        " 37.3219\n",
        "9100000"
       ]
      },
      {
       "output_type": "stream",
       "stream": "stdout",
       "text": [
        " 31.5338\n",
        "9110000"
       ]
      },
      {
       "output_type": "stream",
       "stream": "stdout",
       "text": [
        " 23.1597\n",
        "9120000"
       ]
      },
      {
       "output_type": "stream",
       "stream": "stdout",
       "text": [
        " 35.5327\n",
        "9130000"
       ]
      },
      {
       "output_type": "stream",
       "stream": "stdout",
       "text": [
        " 41.4999\n",
        "9140000"
       ]
      },
      {
       "output_type": "stream",
       "stream": "stdout",
       "text": [
        " 38.1\n",
        "9150000"
       ]
      },
      {
       "output_type": "stream",
       "stream": "stdout",
       "text": [
        " 33.0767\n",
        "9160000"
       ]
      },
      {
       "output_type": "stream",
       "stream": "stdout",
       "text": [
        " 41.6361\n",
        "9170000"
       ]
      },
      {
       "output_type": "stream",
       "stream": "stdout",
       "text": [
        " 36.633\n",
        "9180000"
       ]
      },
      {
       "output_type": "stream",
       "stream": "stdout",
       "text": [
        " 29.7942\n",
        "9190000"
       ]
      },
      {
       "output_type": "stream",
       "stream": "stdout",
       "text": [
        " 32.2509\n",
        "9200000"
       ]
      },
      {
       "output_type": "stream",
       "stream": "stdout",
       "text": [
        " 30.9108\n",
        "9210000"
       ]
      },
      {
       "output_type": "stream",
       "stream": "stdout",
       "text": [
        " 41.0024\n",
        "9220000"
       ]
      },
      {
       "output_type": "stream",
       "stream": "stdout",
       "text": [
        " 40.3591\n",
        "9230000"
       ]
      },
      {
       "output_type": "stream",
       "stream": "stdout",
       "text": [
        " 22.9509\n",
        "9240000"
       ]
      },
      {
       "output_type": "stream",
       "stream": "stdout",
       "text": [
        " 32.5437\n",
        "9250000"
       ]
      },
      {
       "output_type": "stream",
       "stream": "stdout",
       "text": [
        " 48.0908\n",
        "9260000"
       ]
      },
      {
       "output_type": "stream",
       "stream": "stdout",
       "text": [
        " 28.9174\n",
        "9270000"
       ]
      },
      {
       "output_type": "stream",
       "stream": "stdout",
       "text": [
        " 42.0903\n",
        "9280000"
       ]
      },
      {
       "output_type": "stream",
       "stream": "stdout",
       "text": [
        " 42.0335\n",
        "9290000"
       ]
      },
      {
       "output_type": "stream",
       "stream": "stdout",
       "text": [
        " 33.5513\n",
        "9300000"
       ]
      },
      {
       "output_type": "stream",
       "stream": "stdout",
       "text": [
        " 31.145\n",
        "9310000"
       ]
      },
      {
       "output_type": "stream",
       "stream": "stdout",
       "text": [
        " 26.6987\n",
        "9320000"
       ]
      },
      {
       "output_type": "stream",
       "stream": "stdout",
       "text": [
        " 41.0699\n",
        "9330000"
       ]
      },
      {
       "output_type": "stream",
       "stream": "stdout",
       "text": [
        " 31.5323\n",
        "9340000"
       ]
      },
      {
       "output_type": "stream",
       "stream": "stdout",
       "text": [
        " 29.01\n",
        "9350000"
       ]
      },
      {
       "output_type": "stream",
       "stream": "stdout",
       "text": [
        " 38.3372\n",
        "9360000"
       ]
      },
      {
       "output_type": "stream",
       "stream": "stdout",
       "text": [
        " 37.9962\n",
        "9370000"
       ]
      },
      {
       "output_type": "stream",
       "stream": "stdout",
       "text": [
        " 43.4813\n",
        "9380000"
       ]
      },
      {
       "output_type": "stream",
       "stream": "stdout",
       "text": [
        " 31.8449\n",
        "9390000"
       ]
      },
      {
       "output_type": "stream",
       "stream": "stdout",
       "text": [
        " 39.5314\n",
        "9400000"
       ]
      },
      {
       "output_type": "stream",
       "stream": "stdout",
       "text": [
        " 34.958\n",
        "9410000"
       ]
      },
      {
       "output_type": "stream",
       "stream": "stdout",
       "text": [
        " 40.6119\n",
        "9420000"
       ]
      },
      {
       "output_type": "stream",
       "stream": "stdout",
       "text": [
        " 30.2896\n",
        "9430000"
       ]
      },
      {
       "output_type": "stream",
       "stream": "stdout",
       "text": [
        " 38.768\n",
        "9440000"
       ]
      },
      {
       "output_type": "stream",
       "stream": "stdout",
       "text": [
        " 26.498\n",
        "9450000"
       ]
      },
      {
       "output_type": "stream",
       "stream": "stdout",
       "text": [
        " 31.9916\n",
        "9460000"
       ]
      },
      {
       "output_type": "stream",
       "stream": "stdout",
       "text": [
        " 51.9009\n",
        "9470000"
       ]
      },
      {
       "output_type": "stream",
       "stream": "stdout",
       "text": [
        " 28.1147\n",
        "9480000"
       ]
      },
      {
       "output_type": "stream",
       "stream": "stdout",
       "text": [
        " 33.0475\n",
        "9490000"
       ]
      },
      {
       "output_type": "stream",
       "stream": "stdout",
       "text": [
        " 37.3638\n",
        "9500000"
       ]
      },
      {
       "output_type": "stream",
       "stream": "stdout",
       "text": [
        " 34.7986\n",
        "9510000"
       ]
      },
      {
       "output_type": "stream",
       "stream": "stdout",
       "text": [
        " 27.2133\n",
        "9520000"
       ]
      },
      {
       "output_type": "stream",
       "stream": "stdout",
       "text": [
        " 37.5176\n",
        "9530000"
       ]
      },
      {
       "output_type": "stream",
       "stream": "stdout",
       "text": [
        " 44.4389\n",
        "9540000"
       ]
      },
      {
       "output_type": "stream",
       "stream": "stdout",
       "text": [
        " 39.0537\n",
        "9550000"
       ]
      },
      {
       "output_type": "stream",
       "stream": "stdout",
       "text": [
        " 42.1569\n",
        "9560000"
       ]
      },
      {
       "output_type": "stream",
       "stream": "stdout",
       "text": [
        " 43.5388\n",
        "9570000"
       ]
      },
      {
       "output_type": "stream",
       "stream": "stdout",
       "text": [
        " 28.6671\n",
        "9580000"
       ]
      },
      {
       "output_type": "stream",
       "stream": "stdout",
       "text": [
        " 40.642\n",
        "9590000"
       ]
      },
      {
       "output_type": "stream",
       "stream": "stdout",
       "text": [
        " 29.3668\n",
        "9600000"
       ]
      },
      {
       "output_type": "stream",
       "stream": "stdout",
       "text": [
        " 30.0066\n",
        "9610000"
       ]
      },
      {
       "output_type": "stream",
       "stream": "stdout",
       "text": [
        " 35.8056\n",
        "9620000"
       ]
      },
      {
       "output_type": "stream",
       "stream": "stdout",
       "text": [
        " 39.8106\n",
        "9630000"
       ]
      },
      {
       "output_type": "stream",
       "stream": "stdout",
       "text": [
        " 31.191\n",
        "9640000"
       ]
      },
      {
       "output_type": "stream",
       "stream": "stdout",
       "text": [
        " 36.2911\n",
        "9650000"
       ]
      },
      {
       "output_type": "stream",
       "stream": "stdout",
       "text": [
        " 38.3922\n",
        "9660000"
       ]
      },
      {
       "output_type": "stream",
       "stream": "stdout",
       "text": [
        " 26.5967\n",
        "9670000"
       ]
      },
      {
       "output_type": "stream",
       "stream": "stdout",
       "text": [
        " 37.1734\n",
        "9680000"
       ]
      },
      {
       "output_type": "stream",
       "stream": "stdout",
       "text": [
        " 33.4143\n",
        "9690000"
       ]
      },
      {
       "output_type": "stream",
       "stream": "stdout",
       "text": [
        " 31.2046\n",
        "9700000"
       ]
      },
      {
       "output_type": "stream",
       "stream": "stdout",
       "text": [
        " 36.3271\n",
        "9710000"
       ]
      },
      {
       "output_type": "stream",
       "stream": "stdout",
       "text": [
        " 34.1138\n",
        "9720000"
       ]
      },
      {
       "output_type": "stream",
       "stream": "stdout",
       "text": [
        " 42.8085\n",
        "9730000"
       ]
      },
      {
       "output_type": "stream",
       "stream": "stdout",
       "text": [
        " 33.1946\n",
        "9740000"
       ]
      },
      {
       "output_type": "stream",
       "stream": "stdout",
       "text": [
        " 40.0966\n",
        "9750000"
       ]
      },
      {
       "output_type": "stream",
       "stream": "stdout",
       "text": [
        " 46.6341\n",
        "9760000"
       ]
      },
      {
       "output_type": "stream",
       "stream": "stdout",
       "text": [
        " 32.0734\n",
        "9770000"
       ]
      },
      {
       "output_type": "stream",
       "stream": "stdout",
       "text": [
        " 39.8952\n",
        "9780000"
       ]
      },
      {
       "output_type": "stream",
       "stream": "stdout",
       "text": [
        " 34.3567\n",
        "9790000"
       ]
      },
      {
       "output_type": "stream",
       "stream": "stdout",
       "text": [
        " 28.0441\n",
        "9800000"
       ]
      },
      {
       "output_type": "stream",
       "stream": "stdout",
       "text": [
        " 42.0657\n",
        "9810000"
       ]
      },
      {
       "output_type": "stream",
       "stream": "stdout",
       "text": [
        " 45.0395\n",
        "9820000"
       ]
      },
      {
       "output_type": "stream",
       "stream": "stdout",
       "text": [
        " 37.5486\n",
        "9830000"
       ]
      },
      {
       "output_type": "stream",
       "stream": "stdout",
       "text": [
        " 30.3744\n",
        "9840000"
       ]
      },
      {
       "output_type": "stream",
       "stream": "stdout",
       "text": [
        " 39.6559\n",
        "9850000"
       ]
      },
      {
       "output_type": "stream",
       "stream": "stdout",
       "text": [
        " 34.443\n",
        "9860000"
       ]
      },
      {
       "output_type": "stream",
       "stream": "stdout",
       "text": [
        " 21.7979\n",
        "9870000"
       ]
      },
      {
       "output_type": "stream",
       "stream": "stdout",
       "text": [
        " 33.6873\n",
        "9880000"
       ]
      },
      {
       "output_type": "stream",
       "stream": "stdout",
       "text": [
        " 30.806\n",
        "9890000"
       ]
      },
      {
       "output_type": "stream",
       "stream": "stdout",
       "text": [
        " 33.0427\n",
        "9900000"
       ]
      },
      {
       "output_type": "stream",
       "stream": "stdout",
       "text": [
        " 33.0873\n",
        "9910000"
       ]
      },
      {
       "output_type": "stream",
       "stream": "stdout",
       "text": [
        " 32.4549\n",
        "9920000"
       ]
      },
      {
       "output_type": "stream",
       "stream": "stdout",
       "text": [
        " 27.6888\n",
        "9930000"
       ]
      },
      {
       "output_type": "stream",
       "stream": "stdout",
       "text": [
        " 34.6348\n",
        "9940000"
       ]
      },
      {
       "output_type": "stream",
       "stream": "stdout",
       "text": [
        " 32.5778\n",
        "9950000"
       ]
      },
      {
       "output_type": "stream",
       "stream": "stdout",
       "text": [
        " 36.054\n",
        "9960000"
       ]
      },
      {
       "output_type": "stream",
       "stream": "stdout",
       "text": [
        " 31.2706\n",
        "9970000"
       ]
      },
      {
       "output_type": "stream",
       "stream": "stdout",
       "text": [
        " 35.8073\n",
        "9980000"
       ]
      },
      {
       "output_type": "stream",
       "stream": "stdout",
       "text": [
        " 41.9922\n",
        "9990000"
       ]
      },
      {
       "output_type": "stream",
       "stream": "stdout",
       "text": [
        " 31.0177\n"
       ]
      }
     ],
     "prompt_number": 121
    },
    {
     "cell_type": "code",
     "collapsed": false,
     "input": [],
     "language": "python",
     "metadata": {},
     "outputs": []
    },
    {
     "cell_type": "code",
     "collapsed": false,
     "input": [],
     "language": "python",
     "metadata": {},
     "outputs": []
    }
   ],
   "metadata": {}
  }
 ]
}