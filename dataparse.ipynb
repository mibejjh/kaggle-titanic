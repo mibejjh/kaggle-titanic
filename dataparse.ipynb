{
 "metadata": {
  "name": "",
  "signature": "sha256:2b6c94ba7e22d7a4ac32de67f689ee0520324889df720c4d89ef94ab9a5b80ed"
 },
 "nbformat": 3,
 "nbformat_minor": 0,
 "worksheets": [
  {
   "cells": [
    {
     "cell_type": "code",
     "collapsed": false,
     "input": [
      "import pandas as pd\n",
      "import numpy as np"
     ],
     "language": "python",
     "metadata": {},
     "outputs": [],
     "prompt_number": 1
    },
    {
     "cell_type": "heading",
     "level": 1,
     "metadata": {},
     "source": [
      "Load Dataset"
     ]
    },
    {
     "cell_type": "code",
     "collapsed": false,
     "input": [
      "pdData = pd.read_csv(\"./dataset/train.csv\")\n",
      "pdData[:10]"
     ],
     "language": "python",
     "metadata": {},
     "outputs": [
      {
       "html": [
        "<div style=\"max-width:1500px;overflow:auto;\">\n",
        "<table border=\"1\" class=\"dataframe\">\n",
        "  <thead>\n",
        "    <tr style=\"text-align: right;\">\n",
        "      <th></th>\n",
        "      <th>PassengerId</th>\n",
        "      <th>Survived</th>\n",
        "      <th>Pclass</th>\n",
        "      <th>Name</th>\n",
        "      <th>Sex</th>\n",
        "      <th>Age</th>\n",
        "      <th>SibSp</th>\n",
        "      <th>Parch</th>\n",
        "      <th>Ticket</th>\n",
        "      <th>Fare</th>\n",
        "      <th>Cabin</th>\n",
        "      <th>Embarked</th>\n",
        "    </tr>\n",
        "  </thead>\n",
        "  <tbody>\n",
        "    <tr>\n",
        "      <th>0</th>\n",
        "      <td>1</td>\n",
        "      <td>0</td>\n",
        "      <td>3</td>\n",
        "      <td>Braund, Mr. Owen Harris</td>\n",
        "      <td>male</td>\n",
        "      <td>22.0</td>\n",
        "      <td>1</td>\n",
        "      <td>0</td>\n",
        "      <td>A/5 21171</td>\n",
        "      <td>7.2500</td>\n",
        "      <td>NaN</td>\n",
        "      <td>S</td>\n",
        "    </tr>\n",
        "    <tr>\n",
        "      <th>1</th>\n",
        "      <td>2</td>\n",
        "      <td>1</td>\n",
        "      <td>1</td>\n",
        "      <td>Cumings, Mrs. John Bradley (Florence Briggs Th...</td>\n",
        "      <td>female</td>\n",
        "      <td>38.0</td>\n",
        "      <td>1</td>\n",
        "      <td>0</td>\n",
        "      <td>PC 17599</td>\n",
        "      <td>71.2833</td>\n",
        "      <td>C85</td>\n",
        "      <td>C</td>\n",
        "    </tr>\n",
        "    <tr>\n",
        "      <th>2</th>\n",
        "      <td>3</td>\n",
        "      <td>1</td>\n",
        "      <td>3</td>\n",
        "      <td>Heikkinen, Miss. Laina</td>\n",
        "      <td>female</td>\n",
        "      <td>26.0</td>\n",
        "      <td>0</td>\n",
        "      <td>0</td>\n",
        "      <td>STON/O2. 3101282</td>\n",
        "      <td>7.9250</td>\n",
        "      <td>NaN</td>\n",
        "      <td>S</td>\n",
        "    </tr>\n",
        "    <tr>\n",
        "      <th>3</th>\n",
        "      <td>4</td>\n",
        "      <td>1</td>\n",
        "      <td>1</td>\n",
        "      <td>Futrelle, Mrs. Jacques Heath (Lily May Peel)</td>\n",
        "      <td>female</td>\n",
        "      <td>35.0</td>\n",
        "      <td>1</td>\n",
        "      <td>0</td>\n",
        "      <td>113803</td>\n",
        "      <td>53.1000</td>\n",
        "      <td>C123</td>\n",
        "      <td>S</td>\n",
        "    </tr>\n",
        "    <tr>\n",
        "      <th>4</th>\n",
        "      <td>5</td>\n",
        "      <td>0</td>\n",
        "      <td>3</td>\n",
        "      <td>Allen, Mr. William Henry</td>\n",
        "      <td>male</td>\n",
        "      <td>35.0</td>\n",
        "      <td>0</td>\n",
        "      <td>0</td>\n",
        "      <td>373450</td>\n",
        "      <td>8.0500</td>\n",
        "      <td>NaN</td>\n",
        "      <td>S</td>\n",
        "    </tr>\n",
        "    <tr>\n",
        "      <th>5</th>\n",
        "      <td>6</td>\n",
        "      <td>0</td>\n",
        "      <td>3</td>\n",
        "      <td>Moran, Mr. James</td>\n",
        "      <td>male</td>\n",
        "      <td>NaN</td>\n",
        "      <td>0</td>\n",
        "      <td>0</td>\n",
        "      <td>330877</td>\n",
        "      <td>8.4583</td>\n",
        "      <td>NaN</td>\n",
        "      <td>Q</td>\n",
        "    </tr>\n",
        "    <tr>\n",
        "      <th>6</th>\n",
        "      <td>7</td>\n",
        "      <td>0</td>\n",
        "      <td>1</td>\n",
        "      <td>McCarthy, Mr. Timothy J</td>\n",
        "      <td>male</td>\n",
        "      <td>54.0</td>\n",
        "      <td>0</td>\n",
        "      <td>0</td>\n",
        "      <td>17463</td>\n",
        "      <td>51.8625</td>\n",
        "      <td>E46</td>\n",
        "      <td>S</td>\n",
        "    </tr>\n",
        "    <tr>\n",
        "      <th>7</th>\n",
        "      <td>8</td>\n",
        "      <td>0</td>\n",
        "      <td>3</td>\n",
        "      <td>Palsson, Master. Gosta Leonard</td>\n",
        "      <td>male</td>\n",
        "      <td>2.0</td>\n",
        "      <td>3</td>\n",
        "      <td>1</td>\n",
        "      <td>349909</td>\n",
        "      <td>21.0750</td>\n",
        "      <td>NaN</td>\n",
        "      <td>S</td>\n",
        "    </tr>\n",
        "    <tr>\n",
        "      <th>8</th>\n",
        "      <td>9</td>\n",
        "      <td>1</td>\n",
        "      <td>3</td>\n",
        "      <td>Johnson, Mrs. Oscar W (Elisabeth Vilhelmina Berg)</td>\n",
        "      <td>female</td>\n",
        "      <td>27.0</td>\n",
        "      <td>0</td>\n",
        "      <td>2</td>\n",
        "      <td>347742</td>\n",
        "      <td>11.1333</td>\n",
        "      <td>NaN</td>\n",
        "      <td>S</td>\n",
        "    </tr>\n",
        "    <tr>\n",
        "      <th>9</th>\n",
        "      <td>10</td>\n",
        "      <td>1</td>\n",
        "      <td>2</td>\n",
        "      <td>Nasser, Mrs. Nicholas (Adele Achem)</td>\n",
        "      <td>female</td>\n",
        "      <td>14.0</td>\n",
        "      <td>1</td>\n",
        "      <td>0</td>\n",
        "      <td>237736</td>\n",
        "      <td>30.0708</td>\n",
        "      <td>NaN</td>\n",
        "      <td>C</td>\n",
        "    </tr>\n",
        "  </tbody>\n",
        "</table>\n",
        "</div>"
       ],
       "metadata": {},
       "output_type": "pyout",
       "prompt_number": 25,
       "text": [
        "   PassengerId  Survived  Pclass  \\\n",
        "0            1         0       3   \n",
        "1            2         1       1   \n",
        "2            3         1       3   \n",
        "3            4         1       1   \n",
        "4            5         0       3   \n",
        "5            6         0       3   \n",
        "6            7         0       1   \n",
        "7            8         0       3   \n",
        "8            9         1       3   \n",
        "9           10         1       2   \n",
        "\n",
        "                                                Name     Sex   Age  SibSp  \\\n",
        "0                            Braund, Mr. Owen Harris    male  22.0      1   \n",
        "1  Cumings, Mrs. John Bradley (Florence Briggs Th...  female  38.0      1   \n",
        "2                             Heikkinen, Miss. Laina  female  26.0      0   \n",
        "3       Futrelle, Mrs. Jacques Heath (Lily May Peel)  female  35.0      1   \n",
        "4                           Allen, Mr. William Henry    male  35.0      0   \n",
        "5                                   Moran, Mr. James    male   NaN      0   \n",
        "6                            McCarthy, Mr. Timothy J    male  54.0      0   \n",
        "7                     Palsson, Master. Gosta Leonard    male   2.0      3   \n",
        "8  Johnson, Mrs. Oscar W (Elisabeth Vilhelmina Berg)  female  27.0      0   \n",
        "9                Nasser, Mrs. Nicholas (Adele Achem)  female  14.0      1   \n",
        "\n",
        "   Parch            Ticket     Fare Cabin Embarked  \n",
        "0      0         A/5 21171   7.2500   NaN        S  \n",
        "1      0          PC 17599  71.2833   C85        C  \n",
        "2      0  STON/O2. 3101282   7.9250   NaN        S  \n",
        "3      0            113803  53.1000  C123        S  \n",
        "4      0            373450   8.0500   NaN        S  \n",
        "5      0            330877   8.4583   NaN        Q  \n",
        "6      0             17463  51.8625   E46        S  \n",
        "7      1            349909  21.0750   NaN        S  \n",
        "8      2            347742  11.1333   NaN        S  \n",
        "9      0            237736  30.0708   NaN        C  "
       ]
      }
     ],
     "prompt_number": 25
    },
    {
     "cell_type": "heading",
     "level": 1,
     "metadata": {},
     "source": [
      "Select necessary data "
     ]
    },
    {
     "cell_type": "code",
     "collapsed": false,
     "input": [
      "pdFilteredData = pdData[['PassengerId','Pclass','Sex','Age','SibSp','Parch','Fare','Embarked', 'Survived']]\n",
      "npData = pdFilteredData.as_matrix()\n",
      "pdFilteredData[:10]"
     ],
     "language": "python",
     "metadata": {},
     "outputs": [
      {
       "html": [
        "<div style=\"max-width:1500px;overflow:auto;\">\n",
        "<table border=\"1\" class=\"dataframe\">\n",
        "  <thead>\n",
        "    <tr style=\"text-align: right;\">\n",
        "      <th></th>\n",
        "      <th>PassengerId</th>\n",
        "      <th>Pclass</th>\n",
        "      <th>Sex</th>\n",
        "      <th>Age</th>\n",
        "      <th>SibSp</th>\n",
        "      <th>Parch</th>\n",
        "      <th>Fare</th>\n",
        "      <th>Embarked</th>\n",
        "      <th>Survived</th>\n",
        "    </tr>\n",
        "  </thead>\n",
        "  <tbody>\n",
        "    <tr>\n",
        "      <th>0</th>\n",
        "      <td>1</td>\n",
        "      <td>3</td>\n",
        "      <td>male</td>\n",
        "      <td>22.0</td>\n",
        "      <td>1</td>\n",
        "      <td>0</td>\n",
        "      <td>7.2500</td>\n",
        "      <td>S</td>\n",
        "      <td>0</td>\n",
        "    </tr>\n",
        "    <tr>\n",
        "      <th>1</th>\n",
        "      <td>2</td>\n",
        "      <td>1</td>\n",
        "      <td>female</td>\n",
        "      <td>38.0</td>\n",
        "      <td>1</td>\n",
        "      <td>0</td>\n",
        "      <td>71.2833</td>\n",
        "      <td>C</td>\n",
        "      <td>1</td>\n",
        "    </tr>\n",
        "    <tr>\n",
        "      <th>2</th>\n",
        "      <td>3</td>\n",
        "      <td>3</td>\n",
        "      <td>female</td>\n",
        "      <td>26.0</td>\n",
        "      <td>0</td>\n",
        "      <td>0</td>\n",
        "      <td>7.9250</td>\n",
        "      <td>S</td>\n",
        "      <td>1</td>\n",
        "    </tr>\n",
        "    <tr>\n",
        "      <th>3</th>\n",
        "      <td>4</td>\n",
        "      <td>1</td>\n",
        "      <td>female</td>\n",
        "      <td>35.0</td>\n",
        "      <td>1</td>\n",
        "      <td>0</td>\n",
        "      <td>53.1000</td>\n",
        "      <td>S</td>\n",
        "      <td>1</td>\n",
        "    </tr>\n",
        "    <tr>\n",
        "      <th>4</th>\n",
        "      <td>5</td>\n",
        "      <td>3</td>\n",
        "      <td>male</td>\n",
        "      <td>35.0</td>\n",
        "      <td>0</td>\n",
        "      <td>0</td>\n",
        "      <td>8.0500</td>\n",
        "      <td>S</td>\n",
        "      <td>0</td>\n",
        "    </tr>\n",
        "    <tr>\n",
        "      <th>5</th>\n",
        "      <td>6</td>\n",
        "      <td>3</td>\n",
        "      <td>male</td>\n",
        "      <td>NaN</td>\n",
        "      <td>0</td>\n",
        "      <td>0</td>\n",
        "      <td>8.4583</td>\n",
        "      <td>Q</td>\n",
        "      <td>0</td>\n",
        "    </tr>\n",
        "    <tr>\n",
        "      <th>6</th>\n",
        "      <td>7</td>\n",
        "      <td>1</td>\n",
        "      <td>male</td>\n",
        "      <td>54.0</td>\n",
        "      <td>0</td>\n",
        "      <td>0</td>\n",
        "      <td>51.8625</td>\n",
        "      <td>S</td>\n",
        "      <td>0</td>\n",
        "    </tr>\n",
        "    <tr>\n",
        "      <th>7</th>\n",
        "      <td>8</td>\n",
        "      <td>3</td>\n",
        "      <td>male</td>\n",
        "      <td>2.0</td>\n",
        "      <td>3</td>\n",
        "      <td>1</td>\n",
        "      <td>21.0750</td>\n",
        "      <td>S</td>\n",
        "      <td>0</td>\n",
        "    </tr>\n",
        "    <tr>\n",
        "      <th>8</th>\n",
        "      <td>9</td>\n",
        "      <td>3</td>\n",
        "      <td>female</td>\n",
        "      <td>27.0</td>\n",
        "      <td>0</td>\n",
        "      <td>2</td>\n",
        "      <td>11.1333</td>\n",
        "      <td>S</td>\n",
        "      <td>1</td>\n",
        "    </tr>\n",
        "    <tr>\n",
        "      <th>9</th>\n",
        "      <td>10</td>\n",
        "      <td>2</td>\n",
        "      <td>female</td>\n",
        "      <td>14.0</td>\n",
        "      <td>1</td>\n",
        "      <td>0</td>\n",
        "      <td>30.0708</td>\n",
        "      <td>C</td>\n",
        "      <td>1</td>\n",
        "    </tr>\n",
        "  </tbody>\n",
        "</table>\n",
        "</div>"
       ],
       "metadata": {},
       "output_type": "pyout",
       "prompt_number": 27,
       "text": [
        "   PassengerId  Pclass     Sex   Age  SibSp  Parch     Fare Embarked  Survived\n",
        "0            1       3    male  22.0      1      0   7.2500        S         0\n",
        "1            2       1  female  38.0      1      0  71.2833        C         1\n",
        "2            3       3  female  26.0      0      0   7.9250        S         1\n",
        "3            4       1  female  35.0      1      0  53.1000        S         1\n",
        "4            5       3    male  35.0      0      0   8.0500        S         0\n",
        "5            6       3    male   NaN      0      0   8.4583        Q         0\n",
        "6            7       1    male  54.0      0      0  51.8625        S         0\n",
        "7            8       3    male   2.0      3      1  21.0750        S         0\n",
        "8            9       3  female  27.0      0      2  11.1333        S         1\n",
        "9           10       2  female  14.0      1      0  30.0708        C         1"
       ]
      }
     ],
     "prompt_number": 27
    },
    {
     "cell_type": "heading",
     "level": 1,
     "metadata": {},
     "source": [
      "Change none-numerical data to numerical data"
     ]
    },
    {
     "cell_type": "code",
     "collapsed": false,
     "input": [
      "npData[npData[:,2] == 'male', 2]= 1\n",
      "npData[npData[:,2] == 'female', 2] = 0\n",
      "\n",
      "npData[npData[:,7] == 'C', 7]= 0\n",
      "npData[npData[:,7] == 'Q', 7]= 1\n",
      "npData[npData[:,7] == 'S', 7]= 2\n",
      "\n",
      "npFloatData = npData.astype(np.float32)\n",
      "npFloatData[:3]"
     ],
     "language": "python",
     "metadata": {},
     "outputs": [
      {
       "metadata": {},
       "output_type": "pyout",
       "prompt_number": 28,
       "text": [
        "array([[  1.        ,   3.        ,   1.        ,  22.        ,\n",
        "          1.        ,   0.        ,   7.25      ,   2.        ,   0.        ],\n",
        "       [  2.        ,   1.        ,   0.        ,  38.        ,\n",
        "          1.        ,   0.        ,  71.28330231,   0.        ,   1.        ],\n",
        "       [  3.        ,   3.        ,   0.        ,  26.        ,\n",
        "          0.        ,   0.        ,   7.92500019,   2.        ,   1.        ]], dtype=float32)"
       ]
      }
     ],
     "prompt_number": 28
    },
    {
     "cell_type": "code",
     "collapsed": false,
     "input": [
      "npFloatData.shape\n",
      "\n"
     ],
     "language": "python",
     "metadata": {},
     "outputs": [
      {
       "metadata": {},
       "output_type": "pyout",
       "prompt_number": 41,
       "text": [
        "(891, 9)"
       ]
      }
     ],
     "prompt_number": 41
    },
    {
     "cell_type": "code",
     "collapsed": false,
     "input": [
      "npFloatOutputData = npFloatData[:, 8]\n",
      "npFloatOutputData.shape"
     ],
     "language": "python",
     "metadata": {},
     "outputs": [
      {
       "metadata": {},
       "output_type": "pyout",
       "prompt_number": 42,
       "text": [
        "(891,)"
       ]
      }
     ],
     "prompt_number": 42
    },
    {
     "cell_type": "heading",
     "level": 1,
     "metadata": {},
     "source": [
      "Now Input Data is READY!!!!!"
     ]
    },
    {
     "cell_type": "markdown",
     "metadata": {},
     "source": [
      "Now Prepare **Tensorflow**"
     ]
    },
    {
     "cell_type": "code",
     "collapsed": false,
     "input": [
      "import tensorflow as tf"
     ],
     "language": "python",
     "metadata": {},
     "outputs": [],
     "prompt_number": 43
    },
    {
     "cell_type": "code",
     "collapsed": false,
     "input": [
      "sess = tf.InteractiveSession()"
     ],
     "language": "python",
     "metadata": {},
     "outputs": [],
     "prompt_number": 44
    },
    {
     "cell_type": "code",
     "collapsed": false,
     "input": [
      "x = tf.placeholder(dtype=tf.float32, shape=[None, 8])\n",
      "y_ = tf.placeholder(dtype=tf.float32, shape = [None, 2])"
     ],
     "language": "python",
     "metadata": {},
     "outputs": [],
     "prompt_number": 45
    },
    {
     "cell_type": "code",
     "collapsed": false,
     "input": [
      "w1 = tf.Variable(tf.zeros([8, 16]))\n",
      "b1 = tf.Variable(tf.zeros([16]))\n",
      "\n",
      "w2 = tf.Variable(tf.zeros([16, 2]))\n",
      "b2 = tf.Variable(tf.zeros([2]))\n",
      "\n",
      "tf.global_variables_initializer().run()"
     ],
     "language": "python",
     "metadata": {},
     "outputs": [],
     "prompt_number": 46
    },
    {
     "cell_type": "markdown",
     "metadata": {},
     "source": [
      "Initialized \ub410\ub294\uc9c0 \ud655\uc778\ud558\uae30"
     ]
    },
    {
     "cell_type": "code",
     "collapsed": false,
     "input": [
      "w1.eval(), b1.eval(), w2.eval(), b2.eval()"
     ],
     "language": "python",
     "metadata": {},
     "outputs": [
      {
       "metadata": {},
       "output_type": "pyout",
       "prompt_number": 47,
       "text": [
        "(array([[ 0.,  0.,  0.,  0.,  0.,  0.,  0.,  0.,  0.,  0.,  0.,  0.,  0.,\n",
        "          0.,  0.,  0.],\n",
        "        [ 0.,  0.,  0.,  0.,  0.,  0.,  0.,  0.,  0.,  0.,  0.,  0.,  0.,\n",
        "          0.,  0.,  0.],\n",
        "        [ 0.,  0.,  0.,  0.,  0.,  0.,  0.,  0.,  0.,  0.,  0.,  0.,  0.,\n",
        "          0.,  0.,  0.],\n",
        "        [ 0.,  0.,  0.,  0.,  0.,  0.,  0.,  0.,  0.,  0.,  0.,  0.,  0.,\n",
        "          0.,  0.,  0.],\n",
        "        [ 0.,  0.,  0.,  0.,  0.,  0.,  0.,  0.,  0.,  0.,  0.,  0.,  0.,\n",
        "          0.,  0.,  0.],\n",
        "        [ 0.,  0.,  0.,  0.,  0.,  0.,  0.,  0.,  0.,  0.,  0.,  0.,  0.,\n",
        "          0.,  0.,  0.],\n",
        "        [ 0.,  0.,  0.,  0.,  0.,  0.,  0.,  0.,  0.,  0.,  0.,  0.,  0.,\n",
        "          0.,  0.,  0.],\n",
        "        [ 0.,  0.,  0.,  0.,  0.,  0.,  0.,  0.,  0.,  0.,  0.,  0.,  0.,\n",
        "          0.,  0.,  0.]], dtype=float32),\n",
        " array([ 0.,  0.,  0.,  0.,  0.,  0.,  0.,  0.,  0.,  0.,  0.,  0.,  0.,\n",
        "         0.,  0.,  0.], dtype=float32),\n",
        " array([[ 0.,  0.],\n",
        "        [ 0.,  0.],\n",
        "        [ 0.,  0.],\n",
        "        [ 0.,  0.],\n",
        "        [ 0.,  0.],\n",
        "        [ 0.,  0.],\n",
        "        [ 0.,  0.],\n",
        "        [ 0.,  0.],\n",
        "        [ 0.,  0.],\n",
        "        [ 0.,  0.],\n",
        "        [ 0.,  0.],\n",
        "        [ 0.,  0.],\n",
        "        [ 0.,  0.],\n",
        "        [ 0.,  0.],\n",
        "        [ 0.,  0.],\n",
        "        [ 0.,  0.]], dtype=float32),\n",
        " array([ 0.,  0.], dtype=float32))"
       ]
      }
     ],
     "prompt_number": 47
    },
    {
     "cell_type": "markdown",
     "metadata": {},
     "source": [
      "**1st Layer**"
     ]
    },
    {
     "cell_type": "code",
     "collapsed": false,
     "input": [
      "y1 = tf.matmul(x, w1) + b1\n",
      "x1 = tf.nn.relu(y1)"
     ],
     "language": "python",
     "metadata": {},
     "outputs": [],
     "prompt_number": 48
    },
    {
     "cell_type": "markdown",
     "metadata": {},
     "source": [
      "**2nd Layer**"
     ]
    },
    {
     "cell_type": "code",
     "collapsed": false,
     "input": [
      "y2 = tf.matmul(x1, w2) + b2\n",
      "y = tf.nn.relu(y2)"
     ],
     "language": "python",
     "metadata": {},
     "outputs": [],
     "prompt_number": 49
    },
    {
     "cell_type": "markdown",
     "metadata": {},
     "source": [
      "**Loss**"
     ]
    },
    {
     "cell_type": "code",
     "collapsed": false,
     "input": [
      "arrLoss = tf.nn.softmax_cross_entropy_with_logits(labels=y_, logits=y)"
     ],
     "language": "python",
     "metadata": {},
     "outputs": [],
     "prompt_number": 74
    },
    {
     "cell_type": "code",
     "collapsed": false,
     "input": [
      "npOutput = tf.one_hot(npFloatOutputData, depth=2).eval()\n",
      "npOutput[:10]"
     ],
     "language": "python",
     "metadata": {},
     "outputs": [
      {
       "metadata": {},
       "output_type": "pyout",
       "prompt_number": 75,
       "text": [
        "array([[ 1.,  0.],\n",
        "       [ 0.,  1.],\n",
        "       [ 0.,  1.],\n",
        "       [ 0.,  1.],\n",
        "       [ 1.,  0.],\n",
        "       [ 1.,  0.],\n",
        "       [ 1.,  0.],\n",
        "       [ 1.,  0.],\n",
        "       [ 0.,  1.],\n",
        "       [ 0.,  1.]], dtype=float32)"
       ]
      }
     ],
     "prompt_number": 75
    },
    {
     "cell_type": "code",
     "collapsed": false,
     "input": [
      "loss = tf.reduce_sum(arrLoss)#.eval(feed_dict={x:npFloatData[:100, :8] , y_:npOutput[:100]})"
     ],
     "language": "python",
     "metadata": {},
     "outputs": [],
     "prompt_number": 76
    },
    {
     "cell_type": "code",
     "collapsed": false,
     "input": [
      "loss.eval(feed_dict={x:npFloatData[:100, :8] , y_:npOutput[:100]})"
     ],
     "language": "python",
     "metadata": {},
     "outputs": [
      {
       "metadata": {},
       "output_type": "pyout",
       "prompt_number": 77,
       "text": [
        "69.314743"
       ]
      }
     ],
     "prompt_number": 77
    },
    {
     "cell_type": "code",
     "collapsed": false,
     "input": [],
     "language": "python",
     "metadata": {},
     "outputs": [],
     "prompt_number": 22
    },
    {
     "cell_type": "code",
     "collapsed": false,
     "input": [],
     "language": "python",
     "metadata": {},
     "outputs": [],
     "prompt_number": 22
    },
    {
     "cell_type": "markdown",
     "metadata": {},
     "source": [
      "**Config Train Step**"
     ]
    },
    {
     "cell_type": "markdown",
     "metadata": {},
     "source": [
      "*optimizer*"
     ]
    },
    {
     "cell_type": "code",
     "collapsed": false,
     "input": [
      "optimizer = tf.train.GradientDescentOptimizer(0.001)"
     ],
     "language": "python",
     "metadata": {},
     "outputs": [],
     "prompt_number": 78
    },
    {
     "cell_type": "code",
     "collapsed": false,
     "input": [
      "train = optimizer.minimize(arrLoss)"
     ],
     "language": "python",
     "metadata": {},
     "outputs": [],
     "prompt_number": 79
    },
    {
     "cell_type": "markdown",
     "metadata": {},
     "source": [
      "**Do Train**"
     ]
    },
    {
     "cell_type": "code",
     "collapsed": false,
     "input": [
      "for _ in range(100):\n",
      "    train.run(feed_dict={x:npFloatData[:100, :8], y_:npOutput})"
     ],
     "language": "python",
     "metadata": {},
     "outputs": [
      {
       "ename": "SyntaxError",
       "evalue": "unexpected EOF while parsing (<ipython-input-80-34d8867c0e08>, line 1)",
       "output_type": "pyerr",
       "traceback": [
        "\u001b[0;36m  File \u001b[0;32m\"<ipython-input-80-34d8867c0e08>\"\u001b[0;36m, line \u001b[0;32m1\u001b[0m\n\u001b[0;31m    for _ in range(100):\u001b[0m\n\u001b[0m                        ^\u001b[0m\n\u001b[0;31mSyntaxError\u001b[0m\u001b[0;31m:\u001b[0m unexpected EOF while parsing\n"
       ]
      }
     ],
     "prompt_number": 80
    },
    {
     "cell_type": "code",
     "collapsed": false,
     "input": [],
     "language": "python",
     "metadata": {},
     "outputs": []
    }
   ],
   "metadata": {}
  }
 ]
}