{
 "metadata": {
  "name": "",
  "signature": "sha256:1f4db0aa78947d9a3dc64fd0b4617a8da8d0ef406ca5999441513214815fe39c"
 },
 "nbformat": 3,
 "nbformat_minor": 0,
 "worksheets": [
  {
   "cells": [
    {
     "cell_type": "code",
     "collapsed": false,
     "input": [
      "import pandas as pd\n",
      "import numpy as np"
     ],
     "language": "python",
     "metadata": {},
     "outputs": [],
     "prompt_number": 1
    },
    {
     "cell_type": "heading",
     "level": 1,
     "metadata": {},
     "source": [
      "Load Dataset"
     ]
    },
    {
     "cell_type": "code",
     "collapsed": false,
     "input": [
      "pdData = pd.read_csv(\"./dataset/train.csv\")\n",
      "pdData[:10]"
     ],
     "language": "python",
     "metadata": {},
     "outputs": [
      {
       "html": [
        "<div style=\"max-width:1500px;overflow:auto;\">\n",
        "<table border=\"1\" class=\"dataframe\">\n",
        "  <thead>\n",
        "    <tr style=\"text-align: right;\">\n",
        "      <th></th>\n",
        "      <th>PassengerId</th>\n",
        "      <th>Survived</th>\n",
        "      <th>Pclass</th>\n",
        "      <th>Name</th>\n",
        "      <th>Sex</th>\n",
        "      <th>Age</th>\n",
        "      <th>SibSp</th>\n",
        "      <th>Parch</th>\n",
        "      <th>Ticket</th>\n",
        "      <th>Fare</th>\n",
        "      <th>Cabin</th>\n",
        "      <th>Embarked</th>\n",
        "    </tr>\n",
        "  </thead>\n",
        "  <tbody>\n",
        "    <tr>\n",
        "      <th>0</th>\n",
        "      <td>1</td>\n",
        "      <td>0</td>\n",
        "      <td>3</td>\n",
        "      <td>Braund, Mr. Owen Harris</td>\n",
        "      <td>male</td>\n",
        "      <td>22.0</td>\n",
        "      <td>1</td>\n",
        "      <td>0</td>\n",
        "      <td>A/5 21171</td>\n",
        "      <td>7.2500</td>\n",
        "      <td>NaN</td>\n",
        "      <td>S</td>\n",
        "    </tr>\n",
        "    <tr>\n",
        "      <th>1</th>\n",
        "      <td>2</td>\n",
        "      <td>1</td>\n",
        "      <td>1</td>\n",
        "      <td>Cumings, Mrs. John Bradley (Florence Briggs Th...</td>\n",
        "      <td>female</td>\n",
        "      <td>38.0</td>\n",
        "      <td>1</td>\n",
        "      <td>0</td>\n",
        "      <td>PC 17599</td>\n",
        "      <td>71.2833</td>\n",
        "      <td>C85</td>\n",
        "      <td>C</td>\n",
        "    </tr>\n",
        "    <tr>\n",
        "      <th>2</th>\n",
        "      <td>3</td>\n",
        "      <td>1</td>\n",
        "      <td>3</td>\n",
        "      <td>Heikkinen, Miss. Laina</td>\n",
        "      <td>female</td>\n",
        "      <td>26.0</td>\n",
        "      <td>0</td>\n",
        "      <td>0</td>\n",
        "      <td>STON/O2. 3101282</td>\n",
        "      <td>7.9250</td>\n",
        "      <td>NaN</td>\n",
        "      <td>S</td>\n",
        "    </tr>\n",
        "    <tr>\n",
        "      <th>3</th>\n",
        "      <td>4</td>\n",
        "      <td>1</td>\n",
        "      <td>1</td>\n",
        "      <td>Futrelle, Mrs. Jacques Heath (Lily May Peel)</td>\n",
        "      <td>female</td>\n",
        "      <td>35.0</td>\n",
        "      <td>1</td>\n",
        "      <td>0</td>\n",
        "      <td>113803</td>\n",
        "      <td>53.1000</td>\n",
        "      <td>C123</td>\n",
        "      <td>S</td>\n",
        "    </tr>\n",
        "    <tr>\n",
        "      <th>4</th>\n",
        "      <td>5</td>\n",
        "      <td>0</td>\n",
        "      <td>3</td>\n",
        "      <td>Allen, Mr. William Henry</td>\n",
        "      <td>male</td>\n",
        "      <td>35.0</td>\n",
        "      <td>0</td>\n",
        "      <td>0</td>\n",
        "      <td>373450</td>\n",
        "      <td>8.0500</td>\n",
        "      <td>NaN</td>\n",
        "      <td>S</td>\n",
        "    </tr>\n",
        "    <tr>\n",
        "      <th>5</th>\n",
        "      <td>6</td>\n",
        "      <td>0</td>\n",
        "      <td>3</td>\n",
        "      <td>Moran, Mr. James</td>\n",
        "      <td>male</td>\n",
        "      <td>NaN</td>\n",
        "      <td>0</td>\n",
        "      <td>0</td>\n",
        "      <td>330877</td>\n",
        "      <td>8.4583</td>\n",
        "      <td>NaN</td>\n",
        "      <td>Q</td>\n",
        "    </tr>\n",
        "    <tr>\n",
        "      <th>6</th>\n",
        "      <td>7</td>\n",
        "      <td>0</td>\n",
        "      <td>1</td>\n",
        "      <td>McCarthy, Mr. Timothy J</td>\n",
        "      <td>male</td>\n",
        "      <td>54.0</td>\n",
        "      <td>0</td>\n",
        "      <td>0</td>\n",
        "      <td>17463</td>\n",
        "      <td>51.8625</td>\n",
        "      <td>E46</td>\n",
        "      <td>S</td>\n",
        "    </tr>\n",
        "    <tr>\n",
        "      <th>7</th>\n",
        "      <td>8</td>\n",
        "      <td>0</td>\n",
        "      <td>3</td>\n",
        "      <td>Palsson, Master. Gosta Leonard</td>\n",
        "      <td>male</td>\n",
        "      <td>2.0</td>\n",
        "      <td>3</td>\n",
        "      <td>1</td>\n",
        "      <td>349909</td>\n",
        "      <td>21.0750</td>\n",
        "      <td>NaN</td>\n",
        "      <td>S</td>\n",
        "    </tr>\n",
        "    <tr>\n",
        "      <th>8</th>\n",
        "      <td>9</td>\n",
        "      <td>1</td>\n",
        "      <td>3</td>\n",
        "      <td>Johnson, Mrs. Oscar W (Elisabeth Vilhelmina Berg)</td>\n",
        "      <td>female</td>\n",
        "      <td>27.0</td>\n",
        "      <td>0</td>\n",
        "      <td>2</td>\n",
        "      <td>347742</td>\n",
        "      <td>11.1333</td>\n",
        "      <td>NaN</td>\n",
        "      <td>S</td>\n",
        "    </tr>\n",
        "    <tr>\n",
        "      <th>9</th>\n",
        "      <td>10</td>\n",
        "      <td>1</td>\n",
        "      <td>2</td>\n",
        "      <td>Nasser, Mrs. Nicholas (Adele Achem)</td>\n",
        "      <td>female</td>\n",
        "      <td>14.0</td>\n",
        "      <td>1</td>\n",
        "      <td>0</td>\n",
        "      <td>237736</td>\n",
        "      <td>30.0708</td>\n",
        "      <td>NaN</td>\n",
        "      <td>C</td>\n",
        "    </tr>\n",
        "  </tbody>\n",
        "</table>\n",
        "</div>"
       ],
       "metadata": {},
       "output_type": "pyout",
       "prompt_number": 25,
       "text": [
        "   PassengerId  Survived  Pclass  \\\n",
        "0            1         0       3   \n",
        "1            2         1       1   \n",
        "2            3         1       3   \n",
        "3            4         1       1   \n",
        "4            5         0       3   \n",
        "5            6         0       3   \n",
        "6            7         0       1   \n",
        "7            8         0       3   \n",
        "8            9         1       3   \n",
        "9           10         1       2   \n",
        "\n",
        "                                                Name     Sex   Age  SibSp  \\\n",
        "0                            Braund, Mr. Owen Harris    male  22.0      1   \n",
        "1  Cumings, Mrs. John Bradley (Florence Briggs Th...  female  38.0      1   \n",
        "2                             Heikkinen, Miss. Laina  female  26.0      0   \n",
        "3       Futrelle, Mrs. Jacques Heath (Lily May Peel)  female  35.0      1   \n",
        "4                           Allen, Mr. William Henry    male  35.0      0   \n",
        "5                                   Moran, Mr. James    male   NaN      0   \n",
        "6                            McCarthy, Mr. Timothy J    male  54.0      0   \n",
        "7                     Palsson, Master. Gosta Leonard    male   2.0      3   \n",
        "8  Johnson, Mrs. Oscar W (Elisabeth Vilhelmina Berg)  female  27.0      0   \n",
        "9                Nasser, Mrs. Nicholas (Adele Achem)  female  14.0      1   \n",
        "\n",
        "   Parch            Ticket     Fare Cabin Embarked  \n",
        "0      0         A/5 21171   7.2500   NaN        S  \n",
        "1      0          PC 17599  71.2833   C85        C  \n",
        "2      0  STON/O2. 3101282   7.9250   NaN        S  \n",
        "3      0            113803  53.1000  C123        S  \n",
        "4      0            373450   8.0500   NaN        S  \n",
        "5      0            330877   8.4583   NaN        Q  \n",
        "6      0             17463  51.8625   E46        S  \n",
        "7      1            349909  21.0750   NaN        S  \n",
        "8      2            347742  11.1333   NaN        S  \n",
        "9      0            237736  30.0708   NaN        C  "
       ]
      }
     ],
     "prompt_number": 25
    },
    {
     "cell_type": "heading",
     "level": 1,
     "metadata": {},
     "source": [
      "Select necessary data "
     ]
    },
    {
     "cell_type": "code",
     "collapsed": false,
     "input": [
      "pdFilteredData = pdData[['PassengerId','Pclass','Sex','Age','SibSp','Parch','Fare','Embarked', 'Survived']]\n",
      "npData = pdFilteredData.as_matrix()\n",
      "pdFilteredData[:10]"
     ],
     "language": "python",
     "metadata": {},
     "outputs": [
      {
       "html": [
        "<div style=\"max-width:1500px;overflow:auto;\">\n",
        "<table border=\"1\" class=\"dataframe\">\n",
        "  <thead>\n",
        "    <tr style=\"text-align: right;\">\n",
        "      <th></th>\n",
        "      <th>PassengerId</th>\n",
        "      <th>Pclass</th>\n",
        "      <th>Sex</th>\n",
        "      <th>Age</th>\n",
        "      <th>SibSp</th>\n",
        "      <th>Parch</th>\n",
        "      <th>Fare</th>\n",
        "      <th>Embarked</th>\n",
        "      <th>Survived</th>\n",
        "    </tr>\n",
        "  </thead>\n",
        "  <tbody>\n",
        "    <tr>\n",
        "      <th>0</th>\n",
        "      <td>1</td>\n",
        "      <td>3</td>\n",
        "      <td>male</td>\n",
        "      <td>22.0</td>\n",
        "      <td>1</td>\n",
        "      <td>0</td>\n",
        "      <td>7.2500</td>\n",
        "      <td>S</td>\n",
        "      <td>0</td>\n",
        "    </tr>\n",
        "    <tr>\n",
        "      <th>1</th>\n",
        "      <td>2</td>\n",
        "      <td>1</td>\n",
        "      <td>female</td>\n",
        "      <td>38.0</td>\n",
        "      <td>1</td>\n",
        "      <td>0</td>\n",
        "      <td>71.2833</td>\n",
        "      <td>C</td>\n",
        "      <td>1</td>\n",
        "    </tr>\n",
        "    <tr>\n",
        "      <th>2</th>\n",
        "      <td>3</td>\n",
        "      <td>3</td>\n",
        "      <td>female</td>\n",
        "      <td>26.0</td>\n",
        "      <td>0</td>\n",
        "      <td>0</td>\n",
        "      <td>7.9250</td>\n",
        "      <td>S</td>\n",
        "      <td>1</td>\n",
        "    </tr>\n",
        "    <tr>\n",
        "      <th>3</th>\n",
        "      <td>4</td>\n",
        "      <td>1</td>\n",
        "      <td>female</td>\n",
        "      <td>35.0</td>\n",
        "      <td>1</td>\n",
        "      <td>0</td>\n",
        "      <td>53.1000</td>\n",
        "      <td>S</td>\n",
        "      <td>1</td>\n",
        "    </tr>\n",
        "    <tr>\n",
        "      <th>4</th>\n",
        "      <td>5</td>\n",
        "      <td>3</td>\n",
        "      <td>male</td>\n",
        "      <td>35.0</td>\n",
        "      <td>0</td>\n",
        "      <td>0</td>\n",
        "      <td>8.0500</td>\n",
        "      <td>S</td>\n",
        "      <td>0</td>\n",
        "    </tr>\n",
        "    <tr>\n",
        "      <th>5</th>\n",
        "      <td>6</td>\n",
        "      <td>3</td>\n",
        "      <td>male</td>\n",
        "      <td>NaN</td>\n",
        "      <td>0</td>\n",
        "      <td>0</td>\n",
        "      <td>8.4583</td>\n",
        "      <td>Q</td>\n",
        "      <td>0</td>\n",
        "    </tr>\n",
        "    <tr>\n",
        "      <th>6</th>\n",
        "      <td>7</td>\n",
        "      <td>1</td>\n",
        "      <td>male</td>\n",
        "      <td>54.0</td>\n",
        "      <td>0</td>\n",
        "      <td>0</td>\n",
        "      <td>51.8625</td>\n",
        "      <td>S</td>\n",
        "      <td>0</td>\n",
        "    </tr>\n",
        "    <tr>\n",
        "      <th>7</th>\n",
        "      <td>8</td>\n",
        "      <td>3</td>\n",
        "      <td>male</td>\n",
        "      <td>2.0</td>\n",
        "      <td>3</td>\n",
        "      <td>1</td>\n",
        "      <td>21.0750</td>\n",
        "      <td>S</td>\n",
        "      <td>0</td>\n",
        "    </tr>\n",
        "    <tr>\n",
        "      <th>8</th>\n",
        "      <td>9</td>\n",
        "      <td>3</td>\n",
        "      <td>female</td>\n",
        "      <td>27.0</td>\n",
        "      <td>0</td>\n",
        "      <td>2</td>\n",
        "      <td>11.1333</td>\n",
        "      <td>S</td>\n",
        "      <td>1</td>\n",
        "    </tr>\n",
        "    <tr>\n",
        "      <th>9</th>\n",
        "      <td>10</td>\n",
        "      <td>2</td>\n",
        "      <td>female</td>\n",
        "      <td>14.0</td>\n",
        "      <td>1</td>\n",
        "      <td>0</td>\n",
        "      <td>30.0708</td>\n",
        "      <td>C</td>\n",
        "      <td>1</td>\n",
        "    </tr>\n",
        "  </tbody>\n",
        "</table>\n",
        "</div>"
       ],
       "metadata": {},
       "output_type": "pyout",
       "prompt_number": 27,
       "text": [
        "   PassengerId  Pclass     Sex   Age  SibSp  Parch     Fare Embarked  Survived\n",
        "0            1       3    male  22.0      1      0   7.2500        S         0\n",
        "1            2       1  female  38.0      1      0  71.2833        C         1\n",
        "2            3       3  female  26.0      0      0   7.9250        S         1\n",
        "3            4       1  female  35.0      1      0  53.1000        S         1\n",
        "4            5       3    male  35.0      0      0   8.0500        S         0\n",
        "5            6       3    male   NaN      0      0   8.4583        Q         0\n",
        "6            7       1    male  54.0      0      0  51.8625        S         0\n",
        "7            8       3    male   2.0      3      1  21.0750        S         0\n",
        "8            9       3  female  27.0      0      2  11.1333        S         1\n",
        "9           10       2  female  14.0      1      0  30.0708        C         1"
       ]
      }
     ],
     "prompt_number": 27
    },
    {
     "cell_type": "heading",
     "level": 1,
     "metadata": {},
     "source": [
      "Change none-numerical data to numerical data"
     ]
    },
    {
     "cell_type": "code",
     "collapsed": false,
     "input": [
      "npData[npData[:,2] == 'male', 2]= 1\n",
      "npData[npData[:,2] == 'female', 2] = 0\n",
      "\n",
      "npData[npData[:,7] == 'C', 7]= 0\n",
      "npData[npData[:,7] == 'Q', 7]= 1\n",
      "npData[npData[:,7] == 'S', 7]= 2\n",
      "\n",
      "npFloatData = npData[:,1:].astype(np.float32)\n",
      "npData[:10], npFloatData[:10]"
     ],
     "language": "python",
     "metadata": {},
     "outputs": [
      {
       "metadata": {},
       "output_type": "pyout",
       "prompt_number": 138,
       "text": [
        "(array([[1, 3, 1, 22.0, 1, 0, 7.25, 2, 0],\n",
        "        [2, 1, 0, 38.0, 1, 0, 71.2833, 0, 1],\n",
        "        [3, 3, 0, 26.0, 0, 0, 7.925, 2, 1],\n",
        "        [4, 1, 0, 35.0, 1, 0, 53.1, 2, 1],\n",
        "        [5, 3, 1, 35.0, 0, 0, 8.05, 2, 0],\n",
        "        [6, 3, 1, nan, 0, 0, 8.4583, 1, 0],\n",
        "        [7, 1, 1, 54.0, 0, 0, 51.8625, 2, 0],\n",
        "        [8, 3, 1, 2.0, 3, 1, 21.075, 2, 0],\n",
        "        [9, 3, 0, 27.0, 0, 2, 11.1333, 2, 1],\n",
        "        [10, 2, 0, 14.0, 1, 0, 30.0708, 0, 1]], dtype=object),\n",
        " array([[  3.        ,   1.        ,  22.        ,   1.        ,\n",
        "           0.        ,   7.25      ,   2.        ,   0.        ],\n",
        "        [  1.        ,   0.        ,  38.        ,   1.        ,\n",
        "           0.        ,  71.28330231,   0.        ,   1.        ],\n",
        "        [  3.        ,   0.        ,  26.        ,   0.        ,\n",
        "           0.        ,   7.92500019,   2.        ,   1.        ],\n",
        "        [  1.        ,   0.        ,  35.        ,   1.        ,\n",
        "           0.        ,  53.09999847,   2.        ,   1.        ],\n",
        "        [  3.        ,   1.        ,  35.        ,   0.        ,\n",
        "           0.        ,   8.05000019,   2.        ,   0.        ],\n",
        "        [  3.        ,   1.        ,          nan,   0.        ,\n",
        "           0.        ,   8.45829964,   1.        ,   0.        ],\n",
        "        [  1.        ,   1.        ,  54.        ,   0.        ,\n",
        "           0.        ,  51.86249924,   2.        ,   0.        ],\n",
        "        [  3.        ,   1.        ,   2.        ,   3.        ,\n",
        "           1.        ,  21.07500076,   2.        ,   0.        ],\n",
        "        [  3.        ,   0.        ,  27.        ,   0.        ,\n",
        "           2.        ,  11.13329983,   2.        ,   1.        ],\n",
        "        [  2.        ,   0.        ,  14.        ,   1.        ,\n",
        "           0.        ,  30.07080078,   0.        ,   1.        ]], dtype=float32))"
       ]
      }
     ],
     "prompt_number": 138
    },
    {
     "cell_type": "code",
     "collapsed": false,
     "input": [
      "npFloatData = npFloatData[~ np.isnan(npFloatData[:,2])]\n",
      "npFloatData, npFloatData.shape"
     ],
     "language": "python",
     "metadata": {},
     "outputs": [
      {
       "metadata": {},
       "output_type": "pyout",
       "prompt_number": 157,
       "text": [
        "(array([[  3.        ,   1.        ,  22.        , ...,   7.25      ,\n",
        "           2.        ,   0.        ],\n",
        "        [  1.        ,   0.        ,  38.        , ...,  71.28330231,\n",
        "           0.        ,   1.        ],\n",
        "        [  3.        ,   0.        ,  26.        , ...,   7.92500019,\n",
        "           2.        ,   1.        ],\n",
        "        ..., \n",
        "        [  1.        ,   0.        ,  19.        , ...,  30.        ,\n",
        "           2.        ,   1.        ],\n",
        "        [  1.        ,   1.        ,  26.        , ...,  30.        ,\n",
        "           0.        ,   1.        ],\n",
        "        [  3.        ,   1.        ,  32.        , ...,   7.75      ,\n",
        "           1.        ,   0.        ]], dtype=float32), (714, 8))"
       ]
      }
     ],
     "prompt_number": 157
    },
    {
     "cell_type": "code",
     "collapsed": false,
     "input": [
      "npFloatOutputData = npFloatData[:, 7] # Survived?\n",
      "npFloatOutputData.shape"
     ],
     "language": "python",
     "metadata": {},
     "outputs": [
      {
       "metadata": {},
       "output_type": "pyout",
       "prompt_number": 160,
       "text": [
        "(714,)"
       ]
      }
     ],
     "prompt_number": 160
    },
    {
     "cell_type": "heading",
     "level": 1,
     "metadata": {},
     "source": [
      "Now Input Data is READY!!!!!"
     ]
    },
    {
     "cell_type": "markdown",
     "metadata": {},
     "source": [
      "Now Prepare **Tensorflow**"
     ]
    },
    {
     "cell_type": "code",
     "collapsed": false,
     "input": [
      "import tensorflow as tf"
     ],
     "language": "python",
     "metadata": {},
     "outputs": [],
     "prompt_number": 161
    },
    {
     "cell_type": "code",
     "collapsed": false,
     "input": [
      "sess = tf.InteractiveSession()"
     ],
     "language": "python",
     "metadata": {},
     "outputs": [],
     "prompt_number": 162
    },
    {
     "cell_type": "code",
     "collapsed": false,
     "input": [
      "x = tf.placeholder(dtype=tf.float32, shape=[None, 7])\n",
      "y_ = tf.placeholder(dtype=tf.float32, shape = [None, 2])"
     ],
     "language": "python",
     "metadata": {},
     "outputs": [],
     "prompt_number": 164
    },
    {
     "cell_type": "code",
     "collapsed": false,
     "input": [
      "w1 = tf.Variable(tf.random_normal([7, 16]))\n",
      "b1 = tf.Variable(tf.random_normal([16]))\n",
      "\n",
      "w2 = tf.Variable(tf.random_normal([16, 2]))\n",
      "b2 = tf.Variable(tf.random_normal([2]))\n",
      "\n",
      "tf.global_variables_initializer().run()"
     ],
     "language": "python",
     "metadata": {},
     "outputs": [],
     "prompt_number": 165
    },
    {
     "cell_type": "markdown",
     "metadata": {},
     "source": [
      "Initialized \ub410\ub294\uc9c0 \ud655\uc778\ud558\uae30"
     ]
    },
    {
     "cell_type": "code",
     "collapsed": false,
     "input": [
      "w1.eval(), b1.eval(), w2.eval(), b2.eval()"
     ],
     "language": "python",
     "metadata": {},
     "outputs": [
      {
       "metadata": {},
       "output_type": "pyout",
       "prompt_number": 166,
       "text": [
        "(array([[-1.63899291,  0.95428634, -0.88621247, -0.23965789, -1.24131393,\n",
        "          1.46988618, -0.76774174,  1.02236116, -0.10779417, -1.14282811,\n",
        "         -1.3247447 , -0.80569184, -0.9203397 ,  0.81134856, -1.04598713,\n",
        "         -1.7091285 ],\n",
        "        [ 1.10454416, -0.73607069, -0.30290103,  0.40567419,  0.67670417,\n",
        "         -0.99028319,  0.30294156, -0.15508693, -0.92098361, -0.42948833,\n",
        "          0.97577691,  0.39472321,  0.28282499,  0.34849316,  0.30010161,\n",
        "         -0.51195103],\n",
        "        [-0.51176029,  0.88958704,  0.68114084, -1.3099618 ,  1.10845208,\n",
        "         -0.05619346, -0.56165957, -0.47918156,  0.71992081, -0.1320307 ,\n",
        "         -0.27697349,  1.95260596,  1.44714892,  1.49221981, -1.5919044 ,\n",
        "         -0.08288042],\n",
        "        [ 0.60429102, -0.16507022, -0.67604452, -2.02552104, -1.26006687,\n",
        "         -1.2177645 ,  0.14757234,  0.28387019, -1.15267622, -2.08340406,\n",
        "          0.07230545,  0.72569209, -1.69683862, -0.9601531 , -2.10603452,\n",
        "         -0.86075145],\n",
        "        [ 0.61967266,  1.58340728, -1.02838051,  1.26360464, -2.22002506,\n",
        "          1.71317351, -0.34649161, -0.74897456, -1.24866033,  1.66554546,\n",
        "         -0.40742102,  0.06283134, -0.24556421, -0.44372326, -0.00984587,\n",
        "         -1.01034713],\n",
        "        [ 0.24099892,  0.69453675,  1.10344744, -0.3802174 , -0.5862487 ,\n",
        "         -0.46028465, -0.32887772,  2.59766936,  0.76992911,  0.19654597,\n",
        "          0.24412802,  1.14276159,  0.61391944, -1.65020216,  0.05198771,\n",
        "          1.38957322],\n",
        "        [ 1.23586988, -1.6698097 ,  0.18130073,  1.5102483 ,  0.95758575,\n",
        "          0.44738108, -0.65166789, -0.12358145, -0.32732102,  0.18664072,\n",
        "          0.32801244,  0.95128173,  0.45486137, -0.22986318,  0.55245191,\n",
        "         -2.26040649]], dtype=float32),\n",
        " array([-0.86494631, -1.14628482, -0.72544175, -1.7739265 ,  1.20899701,\n",
        "         1.59504569, -0.92360622, -0.89449805, -0.83731812,  0.71107131,\n",
        "        -2.01832652,  0.21514259, -0.87059945,  0.6481328 , -0.10795858,\n",
        "        -0.39958808], dtype=float32),\n",
        " array([[-0.53640163,  1.40736139],\n",
        "        [-0.46848127,  0.33470491],\n",
        "        [ 0.14921287,  0.67470115],\n",
        "        [ 0.44142333,  1.51913583],\n",
        "        [ 1.37741673,  1.05029225],\n",
        "        [-0.87697256, -2.21121597],\n",
        "        [ 0.46487674, -0.08059523],\n",
        "        [ 1.46471453,  0.88695675],\n",
        "        [ 1.07086945, -2.10313416],\n",
        "        [ 0.10180762, -0.64763808],\n",
        "        [ 0.19495644,  0.12890564],\n",
        "        [-0.05618409, -1.44330955],\n",
        "        [-0.18263473,  1.79203153],\n",
        "        [-0.39754725, -0.37192279],\n",
        "        [ 0.92096305,  0.46284267],\n",
        "        [-0.37319452,  0.18422595]], dtype=float32),\n",
        " array([-1.17436767, -0.97400719], dtype=float32))"
       ]
      }
     ],
     "prompt_number": 166
    },
    {
     "cell_type": "markdown",
     "metadata": {},
     "source": [
      "**1st Layer**"
     ]
    },
    {
     "cell_type": "code",
     "collapsed": false,
     "input": [
      "y1 = tf.matmul(x, w1) + b1\n",
      "x1 = tf.nn.relu(y1)"
     ],
     "language": "python",
     "metadata": {},
     "outputs": [],
     "prompt_number": 167
    },
    {
     "cell_type": "markdown",
     "metadata": {},
     "source": [
      "**2nd Layer**"
     ]
    },
    {
     "cell_type": "code",
     "collapsed": false,
     "input": [
      "y2 = tf.matmul(x1, w2) + b2\n",
      "y = tf.nn.relu(y2)"
     ],
     "language": "python",
     "metadata": {},
     "outputs": [],
     "prompt_number": 168
    },
    {
     "cell_type": "markdown",
     "metadata": {},
     "source": [
      "**Loss**"
     ]
    },
    {
     "cell_type": "code",
     "collapsed": false,
     "input": [
      "arrLoss = tf.nn.softmax_cross_entropy_with_logits(labels=y_, logits=y)"
     ],
     "language": "python",
     "metadata": {},
     "outputs": [],
     "prompt_number": 169
    },
    {
     "cell_type": "code",
     "collapsed": false,
     "input": [
      "npOutput = tf.one_hot(npFloatOutputData, depth=2).eval()\n",
      "npOutput[:10]"
     ],
     "language": "python",
     "metadata": {},
     "outputs": [
      {
       "metadata": {},
       "output_type": "pyout",
       "prompt_number": 170,
       "text": [
        "array([[ 1.,  0.],\n",
        "       [ 0.,  1.],\n",
        "       [ 0.,  1.],\n",
        "       [ 0.,  1.],\n",
        "       [ 1.,  0.],\n",
        "       [ 1.,  0.],\n",
        "       [ 1.,  0.],\n",
        "       [ 0.,  1.],\n",
        "       [ 0.,  1.],\n",
        "       [ 0.,  1.]], dtype=float32)"
       ]
      }
     ],
     "prompt_number": 170
    },
    {
     "cell_type": "code",
     "collapsed": false,
     "input": [
      "loss = tf.reduce_sum(arrLoss)#.eval(feed_dict={x:npFloatData[:100, :8] , y_:npOutput[:100]})"
     ],
     "language": "python",
     "metadata": {},
     "outputs": [],
     "prompt_number": 171
    },
    {
     "cell_type": "code",
     "collapsed": false,
     "input": [
      "loss.eval(feed_dict={x:npFloatData[:100, :7] , y_:npOutput[:100]})"
     ],
     "language": "python",
     "metadata": {},
     "outputs": [
      {
       "metadata": {},
       "output_type": "pyout",
       "prompt_number": 173,
       "text": [
        "3230.4048"
       ]
      }
     ],
     "prompt_number": 173
    },
    {
     "cell_type": "markdown",
     "metadata": {},
     "source": [
      "**Config Train Step**"
     ]
    },
    {
     "cell_type": "markdown",
     "metadata": {},
     "source": [
      "*optimizer*"
     ]
    },
    {
     "cell_type": "code",
     "collapsed": false,
     "input": [
      "optimizer = tf.train.GradientDescentOptimizer(0.01)"
     ],
     "language": "python",
     "metadata": {},
     "outputs": [],
     "prompt_number": 183
    },
    {
     "cell_type": "code",
     "collapsed": false,
     "input": [
      "train = optimizer.minimize(arrLoss)"
     ],
     "language": "python",
     "metadata": {},
     "outputs": [],
     "prompt_number": 184
    },
    {
     "cell_type": "markdown",
     "metadata": {},
     "source": [
      "**Do Train**"
     ]
    },
    {
     "cell_type": "code",
     "collapsed": false,
     "input": [
      "tf.global_variables_initializer().run()"
     ],
     "language": "python",
     "metadata": {},
     "outputs": [],
     "prompt_number": 185
    },
    {
     "cell_type": "code",
     "collapsed": false,
     "input": [
      "for i in range(100):\n",
      "    sess.run(train, feed_dict={x:npFloatData[:100, :7], y_:npOutput[:100]})\n",
      "    print(i, loss.eval(feed_dict={x:npFloatData[:100, :7], y_:npOutput[:100]}))"
     ],
     "language": "python",
     "metadata": {},
     "outputs": [
      {
       "output_type": "stream",
       "stream": "stdout",
       "text": [
        "0 69.3147\n",
        "1 69.3147\n",
        "2 69.3147\n",
        "3 69.3147\n",
        "4 69.3147\n",
        "5 69.3147\n",
        "6 69.3147\n",
        "7 69.3147\n",
        "8 69.3147\n",
        "9 69.3147\n",
        "10 69.3147\n",
        "11 69.3147\n",
        "12 69.3147\n",
        "13 69.3147\n",
        "14 69.3147\n",
        "15 69.3147\n",
        "16 69.3147\n",
        "17 69.3147\n",
        "18 69.3147\n",
        "19 69.3147\n",
        "20 69.3147\n",
        "21 69.3147\n",
        "22 69.3147\n",
        "23 69.3147\n",
        "24 69.3147\n",
        "25 69.3147\n",
        "26 69.3147\n",
        "27 69.3147\n",
        "28 69.3147\n",
        "29 69.3147\n",
        "30 69.3147\n",
        "31 69.3147\n",
        "32 69.3147\n",
        "33 69.3147\n",
        "34 69.3147\n",
        "35 69.3147\n",
        "36 69.3147\n",
        "37 69.3147\n",
        "38 69.3147\n",
        "39 69.3147\n",
        "40 69.3147\n",
        "41 69.3147\n",
        "42 69.3147\n",
        "43 69.3147\n",
        "44 69.3147\n",
        "45 69.3147\n",
        "46 69.3147\n",
        "47 69.3147\n",
        "48"
       ]
      },
      {
       "output_type": "stream",
       "stream": "stdout",
       "text": [
        " 69.3147\n",
        "49 69.3147\n",
        "50 69.3147\n",
        "51 69.3147\n",
        "52 69.3147\n",
        "53 69.3147\n",
        "54 69.3147\n",
        "55 69.3147\n",
        "56 69.3147\n",
        "57 69.3147\n",
        "58 69.3147\n",
        "59 69.3147\n",
        "60 69.3147\n",
        "61 69.3147\n",
        "62 69.3147\n",
        "63 69.3147\n",
        "64 69.3147\n",
        "65 69.3147\n",
        "66 69.3147\n",
        "67 69.3147\n",
        "68 69.3147\n",
        "69 69.3147\n",
        "70 69.3147\n",
        "71 69.3147\n",
        "72 69.3147\n",
        "73 69.3147\n",
        "74 69.3147\n",
        "75 69.3147\n",
        "76 69.3147\n",
        "77 69.3147\n",
        "78 69.3147\n",
        "79 69.3147\n",
        "80 69.3147\n",
        "81 69.3147\n",
        "82 69.3147\n",
        "83 69.3147\n",
        "84 69.3147\n",
        "85 69.3147\n",
        "86 69.3147\n",
        "87 69.3147\n",
        "88 69.3147\n",
        "89 69.3147\n",
        "90 69.3147\n",
        "91 69.3147\n",
        "92"
       ]
      },
      {
       "output_type": "stream",
       "stream": "stdout",
       "text": [
        " 69.3147\n",
        "93 69.3147\n",
        "94 69.3147\n",
        "95 69.3147\n",
        "96 69.3147\n",
        "97 69.3147\n",
        "98 69.3147\n",
        "99 69.3147\n"
       ]
      }
     ],
     "prompt_number": 186
    },
    {
     "cell_type": "code",
     "collapsed": false,
     "input": [],
     "language": "python",
     "metadata": {},
     "outputs": []
    }
   ],
   "metadata": {}
  }
 ]
}