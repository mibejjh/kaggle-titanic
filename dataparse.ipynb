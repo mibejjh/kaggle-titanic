{
 "metadata": {
  "name": "",
  "signature": "sha256:67aa9d9d1067d7f6b5c2594bf42f6c778d668650c60fb183da7705d0ca0e9554"
 },
 "nbformat": 3,
 "nbformat_minor": 0,
 "worksheets": [
  {
   "cells": [
    {
     "cell_type": "code",
     "collapsed": false,
     "input": [
      "import pandas as pd\n",
      "import numpy as np"
     ],
     "language": "python",
     "metadata": {},
     "outputs": [],
     "prompt_number": 53
    },
    {
     "cell_type": "heading",
     "level": 1,
     "metadata": {},
     "source": [
      "Load Dataset"
     ]
    },
    {
     "cell_type": "code",
     "collapsed": false,
     "input": [
      "pdData = pd.read_csv(\"./dataset/train.csv\")\n",
      "pdData[:10]"
     ],
     "language": "python",
     "metadata": {},
     "outputs": [
      {
       "html": [
        "<div style=\"max-width:1500px;overflow:auto;\">\n",
        "<table border=\"1\" class=\"dataframe\">\n",
        "  <thead>\n",
        "    <tr style=\"text-align: right;\">\n",
        "      <th></th>\n",
        "      <th>PassengerId</th>\n",
        "      <th>Survived</th>\n",
        "      <th>Pclass</th>\n",
        "      <th>Name</th>\n",
        "      <th>Sex</th>\n",
        "      <th>Age</th>\n",
        "      <th>SibSp</th>\n",
        "      <th>Parch</th>\n",
        "      <th>Ticket</th>\n",
        "      <th>Fare</th>\n",
        "      <th>Cabin</th>\n",
        "      <th>Embarked</th>\n",
        "    </tr>\n",
        "  </thead>\n",
        "  <tbody>\n",
        "    <tr>\n",
        "      <th>0</th>\n",
        "      <td>1</td>\n",
        "      <td>0</td>\n",
        "      <td>3</td>\n",
        "      <td>Braund, Mr. Owen Harris</td>\n",
        "      <td>male</td>\n",
        "      <td>22.0</td>\n",
        "      <td>1</td>\n",
        "      <td>0</td>\n",
        "      <td>A/5 21171</td>\n",
        "      <td>7.2500</td>\n",
        "      <td>NaN</td>\n",
        "      <td>S</td>\n",
        "    </tr>\n",
        "    <tr>\n",
        "      <th>1</th>\n",
        "      <td>2</td>\n",
        "      <td>1</td>\n",
        "      <td>1</td>\n",
        "      <td>Cumings, Mrs. John Bradley (Florence Briggs Th...</td>\n",
        "      <td>female</td>\n",
        "      <td>38.0</td>\n",
        "      <td>1</td>\n",
        "      <td>0</td>\n",
        "      <td>PC 17599</td>\n",
        "      <td>71.2833</td>\n",
        "      <td>C85</td>\n",
        "      <td>C</td>\n",
        "    </tr>\n",
        "    <tr>\n",
        "      <th>2</th>\n",
        "      <td>3</td>\n",
        "      <td>1</td>\n",
        "      <td>3</td>\n",
        "      <td>Heikkinen, Miss. Laina</td>\n",
        "      <td>female</td>\n",
        "      <td>26.0</td>\n",
        "      <td>0</td>\n",
        "      <td>0</td>\n",
        "      <td>STON/O2. 3101282</td>\n",
        "      <td>7.9250</td>\n",
        "      <td>NaN</td>\n",
        "      <td>S</td>\n",
        "    </tr>\n",
        "    <tr>\n",
        "      <th>3</th>\n",
        "      <td>4</td>\n",
        "      <td>1</td>\n",
        "      <td>1</td>\n",
        "      <td>Futrelle, Mrs. Jacques Heath (Lily May Peel)</td>\n",
        "      <td>female</td>\n",
        "      <td>35.0</td>\n",
        "      <td>1</td>\n",
        "      <td>0</td>\n",
        "      <td>113803</td>\n",
        "      <td>53.1000</td>\n",
        "      <td>C123</td>\n",
        "      <td>S</td>\n",
        "    </tr>\n",
        "    <tr>\n",
        "      <th>4</th>\n",
        "      <td>5</td>\n",
        "      <td>0</td>\n",
        "      <td>3</td>\n",
        "      <td>Allen, Mr. William Henry</td>\n",
        "      <td>male</td>\n",
        "      <td>35.0</td>\n",
        "      <td>0</td>\n",
        "      <td>0</td>\n",
        "      <td>373450</td>\n",
        "      <td>8.0500</td>\n",
        "      <td>NaN</td>\n",
        "      <td>S</td>\n",
        "    </tr>\n",
        "    <tr>\n",
        "      <th>5</th>\n",
        "      <td>6</td>\n",
        "      <td>0</td>\n",
        "      <td>3</td>\n",
        "      <td>Moran, Mr. James</td>\n",
        "      <td>male</td>\n",
        "      <td>NaN</td>\n",
        "      <td>0</td>\n",
        "      <td>0</td>\n",
        "      <td>330877</td>\n",
        "      <td>8.4583</td>\n",
        "      <td>NaN</td>\n",
        "      <td>Q</td>\n",
        "    </tr>\n",
        "    <tr>\n",
        "      <th>6</th>\n",
        "      <td>7</td>\n",
        "      <td>0</td>\n",
        "      <td>1</td>\n",
        "      <td>McCarthy, Mr. Timothy J</td>\n",
        "      <td>male</td>\n",
        "      <td>54.0</td>\n",
        "      <td>0</td>\n",
        "      <td>0</td>\n",
        "      <td>17463</td>\n",
        "      <td>51.8625</td>\n",
        "      <td>E46</td>\n",
        "      <td>S</td>\n",
        "    </tr>\n",
        "    <tr>\n",
        "      <th>7</th>\n",
        "      <td>8</td>\n",
        "      <td>0</td>\n",
        "      <td>3</td>\n",
        "      <td>Palsson, Master. Gosta Leonard</td>\n",
        "      <td>male</td>\n",
        "      <td>2.0</td>\n",
        "      <td>3</td>\n",
        "      <td>1</td>\n",
        "      <td>349909</td>\n",
        "      <td>21.0750</td>\n",
        "      <td>NaN</td>\n",
        "      <td>S</td>\n",
        "    </tr>\n",
        "    <tr>\n",
        "      <th>8</th>\n",
        "      <td>9</td>\n",
        "      <td>1</td>\n",
        "      <td>3</td>\n",
        "      <td>Johnson, Mrs. Oscar W (Elisabeth Vilhelmina Berg)</td>\n",
        "      <td>female</td>\n",
        "      <td>27.0</td>\n",
        "      <td>0</td>\n",
        "      <td>2</td>\n",
        "      <td>347742</td>\n",
        "      <td>11.1333</td>\n",
        "      <td>NaN</td>\n",
        "      <td>S</td>\n",
        "    </tr>\n",
        "    <tr>\n",
        "      <th>9</th>\n",
        "      <td>10</td>\n",
        "      <td>1</td>\n",
        "      <td>2</td>\n",
        "      <td>Nasser, Mrs. Nicholas (Adele Achem)</td>\n",
        "      <td>female</td>\n",
        "      <td>14.0</td>\n",
        "      <td>1</td>\n",
        "      <td>0</td>\n",
        "      <td>237736</td>\n",
        "      <td>30.0708</td>\n",
        "      <td>NaN</td>\n",
        "      <td>C</td>\n",
        "    </tr>\n",
        "  </tbody>\n",
        "</table>\n",
        "</div>"
       ],
       "metadata": {},
       "output_type": "pyout",
       "prompt_number": 54,
       "text": [
        "   PassengerId  Survived  Pclass  \\\n",
        "0            1         0       3   \n",
        "1            2         1       1   \n",
        "2            3         1       3   \n",
        "3            4         1       1   \n",
        "4            5         0       3   \n",
        "5            6         0       3   \n",
        "6            7         0       1   \n",
        "7            8         0       3   \n",
        "8            9         1       3   \n",
        "9           10         1       2   \n",
        "\n",
        "                                                Name     Sex   Age  SibSp  \\\n",
        "0                            Braund, Mr. Owen Harris    male  22.0      1   \n",
        "1  Cumings, Mrs. John Bradley (Florence Briggs Th...  female  38.0      1   \n",
        "2                             Heikkinen, Miss. Laina  female  26.0      0   \n",
        "3       Futrelle, Mrs. Jacques Heath (Lily May Peel)  female  35.0      1   \n",
        "4                           Allen, Mr. William Henry    male  35.0      0   \n",
        "5                                   Moran, Mr. James    male   NaN      0   \n",
        "6                            McCarthy, Mr. Timothy J    male  54.0      0   \n",
        "7                     Palsson, Master. Gosta Leonard    male   2.0      3   \n",
        "8  Johnson, Mrs. Oscar W (Elisabeth Vilhelmina Berg)  female  27.0      0   \n",
        "9                Nasser, Mrs. Nicholas (Adele Achem)  female  14.0      1   \n",
        "\n",
        "   Parch            Ticket     Fare Cabin Embarked  \n",
        "0      0         A/5 21171   7.2500   NaN        S  \n",
        "1      0          PC 17599  71.2833   C85        C  \n",
        "2      0  STON/O2. 3101282   7.9250   NaN        S  \n",
        "3      0            113803  53.1000  C123        S  \n",
        "4      0            373450   8.0500   NaN        S  \n",
        "5      0            330877   8.4583   NaN        Q  \n",
        "6      0             17463  51.8625   E46        S  \n",
        "7      1            349909  21.0750   NaN        S  \n",
        "8      2            347742  11.1333   NaN        S  \n",
        "9      0            237736  30.0708   NaN        C  "
       ]
      }
     ],
     "prompt_number": 54
    },
    {
     "cell_type": "heading",
     "level": 1,
     "metadata": {},
     "source": [
      "Select necessary data "
     ]
    },
    {
     "cell_type": "code",
     "collapsed": false,
     "input": [
      "pdFilteredData = pdData[['PassengerId','Pclass','Sex','Age','SibSp','Parch','Fare','Embarked', 'Survived']]\n",
      "npData = pdFilteredData.as_matrix()\n",
      "pdFilteredData[:50]"
     ],
     "language": "python",
     "metadata": {},
     "outputs": [
      {
       "html": [
        "<div style=\"max-width:1500px;overflow:auto;\">\n",
        "<table border=\"1\" class=\"dataframe\">\n",
        "  <thead>\n",
        "    <tr style=\"text-align: right;\">\n",
        "      <th></th>\n",
        "      <th>PassengerId</th>\n",
        "      <th>Pclass</th>\n",
        "      <th>Sex</th>\n",
        "      <th>Age</th>\n",
        "      <th>SibSp</th>\n",
        "      <th>Parch</th>\n",
        "      <th>Fare</th>\n",
        "      <th>Embarked</th>\n",
        "      <th>Survived</th>\n",
        "    </tr>\n",
        "  </thead>\n",
        "  <tbody>\n",
        "    <tr>\n",
        "      <th>0</th>\n",
        "      <td>1</td>\n",
        "      <td>3</td>\n",
        "      <td>male</td>\n",
        "      <td>22.0</td>\n",
        "      <td>1</td>\n",
        "      <td>0</td>\n",
        "      <td>7.2500</td>\n",
        "      <td>S</td>\n",
        "      <td>0</td>\n",
        "    </tr>\n",
        "    <tr>\n",
        "      <th>1</th>\n",
        "      <td>2</td>\n",
        "      <td>1</td>\n",
        "      <td>female</td>\n",
        "      <td>38.0</td>\n",
        "      <td>1</td>\n",
        "      <td>0</td>\n",
        "      <td>71.2833</td>\n",
        "      <td>C</td>\n",
        "      <td>1</td>\n",
        "    </tr>\n",
        "    <tr>\n",
        "      <th>2</th>\n",
        "      <td>3</td>\n",
        "      <td>3</td>\n",
        "      <td>female</td>\n",
        "      <td>26.0</td>\n",
        "      <td>0</td>\n",
        "      <td>0</td>\n",
        "      <td>7.9250</td>\n",
        "      <td>S</td>\n",
        "      <td>1</td>\n",
        "    </tr>\n",
        "    <tr>\n",
        "      <th>3</th>\n",
        "      <td>4</td>\n",
        "      <td>1</td>\n",
        "      <td>female</td>\n",
        "      <td>35.0</td>\n",
        "      <td>1</td>\n",
        "      <td>0</td>\n",
        "      <td>53.1000</td>\n",
        "      <td>S</td>\n",
        "      <td>1</td>\n",
        "    </tr>\n",
        "    <tr>\n",
        "      <th>4</th>\n",
        "      <td>5</td>\n",
        "      <td>3</td>\n",
        "      <td>male</td>\n",
        "      <td>35.0</td>\n",
        "      <td>0</td>\n",
        "      <td>0</td>\n",
        "      <td>8.0500</td>\n",
        "      <td>S</td>\n",
        "      <td>0</td>\n",
        "    </tr>\n",
        "    <tr>\n",
        "      <th>5</th>\n",
        "      <td>6</td>\n",
        "      <td>3</td>\n",
        "      <td>male</td>\n",
        "      <td>NaN</td>\n",
        "      <td>0</td>\n",
        "      <td>0</td>\n",
        "      <td>8.4583</td>\n",
        "      <td>Q</td>\n",
        "      <td>0</td>\n",
        "    </tr>\n",
        "    <tr>\n",
        "      <th>6</th>\n",
        "      <td>7</td>\n",
        "      <td>1</td>\n",
        "      <td>male</td>\n",
        "      <td>54.0</td>\n",
        "      <td>0</td>\n",
        "      <td>0</td>\n",
        "      <td>51.8625</td>\n",
        "      <td>S</td>\n",
        "      <td>0</td>\n",
        "    </tr>\n",
        "    <tr>\n",
        "      <th>7</th>\n",
        "      <td>8</td>\n",
        "      <td>3</td>\n",
        "      <td>male</td>\n",
        "      <td>2.0</td>\n",
        "      <td>3</td>\n",
        "      <td>1</td>\n",
        "      <td>21.0750</td>\n",
        "      <td>S</td>\n",
        "      <td>0</td>\n",
        "    </tr>\n",
        "    <tr>\n",
        "      <th>8</th>\n",
        "      <td>9</td>\n",
        "      <td>3</td>\n",
        "      <td>female</td>\n",
        "      <td>27.0</td>\n",
        "      <td>0</td>\n",
        "      <td>2</td>\n",
        "      <td>11.1333</td>\n",
        "      <td>S</td>\n",
        "      <td>1</td>\n",
        "    </tr>\n",
        "    <tr>\n",
        "      <th>9</th>\n",
        "      <td>10</td>\n",
        "      <td>2</td>\n",
        "      <td>female</td>\n",
        "      <td>14.0</td>\n",
        "      <td>1</td>\n",
        "      <td>0</td>\n",
        "      <td>30.0708</td>\n",
        "      <td>C</td>\n",
        "      <td>1</td>\n",
        "    </tr>\n",
        "    <tr>\n",
        "      <th>10</th>\n",
        "      <td>11</td>\n",
        "      <td>3</td>\n",
        "      <td>female</td>\n",
        "      <td>4.0</td>\n",
        "      <td>1</td>\n",
        "      <td>1</td>\n",
        "      <td>16.7000</td>\n",
        "      <td>S</td>\n",
        "      <td>1</td>\n",
        "    </tr>\n",
        "    <tr>\n",
        "      <th>11</th>\n",
        "      <td>12</td>\n",
        "      <td>1</td>\n",
        "      <td>female</td>\n",
        "      <td>58.0</td>\n",
        "      <td>0</td>\n",
        "      <td>0</td>\n",
        "      <td>26.5500</td>\n",
        "      <td>S</td>\n",
        "      <td>1</td>\n",
        "    </tr>\n",
        "    <tr>\n",
        "      <th>12</th>\n",
        "      <td>13</td>\n",
        "      <td>3</td>\n",
        "      <td>male</td>\n",
        "      <td>20.0</td>\n",
        "      <td>0</td>\n",
        "      <td>0</td>\n",
        "      <td>8.0500</td>\n",
        "      <td>S</td>\n",
        "      <td>0</td>\n",
        "    </tr>\n",
        "    <tr>\n",
        "      <th>13</th>\n",
        "      <td>14</td>\n",
        "      <td>3</td>\n",
        "      <td>male</td>\n",
        "      <td>39.0</td>\n",
        "      <td>1</td>\n",
        "      <td>5</td>\n",
        "      <td>31.2750</td>\n",
        "      <td>S</td>\n",
        "      <td>0</td>\n",
        "    </tr>\n",
        "    <tr>\n",
        "      <th>14</th>\n",
        "      <td>15</td>\n",
        "      <td>3</td>\n",
        "      <td>female</td>\n",
        "      <td>14.0</td>\n",
        "      <td>0</td>\n",
        "      <td>0</td>\n",
        "      <td>7.8542</td>\n",
        "      <td>S</td>\n",
        "      <td>0</td>\n",
        "    </tr>\n",
        "    <tr>\n",
        "      <th>15</th>\n",
        "      <td>16</td>\n",
        "      <td>2</td>\n",
        "      <td>female</td>\n",
        "      <td>55.0</td>\n",
        "      <td>0</td>\n",
        "      <td>0</td>\n",
        "      <td>16.0000</td>\n",
        "      <td>S</td>\n",
        "      <td>1</td>\n",
        "    </tr>\n",
        "    <tr>\n",
        "      <th>16</th>\n",
        "      <td>17</td>\n",
        "      <td>3</td>\n",
        "      <td>male</td>\n",
        "      <td>2.0</td>\n",
        "      <td>4</td>\n",
        "      <td>1</td>\n",
        "      <td>29.1250</td>\n",
        "      <td>Q</td>\n",
        "      <td>0</td>\n",
        "    </tr>\n",
        "    <tr>\n",
        "      <th>17</th>\n",
        "      <td>18</td>\n",
        "      <td>2</td>\n",
        "      <td>male</td>\n",
        "      <td>NaN</td>\n",
        "      <td>0</td>\n",
        "      <td>0</td>\n",
        "      <td>13.0000</td>\n",
        "      <td>S</td>\n",
        "      <td>1</td>\n",
        "    </tr>\n",
        "    <tr>\n",
        "      <th>18</th>\n",
        "      <td>19</td>\n",
        "      <td>3</td>\n",
        "      <td>female</td>\n",
        "      <td>31.0</td>\n",
        "      <td>1</td>\n",
        "      <td>0</td>\n",
        "      <td>18.0000</td>\n",
        "      <td>S</td>\n",
        "      <td>0</td>\n",
        "    </tr>\n",
        "    <tr>\n",
        "      <th>19</th>\n",
        "      <td>20</td>\n",
        "      <td>3</td>\n",
        "      <td>female</td>\n",
        "      <td>NaN</td>\n",
        "      <td>0</td>\n",
        "      <td>0</td>\n",
        "      <td>7.2250</td>\n",
        "      <td>C</td>\n",
        "      <td>1</td>\n",
        "    </tr>\n",
        "    <tr>\n",
        "      <th>20</th>\n",
        "      <td>21</td>\n",
        "      <td>2</td>\n",
        "      <td>male</td>\n",
        "      <td>35.0</td>\n",
        "      <td>0</td>\n",
        "      <td>0</td>\n",
        "      <td>26.0000</td>\n",
        "      <td>S</td>\n",
        "      <td>0</td>\n",
        "    </tr>\n",
        "    <tr>\n",
        "      <th>21</th>\n",
        "      <td>22</td>\n",
        "      <td>2</td>\n",
        "      <td>male</td>\n",
        "      <td>34.0</td>\n",
        "      <td>0</td>\n",
        "      <td>0</td>\n",
        "      <td>13.0000</td>\n",
        "      <td>S</td>\n",
        "      <td>1</td>\n",
        "    </tr>\n",
        "    <tr>\n",
        "      <th>22</th>\n",
        "      <td>23</td>\n",
        "      <td>3</td>\n",
        "      <td>female</td>\n",
        "      <td>15.0</td>\n",
        "      <td>0</td>\n",
        "      <td>0</td>\n",
        "      <td>8.0292</td>\n",
        "      <td>Q</td>\n",
        "      <td>1</td>\n",
        "    </tr>\n",
        "    <tr>\n",
        "      <th>23</th>\n",
        "      <td>24</td>\n",
        "      <td>1</td>\n",
        "      <td>male</td>\n",
        "      <td>28.0</td>\n",
        "      <td>0</td>\n",
        "      <td>0</td>\n",
        "      <td>35.5000</td>\n",
        "      <td>S</td>\n",
        "      <td>1</td>\n",
        "    </tr>\n",
        "    <tr>\n",
        "      <th>24</th>\n",
        "      <td>25</td>\n",
        "      <td>3</td>\n",
        "      <td>female</td>\n",
        "      <td>8.0</td>\n",
        "      <td>3</td>\n",
        "      <td>1</td>\n",
        "      <td>21.0750</td>\n",
        "      <td>S</td>\n",
        "      <td>0</td>\n",
        "    </tr>\n",
        "    <tr>\n",
        "      <th>25</th>\n",
        "      <td>26</td>\n",
        "      <td>3</td>\n",
        "      <td>female</td>\n",
        "      <td>38.0</td>\n",
        "      <td>1</td>\n",
        "      <td>5</td>\n",
        "      <td>31.3875</td>\n",
        "      <td>S</td>\n",
        "      <td>1</td>\n",
        "    </tr>\n",
        "    <tr>\n",
        "      <th>26</th>\n",
        "      <td>27</td>\n",
        "      <td>3</td>\n",
        "      <td>male</td>\n",
        "      <td>NaN</td>\n",
        "      <td>0</td>\n",
        "      <td>0</td>\n",
        "      <td>7.2250</td>\n",
        "      <td>C</td>\n",
        "      <td>0</td>\n",
        "    </tr>\n",
        "    <tr>\n",
        "      <th>27</th>\n",
        "      <td>28</td>\n",
        "      <td>1</td>\n",
        "      <td>male</td>\n",
        "      <td>19.0</td>\n",
        "      <td>3</td>\n",
        "      <td>2</td>\n",
        "      <td>263.0000</td>\n",
        "      <td>S</td>\n",
        "      <td>0</td>\n",
        "    </tr>\n",
        "    <tr>\n",
        "      <th>28</th>\n",
        "      <td>29</td>\n",
        "      <td>3</td>\n",
        "      <td>female</td>\n",
        "      <td>NaN</td>\n",
        "      <td>0</td>\n",
        "      <td>0</td>\n",
        "      <td>7.8792</td>\n",
        "      <td>Q</td>\n",
        "      <td>1</td>\n",
        "    </tr>\n",
        "    <tr>\n",
        "      <th>29</th>\n",
        "      <td>30</td>\n",
        "      <td>3</td>\n",
        "      <td>male</td>\n",
        "      <td>NaN</td>\n",
        "      <td>0</td>\n",
        "      <td>0</td>\n",
        "      <td>7.8958</td>\n",
        "      <td>S</td>\n",
        "      <td>0</td>\n",
        "    </tr>\n",
        "    <tr>\n",
        "      <th>30</th>\n",
        "      <td>31</td>\n",
        "      <td>1</td>\n",
        "      <td>male</td>\n",
        "      <td>40.0</td>\n",
        "      <td>0</td>\n",
        "      <td>0</td>\n",
        "      <td>27.7208</td>\n",
        "      <td>C</td>\n",
        "      <td>0</td>\n",
        "    </tr>\n",
        "    <tr>\n",
        "      <th>31</th>\n",
        "      <td>32</td>\n",
        "      <td>1</td>\n",
        "      <td>female</td>\n",
        "      <td>NaN</td>\n",
        "      <td>1</td>\n",
        "      <td>0</td>\n",
        "      <td>146.5208</td>\n",
        "      <td>C</td>\n",
        "      <td>1</td>\n",
        "    </tr>\n",
        "    <tr>\n",
        "      <th>32</th>\n",
        "      <td>33</td>\n",
        "      <td>3</td>\n",
        "      <td>female</td>\n",
        "      <td>NaN</td>\n",
        "      <td>0</td>\n",
        "      <td>0</td>\n",
        "      <td>7.7500</td>\n",
        "      <td>Q</td>\n",
        "      <td>1</td>\n",
        "    </tr>\n",
        "    <tr>\n",
        "      <th>33</th>\n",
        "      <td>34</td>\n",
        "      <td>2</td>\n",
        "      <td>male</td>\n",
        "      <td>66.0</td>\n",
        "      <td>0</td>\n",
        "      <td>0</td>\n",
        "      <td>10.5000</td>\n",
        "      <td>S</td>\n",
        "      <td>0</td>\n",
        "    </tr>\n",
        "    <tr>\n",
        "      <th>34</th>\n",
        "      <td>35</td>\n",
        "      <td>1</td>\n",
        "      <td>male</td>\n",
        "      <td>28.0</td>\n",
        "      <td>1</td>\n",
        "      <td>0</td>\n",
        "      <td>82.1708</td>\n",
        "      <td>C</td>\n",
        "      <td>0</td>\n",
        "    </tr>\n",
        "    <tr>\n",
        "      <th>35</th>\n",
        "      <td>36</td>\n",
        "      <td>1</td>\n",
        "      <td>male</td>\n",
        "      <td>42.0</td>\n",
        "      <td>1</td>\n",
        "      <td>0</td>\n",
        "      <td>52.0000</td>\n",
        "      <td>S</td>\n",
        "      <td>0</td>\n",
        "    </tr>\n",
        "    <tr>\n",
        "      <th>36</th>\n",
        "      <td>37</td>\n",
        "      <td>3</td>\n",
        "      <td>male</td>\n",
        "      <td>NaN</td>\n",
        "      <td>0</td>\n",
        "      <td>0</td>\n",
        "      <td>7.2292</td>\n",
        "      <td>C</td>\n",
        "      <td>1</td>\n",
        "    </tr>\n",
        "    <tr>\n",
        "      <th>37</th>\n",
        "      <td>38</td>\n",
        "      <td>3</td>\n",
        "      <td>male</td>\n",
        "      <td>21.0</td>\n",
        "      <td>0</td>\n",
        "      <td>0</td>\n",
        "      <td>8.0500</td>\n",
        "      <td>S</td>\n",
        "      <td>0</td>\n",
        "    </tr>\n",
        "    <tr>\n",
        "      <th>38</th>\n",
        "      <td>39</td>\n",
        "      <td>3</td>\n",
        "      <td>female</td>\n",
        "      <td>18.0</td>\n",
        "      <td>2</td>\n",
        "      <td>0</td>\n",
        "      <td>18.0000</td>\n",
        "      <td>S</td>\n",
        "      <td>0</td>\n",
        "    </tr>\n",
        "    <tr>\n",
        "      <th>39</th>\n",
        "      <td>40</td>\n",
        "      <td>3</td>\n",
        "      <td>female</td>\n",
        "      <td>14.0</td>\n",
        "      <td>1</td>\n",
        "      <td>0</td>\n",
        "      <td>11.2417</td>\n",
        "      <td>C</td>\n",
        "      <td>1</td>\n",
        "    </tr>\n",
        "    <tr>\n",
        "      <th>40</th>\n",
        "      <td>41</td>\n",
        "      <td>3</td>\n",
        "      <td>female</td>\n",
        "      <td>40.0</td>\n",
        "      <td>1</td>\n",
        "      <td>0</td>\n",
        "      <td>9.4750</td>\n",
        "      <td>S</td>\n",
        "      <td>0</td>\n",
        "    </tr>\n",
        "    <tr>\n",
        "      <th>41</th>\n",
        "      <td>42</td>\n",
        "      <td>2</td>\n",
        "      <td>female</td>\n",
        "      <td>27.0</td>\n",
        "      <td>1</td>\n",
        "      <td>0</td>\n",
        "      <td>21.0000</td>\n",
        "      <td>S</td>\n",
        "      <td>0</td>\n",
        "    </tr>\n",
        "    <tr>\n",
        "      <th>42</th>\n",
        "      <td>43</td>\n",
        "      <td>3</td>\n",
        "      <td>male</td>\n",
        "      <td>NaN</td>\n",
        "      <td>0</td>\n",
        "      <td>0</td>\n",
        "      <td>7.8958</td>\n",
        "      <td>C</td>\n",
        "      <td>0</td>\n",
        "    </tr>\n",
        "    <tr>\n",
        "      <th>43</th>\n",
        "      <td>44</td>\n",
        "      <td>2</td>\n",
        "      <td>female</td>\n",
        "      <td>3.0</td>\n",
        "      <td>1</td>\n",
        "      <td>2</td>\n",
        "      <td>41.5792</td>\n",
        "      <td>C</td>\n",
        "      <td>1</td>\n",
        "    </tr>\n",
        "    <tr>\n",
        "      <th>44</th>\n",
        "      <td>45</td>\n",
        "      <td>3</td>\n",
        "      <td>female</td>\n",
        "      <td>19.0</td>\n",
        "      <td>0</td>\n",
        "      <td>0</td>\n",
        "      <td>7.8792</td>\n",
        "      <td>Q</td>\n",
        "      <td>1</td>\n",
        "    </tr>\n",
        "    <tr>\n",
        "      <th>45</th>\n",
        "      <td>46</td>\n",
        "      <td>3</td>\n",
        "      <td>male</td>\n",
        "      <td>NaN</td>\n",
        "      <td>0</td>\n",
        "      <td>0</td>\n",
        "      <td>8.0500</td>\n",
        "      <td>S</td>\n",
        "      <td>0</td>\n",
        "    </tr>\n",
        "    <tr>\n",
        "      <th>46</th>\n",
        "      <td>47</td>\n",
        "      <td>3</td>\n",
        "      <td>male</td>\n",
        "      <td>NaN</td>\n",
        "      <td>1</td>\n",
        "      <td>0</td>\n",
        "      <td>15.5000</td>\n",
        "      <td>Q</td>\n",
        "      <td>0</td>\n",
        "    </tr>\n",
        "    <tr>\n",
        "      <th>47</th>\n",
        "      <td>48</td>\n",
        "      <td>3</td>\n",
        "      <td>female</td>\n",
        "      <td>NaN</td>\n",
        "      <td>0</td>\n",
        "      <td>0</td>\n",
        "      <td>7.7500</td>\n",
        "      <td>Q</td>\n",
        "      <td>1</td>\n",
        "    </tr>\n",
        "    <tr>\n",
        "      <th>48</th>\n",
        "      <td>49</td>\n",
        "      <td>3</td>\n",
        "      <td>male</td>\n",
        "      <td>NaN</td>\n",
        "      <td>2</td>\n",
        "      <td>0</td>\n",
        "      <td>21.6792</td>\n",
        "      <td>C</td>\n",
        "      <td>0</td>\n",
        "    </tr>\n",
        "    <tr>\n",
        "      <th>49</th>\n",
        "      <td>50</td>\n",
        "      <td>3</td>\n",
        "      <td>female</td>\n",
        "      <td>18.0</td>\n",
        "      <td>1</td>\n",
        "      <td>0</td>\n",
        "      <td>17.8000</td>\n",
        "      <td>S</td>\n",
        "      <td>0</td>\n",
        "    </tr>\n",
        "  </tbody>\n",
        "</table>\n",
        "</div>"
       ],
       "metadata": {},
       "output_type": "pyout",
       "prompt_number": 55,
       "text": [
        "    PassengerId  Pclass     Sex   Age  SibSp  Parch      Fare Embarked  \\\n",
        "0             1       3    male  22.0      1      0    7.2500        S   \n",
        "1             2       1  female  38.0      1      0   71.2833        C   \n",
        "2             3       3  female  26.0      0      0    7.9250        S   \n",
        "3             4       1  female  35.0      1      0   53.1000        S   \n",
        "4             5       3    male  35.0      0      0    8.0500        S   \n",
        "5             6       3    male   NaN      0      0    8.4583        Q   \n",
        "6             7       1    male  54.0      0      0   51.8625        S   \n",
        "7             8       3    male   2.0      3      1   21.0750        S   \n",
        "8             9       3  female  27.0      0      2   11.1333        S   \n",
        "9            10       2  female  14.0      1      0   30.0708        C   \n",
        "10           11       3  female   4.0      1      1   16.7000        S   \n",
        "11           12       1  female  58.0      0      0   26.5500        S   \n",
        "12           13       3    male  20.0      0      0    8.0500        S   \n",
        "13           14       3    male  39.0      1      5   31.2750        S   \n",
        "14           15       3  female  14.0      0      0    7.8542        S   \n",
        "15           16       2  female  55.0      0      0   16.0000        S   \n",
        "16           17       3    male   2.0      4      1   29.1250        Q   \n",
        "17           18       2    male   NaN      0      0   13.0000        S   \n",
        "18           19       3  female  31.0      1      0   18.0000        S   \n",
        "19           20       3  female   NaN      0      0    7.2250        C   \n",
        "20           21       2    male  35.0      0      0   26.0000        S   \n",
        "21           22       2    male  34.0      0      0   13.0000        S   \n",
        "22           23       3  female  15.0      0      0    8.0292        Q   \n",
        "23           24       1    male  28.0      0      0   35.5000        S   \n",
        "24           25       3  female   8.0      3      1   21.0750        S   \n",
        "25           26       3  female  38.0      1      5   31.3875        S   \n",
        "26           27       3    male   NaN      0      0    7.2250        C   \n",
        "27           28       1    male  19.0      3      2  263.0000        S   \n",
        "28           29       3  female   NaN      0      0    7.8792        Q   \n",
        "29           30       3    male   NaN      0      0    7.8958        S   \n",
        "30           31       1    male  40.0      0      0   27.7208        C   \n",
        "31           32       1  female   NaN      1      0  146.5208        C   \n",
        "32           33       3  female   NaN      0      0    7.7500        Q   \n",
        "33           34       2    male  66.0      0      0   10.5000        S   \n",
        "34           35       1    male  28.0      1      0   82.1708        C   \n",
        "35           36       1    male  42.0      1      0   52.0000        S   \n",
        "36           37       3    male   NaN      0      0    7.2292        C   \n",
        "37           38       3    male  21.0      0      0    8.0500        S   \n",
        "38           39       3  female  18.0      2      0   18.0000        S   \n",
        "39           40       3  female  14.0      1      0   11.2417        C   \n",
        "40           41       3  female  40.0      1      0    9.4750        S   \n",
        "41           42       2  female  27.0      1      0   21.0000        S   \n",
        "42           43       3    male   NaN      0      0    7.8958        C   \n",
        "43           44       2  female   3.0      1      2   41.5792        C   \n",
        "44           45       3  female  19.0      0      0    7.8792        Q   \n",
        "45           46       3    male   NaN      0      0    8.0500        S   \n",
        "46           47       3    male   NaN      1      0   15.5000        Q   \n",
        "47           48       3  female   NaN      0      0    7.7500        Q   \n",
        "48           49       3    male   NaN      2      0   21.6792        C   \n",
        "49           50       3  female  18.0      1      0   17.8000        S   \n",
        "\n",
        "    Survived  \n",
        "0          0  \n",
        "1          1  \n",
        "2          1  \n",
        "3          1  \n",
        "4          0  \n",
        "5          0  \n",
        "6          0  \n",
        "7          0  \n",
        "8          1  \n",
        "9          1  \n",
        "10         1  \n",
        "11         1  \n",
        "12         0  \n",
        "13         0  \n",
        "14         0  \n",
        "15         1  \n",
        "16         0  \n",
        "17         1  \n",
        "18         0  \n",
        "19         1  \n",
        "20         0  \n",
        "21         1  \n",
        "22         1  \n",
        "23         1  \n",
        "24         0  \n",
        "25         1  \n",
        "26         0  \n",
        "27         0  \n",
        "28         1  \n",
        "29         0  \n",
        "30         0  \n",
        "31         1  \n",
        "32         1  \n",
        "33         0  \n",
        "34         0  \n",
        "35         0  \n",
        "36         1  \n",
        "37         0  \n",
        "38         0  \n",
        "39         1  \n",
        "40         0  \n",
        "41         0  \n",
        "42         0  \n",
        "43         1  \n",
        "44         1  \n",
        "45         0  \n",
        "46         0  \n",
        "47         1  \n",
        "48         0  \n",
        "49         0  "
       ]
      }
     ],
     "prompt_number": 55
    },
    {
     "cell_type": "heading",
     "level": 1,
     "metadata": {},
     "source": [
      "Change none-numerical data to numerical data"
     ]
    },
    {
     "cell_type": "code",
     "collapsed": false,
     "input": [
      "npData[npData[:,2] == 'male', 2]= 1\n",
      "npData[npData[:,2] == 'female', 2] = 0\n",
      "\n",
      "npData[npData[:,7] == 'C', 7]= 0\n",
      "npData[npData[:,7] == 'Q', 7]= 1\n",
      "npData[npData[:,7] == 'S', 7]= 2\n",
      "\n",
      "npFloatData = npData[:,1:].astype(np.float32)\n",
      "npData.shape, npFloatData.shape"
     ],
     "language": "python",
     "metadata": {},
     "outputs": [
      {
       "metadata": {},
       "output_type": "pyout",
       "prompt_number": 64,
       "text": [
        "((891, 9), (891, 8))"
       ]
      }
     ],
     "prompt_number": 64
    },
    {
     "cell_type": "code",
     "collapsed": false,
     "input": [
      "npFloatData = npFloatData[ ~ np.isnan( np.sum(npFloatData, axis=1))]\n",
      "npFloatData, npFloatData.shape"
     ],
     "language": "python",
     "metadata": {},
     "outputs": [
      {
       "metadata": {},
       "output_type": "pyout",
       "prompt_number": 65,
       "text": [
        "(array([[  3.        ,   1.        ,  22.        , ...,   7.25      ,\n",
        "           2.        ,   0.        ],\n",
        "        [  1.        ,   0.        ,  38.        , ...,  71.28330231,\n",
        "           0.        ,   1.        ],\n",
        "        [  3.        ,   0.        ,  26.        , ...,   7.92500019,\n",
        "           2.        ,   1.        ],\n",
        "        ..., \n",
        "        [  1.        ,   0.        ,  19.        , ...,  30.        ,\n",
        "           2.        ,   1.        ],\n",
        "        [  1.        ,   1.        ,  26.        , ...,  30.        ,\n",
        "           0.        ,   1.        ],\n",
        "        [  3.        ,   1.        ,  32.        , ...,   7.75      ,\n",
        "           1.        ,   0.        ]], dtype=float32), (712, 8))"
       ]
      }
     ],
     "prompt_number": 65
    },
    {
     "cell_type": "heading",
     "level": 1,
     "metadata": {},
     "source": [
      "Now Input Data is READY!!!!!"
     ]
    },
    {
     "cell_type": "markdown",
     "metadata": {},
     "source": [
      "Now Prepare **Tensorflow**"
     ]
    },
    {
     "cell_type": "code",
     "collapsed": false,
     "input": [
      "import tensorflow as tf"
     ],
     "language": "python",
     "metadata": {},
     "outputs": [],
     "prompt_number": 66
    },
    {
     "cell_type": "code",
     "collapsed": false,
     "input": [
      "sess = tf.InteractiveSession()"
     ],
     "language": "python",
     "metadata": {},
     "outputs": [],
     "prompt_number": 67
    },
    {
     "cell_type": "code",
     "collapsed": false,
     "input": [
      "x = tf.placeholder(dtype=tf.float32, shape=[None, 7])\n",
      "y_ = tf.placeholder(dtype=tf.float32, shape = [None, 1])"
     ],
     "language": "python",
     "metadata": {},
     "outputs": [],
     "prompt_number": 68
    },
    {
     "cell_type": "code",
     "collapsed": false,
     "input": [
      "w1 = tf.Variable(tf.random_normal([7, 14], stddev=0.001))\n",
      "b1 = tf.Variable(tf.random_normal([14], stddev=0.001))\n",
      "\n",
      "w2 = tf.Variable(tf.random_normal([14, 1], stddev=0.001))\n",
      "b2 = tf.Variable(tf.random_normal([1], stddev=0.001))\n",
      "\n",
      "tf.global_variables_initializer().run()"
     ],
     "language": "python",
     "metadata": {},
     "outputs": [],
     "prompt_number": 69
    },
    {
     "cell_type": "markdown",
     "metadata": {},
     "source": [
      "Initialized \ub410\ub294\uc9c0 \ud655\uc778\ud558\uae30"
     ]
    },
    {
     "cell_type": "code",
     "collapsed": false,
     "input": [
      "w1.eval(), b1.eval(), w2.eval(), b2.eval()"
     ],
     "language": "python",
     "metadata": {},
     "outputs": [
      {
       "metadata": {},
       "output_type": "pyout",
       "prompt_number": 70,
       "text": [
        "(array([[ -6.90606772e-04,  -7.56144727e-05,  -6.20045001e-04,\n",
        "           1.02386251e-03,  -7.21178192e-04,  -6.60550955e-04,\n",
        "          -7.06567604e-04,   8.34981096e-04,   3.18465405e-04,\n",
        "           1.28897221e-03,  -6.28476788e-04,  -1.27946842e-03,\n",
        "           2.36490305e-04,  -6.02185428e-05],\n",
        "        [  8.14450555e-04,  -7.94183114e-04,  -1.18272949e-03,\n",
        "           3.97459284e-04,  -1.47614011e-03,   1.54170149e-03,\n",
        "           1.01954420e-03,   1.33563892e-03,   1.44149852e-03,\n",
        "           1.67195033e-03,  -2.18331304e-04,   3.58274148e-04,\n",
        "          -4.89525264e-04,  -4.41450335e-04],\n",
        "        [ -4.97119792e-04,   5.01017726e-04,  -8.69195850e-04,\n",
        "          -5.85751201e-04,  -1.28880820e-05,  -2.70482298e-04,\n",
        "           2.69563287e-04,  -4.12205438e-04,  -1.65128580e-03,\n",
        "          -1.82362666e-04,   3.09716631e-03,  -9.13154741e-04,\n",
        "           2.09432514e-03,   1.69944775e-03],\n",
        "        [  7.82799674e-04,  -1.33247802e-03,   7.55648129e-04,\n",
        "           7.08454521e-04,  -1.43718161e-03,   6.65505650e-05,\n",
        "          -3.91582726e-04,   1.49964297e-03,   9.62490740e-04,\n",
        "          -3.03661975e-04,  -6.78419019e-04,   1.12159923e-03,\n",
        "           8.05139949e-04,   6.04525325e-04],\n",
        "        [  1.59522495e-03,   1.78894470e-03,  -1.41531450e-03,\n",
        "          -1.72646847e-04,  -7.15388625e-04,   6.68020366e-05,\n",
        "          -1.38194452e-03,  -5.02283685e-04,   5.93157136e-04,\n",
        "           7.29233434e-04,  -1.35540628e-04,   2.24935560e-04,\n",
        "           6.03055996e-05,  -7.57999835e-04],\n",
        "        [  2.10632384e-03,  -4.13611822e-04,   1.00825971e-03,\n",
        "           8.69870302e-04,   7.99251022e-04,  -4.92857180e-05,\n",
        "           2.23212922e-03,  -1.49480777e-03,  -1.51050539e-04,\n",
        "          -1.06365315e-03,  -8.24415998e-04,   1.95445237e-03,\n",
        "           8.42522277e-05,   1.29946379e-03],\n",
        "        [ -1.35625037e-03,   1.00343581e-03,  -1.16244005e-03,\n",
        "          -2.98774772e-04,  -2.26072990e-03,   3.33697302e-04,\n",
        "          -2.86394352e-04,  -8.19341454e-04,  -1.24290143e-03,\n",
        "          -1.24456346e-04,   9.53927811e-04,  -1.09500100e-03,\n",
        "           1.60029181e-03,  -1.59200642e-03]], dtype=float32),\n",
        " array([-0.00026552,  0.00158743, -0.0010881 , -0.00187458, -0.00054975,\n",
        "        -0.00042795,  0.00093184,  0.00055989,  0.00023322, -0.00063722,\n",
        "        -0.000398  , -0.00024712,  0.0002978 , -0.00086028], dtype=float32),\n",
        " array([[ -3.25337809e-04],\n",
        "        [  1.49484127e-04],\n",
        "        [  7.78084388e-04],\n",
        "        [  2.90518889e-04],\n",
        "        [  5.14903455e-04],\n",
        "        [  5.13546111e-04],\n",
        "        [  6.62368373e-04],\n",
        "        [ -1.87305646e-04],\n",
        "        [  4.91467130e-04],\n",
        "        [ -4.13744594e-04],\n",
        "        [ -9.26355460e-06],\n",
        "        [  1.87906122e-03],\n",
        "        [  1.81027071e-03],\n",
        "        [  1.20346656e-03]], dtype=float32),\n",
        " array([ 0.00041089], dtype=float32))"
       ]
      }
     ],
     "prompt_number": 70
    },
    {
     "cell_type": "markdown",
     "metadata": {},
     "source": [
      "**1st Layer**"
     ]
    },
    {
     "cell_type": "code",
     "collapsed": false,
     "input": [
      "y1 = tf.matmul(x, w1) + b1\n",
      "x1 = tf.nn.sigmoid(y1)"
     ],
     "language": "python",
     "metadata": {},
     "outputs": [],
     "prompt_number": 71
    },
    {
     "cell_type": "markdown",
     "metadata": {},
     "source": [
      "**2nd Layer**"
     ]
    },
    {
     "cell_type": "code",
     "collapsed": false,
     "input": [
      "y = tf.matmul(x1, w2) + b2\n"
     ],
     "language": "python",
     "metadata": {},
     "outputs": [],
     "prompt_number": 72
    },
    {
     "cell_type": "markdown",
     "metadata": {},
     "source": [
      "**Loss**"
     ]
    },
    {
     "cell_type": "code",
     "collapsed": false,
     "input": [
      "arrLoss = tf.nn.sigmoid_cross_entropy_with_logits(labels=y_, logits=y)"
     ],
     "language": "python",
     "metadata": {},
     "outputs": [],
     "prompt_number": 73
    },
    {
     "cell_type": "code",
     "collapsed": false,
     "input": [
      "loss = tf.reduce_mean(arrLoss)"
     ],
     "language": "python",
     "metadata": {},
     "outputs": [],
     "prompt_number": 74
    },
    {
     "cell_type": "code",
     "collapsed": false,
     "input": [
      "eval_y = y.eval(feed_dict={x:npFloatData[:100, :7] , y_:npFloatData[:100, 7].reshape((-1, 1))})"
     ],
     "language": "python",
     "metadata": {},
     "outputs": [],
     "prompt_number": 75
    },
    {
     "cell_type": "code",
     "collapsed": false,
     "input": [
      "npFloatData[:100, :7]"
     ],
     "language": "python",
     "metadata": {},
     "outputs": [
      {
       "metadata": {},
       "output_type": "pyout",
       "prompt_number": 76,
       "text": [
        "array([[   3.        ,    1.        ,   22.        ,    1.        ,\n",
        "           0.        ,    7.25      ,    2.        ],\n",
        "       [   1.        ,    0.        ,   38.        ,    1.        ,\n",
        "           0.        ,   71.28330231,    0.        ],\n",
        "       [   3.        ,    0.        ,   26.        ,    0.        ,\n",
        "           0.        ,    7.92500019,    2.        ],\n",
        "       [   1.        ,    0.        ,   35.        ,    1.        ,\n",
        "           0.        ,   53.09999847,    2.        ],\n",
        "       [   3.        ,    1.        ,   35.        ,    0.        ,\n",
        "           0.        ,    8.05000019,    2.        ],\n",
        "       [   1.        ,    1.        ,   54.        ,    0.        ,\n",
        "           0.        ,   51.86249924,    2.        ],\n",
        "       [   3.        ,    1.        ,    2.        ,    3.        ,\n",
        "           1.        ,   21.07500076,    2.        ],\n",
        "       [   3.        ,    0.        ,   27.        ,    0.        ,\n",
        "           2.        ,   11.13329983,    2.        ],\n",
        "       [   2.        ,    0.        ,   14.        ,    1.        ,\n",
        "           0.        ,   30.07080078,    0.        ],\n",
        "       [   3.        ,    0.        ,    4.        ,    1.        ,\n",
        "           1.        ,   16.70000076,    2.        ],\n",
        "       [   1.        ,    0.        ,   58.        ,    0.        ,\n",
        "           0.        ,   26.54999924,    2.        ],\n",
        "       [   3.        ,    1.        ,   20.        ,    0.        ,\n",
        "           0.        ,    8.05000019,    2.        ],\n",
        "       [   3.        ,    1.        ,   39.        ,    1.        ,\n",
        "           5.        ,   31.27499962,    2.        ],\n",
        "       [   3.        ,    0.        ,   14.        ,    0.        ,\n",
        "           0.        ,    7.85419989,    2.        ],\n",
        "       [   2.        ,    0.        ,   55.        ,    0.        ,\n",
        "           0.        ,   16.        ,    2.        ],\n",
        "       [   3.        ,    1.        ,    2.        ,    4.        ,\n",
        "           1.        ,   29.125     ,    1.        ],\n",
        "       [   3.        ,    0.        ,   31.        ,    1.        ,\n",
        "           0.        ,   18.        ,    2.        ],\n",
        "       [   2.        ,    1.        ,   35.        ,    0.        ,\n",
        "           0.        ,   26.        ,    2.        ],\n",
        "       [   2.        ,    1.        ,   34.        ,    0.        ,\n",
        "           0.        ,   13.        ,    2.        ],\n",
        "       [   3.        ,    0.        ,   15.        ,    0.        ,\n",
        "           0.        ,    8.0291996 ,    1.        ],\n",
        "       [   1.        ,    1.        ,   28.        ,    0.        ,\n",
        "           0.        ,   35.5       ,    2.        ],\n",
        "       [   3.        ,    0.        ,    8.        ,    3.        ,\n",
        "           1.        ,   21.07500076,    2.        ],\n",
        "       [   3.        ,    0.        ,   38.        ,    1.        ,\n",
        "           5.        ,   31.38750076,    2.        ],\n",
        "       [   1.        ,    1.        ,   19.        ,    3.        ,\n",
        "           2.        ,  263.        ,    2.        ],\n",
        "       [   1.        ,    1.        ,   40.        ,    0.        ,\n",
        "           0.        ,   27.7208004 ,    0.        ],\n",
        "       [   2.        ,    1.        ,   66.        ,    0.        ,\n",
        "           0.        ,   10.5       ,    2.        ],\n",
        "       [   1.        ,    1.        ,   28.        ,    1.        ,\n",
        "           0.        ,   82.17079926,    0.        ],\n",
        "       [   1.        ,    1.        ,   42.        ,    1.        ,\n",
        "           0.        ,   52.        ,    2.        ],\n",
        "       [   3.        ,    1.        ,   21.        ,    0.        ,\n",
        "           0.        ,    8.05000019,    2.        ],\n",
        "       [   3.        ,    0.        ,   18.        ,    2.        ,\n",
        "           0.        ,   18.        ,    2.        ],\n",
        "       [   3.        ,    0.        ,   14.        ,    1.        ,\n",
        "           0.        ,   11.24170017,    0.        ],\n",
        "       [   3.        ,    0.        ,   40.        ,    1.        ,\n",
        "           0.        ,    9.47500038,    2.        ],\n",
        "       [   2.        ,    0.        ,   27.        ,    1.        ,\n",
        "           0.        ,   21.        ,    2.        ],\n",
        "       [   2.        ,    0.        ,    3.        ,    1.        ,\n",
        "           2.        ,   41.57920074,    0.        ],\n",
        "       [   3.        ,    0.        ,   19.        ,    0.        ,\n",
        "           0.        ,    7.87919998,    1.        ],\n",
        "       [   3.        ,    0.        ,   18.        ,    1.        ,\n",
        "           0.        ,   17.79999924,    2.        ],\n",
        "       [   3.        ,    1.        ,    7.        ,    4.        ,\n",
        "           1.        ,   39.6875    ,    2.        ],\n",
        "       [   3.        ,    1.        ,   21.        ,    0.        ,\n",
        "           0.        ,    7.80000019,    2.        ],\n",
        "       [   1.        ,    0.        ,   49.        ,    1.        ,\n",
        "           0.        ,   76.72920227,    0.        ],\n",
        "       [   2.        ,    0.        ,   29.        ,    1.        ,\n",
        "           0.        ,   26.        ,    2.        ],\n",
        "       [   1.        ,    1.        ,   65.        ,    0.        ,\n",
        "           1.        ,   61.97919846,    0.        ],\n",
        "       [   2.        ,    0.        ,   21.        ,    0.        ,\n",
        "           0.        ,   10.5       ,    2.        ],\n",
        "       [   3.        ,    1.        ,   28.5       ,    0.        ,\n",
        "           0.        ,    7.22919989,    0.        ],\n",
        "       [   2.        ,    0.        ,    5.        ,    1.        ,\n",
        "           2.        ,   27.75      ,    2.        ],\n",
        "       [   3.        ,    1.        ,   11.        ,    5.        ,\n",
        "           2.        ,   46.90000153,    2.        ],\n",
        "       [   3.        ,    1.        ,   22.        ,    0.        ,\n",
        "           0.        ,    7.22919989,    0.        ],\n",
        "       [   1.        ,    1.        ,   45.        ,    1.        ,\n",
        "           0.        ,   83.47499847,    2.        ],\n",
        "       [   3.        ,    1.        ,    4.        ,    3.        ,\n",
        "           2.        ,   27.89999962,    2.        ],\n",
        "       [   2.        ,    0.        ,   29.        ,    0.        ,\n",
        "           0.        ,   10.5       ,    2.        ],\n",
        "       [   3.        ,    1.        ,   19.        ,    0.        ,\n",
        "           0.        ,    8.1583004 ,    2.        ],\n",
        "       [   3.        ,    0.        ,   17.        ,    4.        ,\n",
        "           2.        ,    7.92500019,    2.        ],\n",
        "       [   3.        ,    1.        ,   26.        ,    2.        ,\n",
        "           0.        ,    8.66250038,    2.        ],\n",
        "       [   2.        ,    1.        ,   32.        ,    0.        ,\n",
        "           0.        ,   10.5       ,    2.        ],\n",
        "       [   3.        ,    0.        ,   16.        ,    5.        ,\n",
        "           2.        ,   46.90000153,    2.        ],\n",
        "       [   2.        ,    1.        ,   21.        ,    0.        ,\n",
        "           0.        ,   73.5       ,    2.        ],\n",
        "       [   3.        ,    1.        ,   26.        ,    1.        ,\n",
        "           0.        ,   14.45419979,    0.        ],\n",
        "       [   3.        ,    1.        ,   32.        ,    0.        ,\n",
        "           0.        ,   56.49580002,    2.        ],\n",
        "       [   3.        ,    1.        ,   25.        ,    0.        ,\n",
        "           0.        ,    7.6500001 ,    2.        ],\n",
        "       [   2.        ,    1.        ,    0.82999998,    0.        ,\n",
        "           2.        ,   29.        ,    2.        ],\n",
        "       [   3.        ,    0.        ,   30.        ,    0.        ,\n",
        "           0.        ,   12.47500038,    2.        ],\n",
        "       [   3.        ,    1.        ,   22.        ,    0.        ,\n",
        "           0.        ,    9.        ,    2.        ],\n",
        "       [   3.        ,    1.        ,   29.        ,    0.        ,\n",
        "           0.        ,    9.5       ,    2.        ],\n",
        "       [   1.        ,    1.        ,   28.        ,    0.        ,\n",
        "           0.        ,   47.09999847,    2.        ],\n",
        "       [   2.        ,    0.        ,   17.        ,    0.        ,\n",
        "           0.        ,   10.5       ,    2.        ],\n",
        "       [   3.        ,    0.        ,   33.        ,    3.        ,\n",
        "           0.        ,   15.85000038,    2.        ],\n",
        "       [   3.        ,    1.        ,   16.        ,    1.        ,\n",
        "           3.        ,   34.375     ,    2.        ],\n",
        "       [   1.        ,    0.        ,   23.        ,    3.        ,\n",
        "           2.        ,  263.        ,    2.        ],\n",
        "       [   3.        ,    1.        ,   24.        ,    0.        ,\n",
        "           0.        ,    8.05000019,    2.        ],\n",
        "       [   3.        ,    1.        ,   29.        ,    0.        ,\n",
        "           0.        ,    8.05000019,    2.        ],\n",
        "       [   3.        ,    1.        ,   20.        ,    0.        ,\n",
        "           0.        ,    7.85419989,    2.        ],\n",
        "       [   1.        ,    1.        ,   46.        ,    1.        ,\n",
        "           0.        ,   61.17499924,    2.        ],\n",
        "       [   3.        ,    1.        ,   26.        ,    1.        ,\n",
        "           2.        ,   20.57500076,    2.        ],\n",
        "       [   3.        ,    1.        ,   59.        ,    0.        ,\n",
        "           0.        ,    7.25      ,    2.        ],\n",
        "       [   1.        ,    1.        ,   71.        ,    0.        ,\n",
        "           0.        ,   34.65420151,    0.        ],\n",
        "       [   1.        ,    1.        ,   23.        ,    0.        ,\n",
        "           1.        ,   63.35829926,    0.        ],\n",
        "       [   2.        ,    0.        ,   34.        ,    0.        ,\n",
        "           1.        ,   23.        ,    2.        ],\n",
        "       [   2.        ,    1.        ,   34.        ,    1.        ,\n",
        "           0.        ,   26.        ,    2.        ],\n",
        "       [   3.        ,    0.        ,   28.        ,    0.        ,\n",
        "           0.        ,    7.89580011,    2.        ],\n",
        "       [   1.        ,    1.        ,   21.        ,    0.        ,\n",
        "           1.        ,   77.28749847,    2.        ],\n",
        "       [   3.        ,    1.        ,   33.        ,    0.        ,\n",
        "           0.        ,    8.6541996 ,    2.        ],\n",
        "       [   3.        ,    1.        ,   37.        ,    2.        ,\n",
        "           0.        ,    7.92500019,    2.        ],\n",
        "       [   3.        ,    1.        ,   28.        ,    0.        ,\n",
        "           0.        ,    7.89580011,    2.        ],\n",
        "       [   3.        ,    0.        ,   21.        ,    0.        ,\n",
        "           0.        ,    7.6500001 ,    2.        ],\n",
        "       [   3.        ,    1.        ,   38.        ,    0.        ,\n",
        "           0.        ,    7.89580011,    2.        ],\n",
        "       [   1.        ,    1.        ,   47.        ,    0.        ,\n",
        "           0.        ,   52.        ,    2.        ],\n",
        "       [   3.        ,    0.        ,   14.5       ,    1.        ,\n",
        "           0.        ,   14.45419979,    0.        ],\n",
        "       [   3.        ,    1.        ,   22.        ,    0.        ,\n",
        "           0.        ,    8.05000019,    2.        ],\n",
        "       [   3.        ,    0.        ,   20.        ,    1.        ,\n",
        "           0.        ,    9.82499981,    2.        ],\n",
        "       [   3.        ,    0.        ,   17.        ,    0.        ,\n",
        "           0.        ,   14.45829964,    0.        ],\n",
        "       [   3.        ,    1.        ,   21.        ,    0.        ,\n",
        "           0.        ,    7.92500019,    2.        ],\n",
        "       [   3.        ,    1.        ,   70.5       ,    0.        ,\n",
        "           0.        ,    7.75      ,    1.        ],\n",
        "       [   2.        ,    1.        ,   29.        ,    1.        ,\n",
        "           0.        ,   21.        ,    2.        ],\n",
        "       [   1.        ,    1.        ,   24.        ,    0.        ,\n",
        "           1.        ,  247.52079773,    0.        ],\n",
        "       [   3.        ,    0.        ,    2.        ,    4.        ,\n",
        "           2.        ,   31.27499962,    2.        ],\n",
        "       [   2.        ,    1.        ,   21.        ,    2.        ,\n",
        "           0.        ,   73.5       ,    2.        ],\n",
        "       [   2.        ,    1.        ,   32.5       ,    1.        ,\n",
        "           0.        ,   30.07080078,    0.        ],\n",
        "       [   2.        ,    0.        ,   32.5       ,    0.        ,\n",
        "           0.        ,   13.        ,    2.        ],\n",
        "       [   1.        ,    1.        ,   54.        ,    0.        ,\n",
        "           1.        ,   77.28749847,    2.        ],\n",
        "       [   3.        ,    1.        ,   12.        ,    1.        ,\n",
        "           0.        ,   11.24170017,    0.        ],\n",
        "       [   3.        ,    1.        ,   24.        ,    0.        ,\n",
        "           0.        ,    7.14169979,    2.        ]], dtype=float32)"
       ]
      }
     ],
     "prompt_number": 76
    },
    {
     "cell_type": "code",
     "collapsed": false,
     "input": [
      "loss.eval(feed_dict={x:npFloatData[:100, :7] , y_:npFloatData[:100, 7].reshape((-1, 1))})"
     ],
     "language": "python",
     "metadata": {},
     "outputs": [
      {
       "metadata": {},
       "output_type": "pyout",
       "prompt_number": 77,
       "text": [
        "0.69381797"
       ]
      }
     ],
     "prompt_number": 77
    },
    {
     "cell_type": "markdown",
     "metadata": {},
     "source": [
      "**Config Train Step**"
     ]
    },
    {
     "cell_type": "markdown",
     "metadata": {},
     "source": [
      "*optimizer*"
     ]
    },
    {
     "cell_type": "code",
     "collapsed": false,
     "input": [
      "optimizer = tf.train.GradientDescentOptimizer(0.001)"
     ],
     "language": "python",
     "metadata": {},
     "outputs": [],
     "prompt_number": 82
    },
    {
     "cell_type": "code",
     "collapsed": false,
     "input": [
      "train = optimizer.minimize(loss)"
     ],
     "language": "python",
     "metadata": {},
     "outputs": [],
     "prompt_number": 83
    },
    {
     "cell_type": "markdown",
     "metadata": {},
     "source": [
      "\ud3c9\uac00"
     ]
    },
    {
     "cell_type": "code",
     "collapsed": false,
     "input": [],
     "language": "python",
     "metadata": {},
     "outputs": [],
     "prompt_number": 83
    },
    {
     "cell_type": "markdown",
     "metadata": {},
     "source": [
      "**Do Train**"
     ]
    },
    {
     "cell_type": "code",
     "collapsed": false,
     "input": [
      "tf.global_variables_initializer().run()"
     ],
     "language": "python",
     "metadata": {},
     "outputs": [],
     "prompt_number": 84
    },
    {
     "cell_type": "code",
     "collapsed": false,
     "input": [
      "for i in range(100000):\n",
      "    rand_index = np.random.randint(700, size=100)\n",
      "    feed = {x:npFloatData[rand_index, :7], y_:npFloatData[rand_index, 7].reshape((-1, 1))}\n",
      "    sess.run(train, feed_dict=feed)\n",
      "    if not i % 1000:\n",
      "        print(i, loss.eval(feed_dict=feed))"
     ],
     "language": "python",
     "metadata": {},
     "outputs": [
      {
       "output_type": "stream",
       "stream": "stdout",
       "text": [
        "0 0.5706\n",
        "1000"
       ]
      },
      {
       "output_type": "stream",
       "stream": "stdout",
       "text": [
        " 0.480716\n",
        "2000"
       ]
      },
      {
       "output_type": "stream",
       "stream": "stdout",
       "text": [
        " 0.614595\n",
        "3000"
       ]
      },
      {
       "output_type": "stream",
       "stream": "stdout",
       "text": [
        " 0.545207\n",
        "4000"
       ]
      },
      {
       "output_type": "stream",
       "stream": "stdout",
       "text": [
        " 0.594697\n",
        "5000"
       ]
      },
      {
       "output_type": "stream",
       "stream": "stdout",
       "text": [
        " 0.582704\n",
        "6000"
       ]
      },
      {
       "output_type": "stream",
       "stream": "stdout",
       "text": [
        " 0.538639\n",
        "7000"
       ]
      },
      {
       "output_type": "stream",
       "stream": "stdout",
       "text": [
        " 0.571768\n",
        "8000"
       ]
      },
      {
       "output_type": "stream",
       "stream": "stdout",
       "text": [
        " 0.559743\n",
        "9000"
       ]
      },
      {
       "output_type": "stream",
       "stream": "stdout",
       "text": [
        " 0.525585\n",
        "10000"
       ]
      },
      {
       "output_type": "stream",
       "stream": "stdout",
       "text": [
        " 0.534952\n",
        "11000"
       ]
      },
      {
       "output_type": "stream",
       "stream": "stdout",
       "text": [
        " 0.540698\n",
        "12000"
       ]
      },
      {
       "output_type": "stream",
       "stream": "stdout",
       "text": [
        " 0.555276\n",
        "13000"
       ]
      },
      {
       "output_type": "stream",
       "stream": "stdout",
       "text": [
        " 0.499337\n",
        "14000"
       ]
      },
      {
       "output_type": "stream",
       "stream": "stdout",
       "text": [
        " 0.645954\n",
        "15000"
       ]
      },
      {
       "output_type": "stream",
       "stream": "stdout",
       "text": [
        " 0.636545\n",
        "16000"
       ]
      },
      {
       "output_type": "stream",
       "stream": "stdout",
       "text": [
        " 0.628338\n",
        "17000"
       ]
      },
      {
       "output_type": "stream",
       "stream": "stdout",
       "text": [
        " 0.521285\n",
        "18000"
       ]
      },
      {
       "output_type": "stream",
       "stream": "stdout",
       "text": [
        " 0.524867\n",
        "19000"
       ]
      },
      {
       "output_type": "stream",
       "stream": "stdout",
       "text": [
        " 0.549471\n",
        "20000"
       ]
      },
      {
       "output_type": "stream",
       "stream": "stdout",
       "text": [
        " 0.52755\n",
        "21000"
       ]
      },
      {
       "output_type": "stream",
       "stream": "stdout",
       "text": [
        " 0.576139\n",
        "22000"
       ]
      },
      {
       "output_type": "stream",
       "stream": "stdout",
       "text": [
        " 0.533867\n",
        "23000"
       ]
      },
      {
       "output_type": "stream",
       "stream": "stdout",
       "text": [
        " 0.531013\n",
        "24000"
       ]
      },
      {
       "output_type": "stream",
       "stream": "stdout",
       "text": [
        " 0.461138\n",
        "25000"
       ]
      },
      {
       "output_type": "stream",
       "stream": "stdout",
       "text": [
        " 0.50548\n",
        "26000"
       ]
      },
      {
       "output_type": "stream",
       "stream": "stdout",
       "text": [
        " 0.524073\n",
        "27000"
       ]
      },
      {
       "output_type": "stream",
       "stream": "stdout",
       "text": [
        " 0.513318\n",
        "28000"
       ]
      },
      {
       "output_type": "stream",
       "stream": "stdout",
       "text": [
        " 0.480465\n",
        "29000"
       ]
      },
      {
       "output_type": "stream",
       "stream": "stdout",
       "text": [
        " 0.496344\n",
        "30000"
       ]
      },
      {
       "output_type": "stream",
       "stream": "stdout",
       "text": [
        " 0.55177\n",
        "31000"
       ]
      },
      {
       "output_type": "stream",
       "stream": "stdout",
       "text": [
        " 0.48663\n",
        "32000"
       ]
      },
      {
       "output_type": "stream",
       "stream": "stdout",
       "text": [
        " 0.58817\n",
        "33000"
       ]
      },
      {
       "output_type": "stream",
       "stream": "stdout",
       "text": [
        " 0.530227\n",
        "34000"
       ]
      },
      {
       "output_type": "stream",
       "stream": "stdout",
       "text": [
        " 0.506837\n",
        "35000"
       ]
      },
      {
       "output_type": "stream",
       "stream": "stdout",
       "text": [
        " 0.477309\n",
        "36000"
       ]
      },
      {
       "output_type": "stream",
       "stream": "stdout",
       "text": [
        " 0.559963\n",
        "37000"
       ]
      },
      {
       "output_type": "stream",
       "stream": "stdout",
       "text": [
        " 0.553214\n",
        "38000"
       ]
      },
      {
       "output_type": "stream",
       "stream": "stdout",
       "text": [
        " 0.475673\n",
        "39000"
       ]
      },
      {
       "output_type": "stream",
       "stream": "stdout",
       "text": [
        " 0.497613\n",
        "40000"
       ]
      },
      {
       "output_type": "stream",
       "stream": "stdout",
       "text": [
        " 0.511907\n",
        "41000"
       ]
      },
      {
       "output_type": "stream",
       "stream": "stdout",
       "text": [
        " 0.561387\n",
        "42000"
       ]
      },
      {
       "output_type": "stream",
       "stream": "stdout",
       "text": [
        " 0.524853\n",
        "43000"
       ]
      },
      {
       "output_type": "stream",
       "stream": "stdout",
       "text": [
        " 0.52579\n",
        "44000"
       ]
      },
      {
       "output_type": "stream",
       "stream": "stdout",
       "text": [
        " 0.521247\n",
        "45000"
       ]
      },
      {
       "output_type": "stream",
       "stream": "stdout",
       "text": [
        " 0.54503\n",
        "46000"
       ]
      },
      {
       "output_type": "stream",
       "stream": "stdout",
       "text": [
        " 0.473788\n",
        "47000"
       ]
      },
      {
       "output_type": "stream",
       "stream": "stdout",
       "text": [
        " 0.487986\n",
        "48000"
       ]
      },
      {
       "output_type": "stream",
       "stream": "stdout",
       "text": [
        " 0.500965\n",
        "49000"
       ]
      },
      {
       "output_type": "stream",
       "stream": "stdout",
       "text": [
        " 0.461834\n",
        "50000"
       ]
      },
      {
       "output_type": "stream",
       "stream": "stdout",
       "text": [
        " 0.593281\n",
        "51000"
       ]
      },
      {
       "output_type": "stream",
       "stream": "stdout",
       "text": [
        " 0.547348\n",
        "52000"
       ]
      },
      {
       "output_type": "stream",
       "stream": "stdout",
       "text": [
        " 0.531734\n",
        "53000"
       ]
      },
      {
       "output_type": "stream",
       "stream": "stdout",
       "text": [
        " 0.515641\n",
        "54000"
       ]
      },
      {
       "output_type": "stream",
       "stream": "stdout",
       "text": [
        " 0.452538\n",
        "55000"
       ]
      },
      {
       "output_type": "stream",
       "stream": "stdout",
       "text": [
        " 0.552311\n",
        "56000"
       ]
      },
      {
       "output_type": "stream",
       "stream": "stdout",
       "text": [
        " 0.533082\n",
        "57000"
       ]
      },
      {
       "output_type": "stream",
       "stream": "stdout",
       "text": [
        " 0.497628\n",
        "58000"
       ]
      },
      {
       "output_type": "stream",
       "stream": "stdout",
       "text": [
        " 0.552884\n",
        "59000"
       ]
      },
      {
       "output_type": "stream",
       "stream": "stdout",
       "text": [
        " 0.549462\n",
        "60000"
       ]
      },
      {
       "output_type": "stream",
       "stream": "stdout",
       "text": [
        " 0.501065\n",
        "61000"
       ]
      },
      {
       "output_type": "stream",
       "stream": "stdout",
       "text": [
        " 0.535584\n",
        "62000"
       ]
      },
      {
       "output_type": "stream",
       "stream": "stdout",
       "text": [
        " 0.498051\n",
        "63000"
       ]
      },
      {
       "output_type": "stream",
       "stream": "stdout",
       "text": [
        " 0.535497\n",
        "64000"
       ]
      },
      {
       "output_type": "stream",
       "stream": "stdout",
       "text": [
        " 0.505369\n",
        "65000"
       ]
      },
      {
       "output_type": "stream",
       "stream": "stdout",
       "text": [
        " 0.552558\n",
        "66000"
       ]
      },
      {
       "output_type": "stream",
       "stream": "stdout",
       "text": [
        " 0.505489\n",
        "67000"
       ]
      },
      {
       "output_type": "stream",
       "stream": "stdout",
       "text": [
        " 0.56704\n",
        "68000"
       ]
      },
      {
       "output_type": "stream",
       "stream": "stdout",
       "text": [
        " 0.467538\n",
        "69000"
       ]
      },
      {
       "output_type": "stream",
       "stream": "stdout",
       "text": [
        " 0.505635\n",
        "70000"
       ]
      },
      {
       "output_type": "stream",
       "stream": "stdout",
       "text": [
        " 0.528161\n",
        "71000"
       ]
      },
      {
       "output_type": "stream",
       "stream": "stdout",
       "text": [
        " 0.49701\n",
        "72000"
       ]
      },
      {
       "output_type": "stream",
       "stream": "stdout",
       "text": [
        " 0.517284\n",
        "73000"
       ]
      },
      {
       "output_type": "stream",
       "stream": "stdout",
       "text": [
        " 0.485725\n",
        "74000"
       ]
      },
      {
       "output_type": "stream",
       "stream": "stdout",
       "text": [
        " 0.529824\n",
        "75000"
       ]
      },
      {
       "output_type": "stream",
       "stream": "stdout",
       "text": [
        " 0.515047\n",
        "76000"
       ]
      },
      {
       "output_type": "stream",
       "stream": "stdout",
       "text": [
        " 0.500915\n",
        "77000"
       ]
      },
      {
       "output_type": "stream",
       "stream": "stdout",
       "text": [
        " 0.545575\n",
        "78000"
       ]
      },
      {
       "output_type": "stream",
       "stream": "stdout",
       "text": [
        " 0.430431\n",
        "79000"
       ]
      },
      {
       "output_type": "stream",
       "stream": "stdout",
       "text": [
        " 0.469241\n",
        "80000"
       ]
      },
      {
       "output_type": "stream",
       "stream": "stdout",
       "text": [
        " 0.493668\n",
        "81000"
       ]
      },
      {
       "output_type": "stream",
       "stream": "stdout",
       "text": [
        " 0.490593\n",
        "82000"
       ]
      },
      {
       "output_type": "stream",
       "stream": "stdout",
       "text": [
        " 0.45915\n",
        "83000"
       ]
      },
      {
       "output_type": "stream",
       "stream": "stdout",
       "text": [
        " 0.547639\n",
        "84000"
       ]
      },
      {
       "output_type": "stream",
       "stream": "stdout",
       "text": [
        " 0.476802\n",
        "85000"
       ]
      },
      {
       "output_type": "stream",
       "stream": "stdout",
       "text": [
        " 0.52546\n",
        "86000"
       ]
      },
      {
       "output_type": "stream",
       "stream": "stdout",
       "text": [
        " 0.490139\n",
        "87000"
       ]
      },
      {
       "output_type": "stream",
       "stream": "stdout",
       "text": [
        " 0.498669\n",
        "88000"
       ]
      },
      {
       "output_type": "stream",
       "stream": "stdout",
       "text": [
        " 0.452432\n",
        "89000"
       ]
      },
      {
       "output_type": "stream",
       "stream": "stdout",
       "text": [
        " 0.476644\n",
        "90000"
       ]
      },
      {
       "output_type": "stream",
       "stream": "stdout",
       "text": [
        " 0.475114\n",
        "91000"
       ]
      },
      {
       "output_type": "stream",
       "stream": "stdout",
       "text": [
        " 0.4953\n",
        "92000"
       ]
      },
      {
       "output_type": "stream",
       "stream": "stdout",
       "text": [
        " 0.476359\n",
        "93000"
       ]
      },
      {
       "output_type": "stream",
       "stream": "stdout",
       "text": [
        " 0.465375\n",
        "94000"
       ]
      },
      {
       "output_type": "stream",
       "stream": "stdout",
       "text": [
        " 0.520516\n",
        "95000"
       ]
      },
      {
       "output_type": "stream",
       "stream": "stdout",
       "text": [
        " 0.474884\n",
        "96000"
       ]
      },
      {
       "output_type": "stream",
       "stream": "stdout",
       "text": [
        " 0.431229\n",
        "97000"
       ]
      },
      {
       "output_type": "stream",
       "stream": "stdout",
       "text": [
        " 0.50551\n",
        "98000"
       ]
      },
      {
       "output_type": "stream",
       "stream": "stdout",
       "text": [
        " 0.555478\n",
        "99000"
       ]
      },
      {
       "output_type": "stream",
       "stream": "stdout",
       "text": [
        " 0.511665\n"
       ]
      }
     ],
     "prompt_number": 87
    },
    {
     "cell_type": "code",
     "collapsed": false,
     "input": [],
     "language": "python",
     "metadata": {},
     "outputs": []
    },
    {
     "cell_type": "code",
     "collapsed": false,
     "input": [],
     "language": "python",
     "metadata": {},
     "outputs": []
    }
   ],
   "metadata": {}
  }
 ]
}